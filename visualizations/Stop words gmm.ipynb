{
 "cells": [
  {
   "cell_type": "code",
   "execution_count": 1,
   "metadata": {},
   "outputs": [],
   "source": [
    "import os\n",
    "import json\n",
    "\n",
    "def get_data(folder_name):\n",
    "    x = []\n",
    "    y = []\n",
    "    positions = []\n",
    "    file_names = []\n",
    "\n",
    "    for file in os.listdir(folder_name):\n",
    "        if file.endswith(\".txt\"):\n",
    "            file_name = os.path.join(folder_name, file[:-4])\n",
    "\n",
    "            file_text = open(file_name + '.txt', encoding='utf8')\n",
    "            try:\n",
    "                file_truth = open(file_name + '.truth', encoding='utf8')\n",
    "\n",
    "                try:\n",
    "                    text = file_text.read()\n",
    "                    truth = json.load(file_truth)\n",
    "                    truth_changes = truth['changes']\n",
    "                    truth_positions = truth['positions']\n",
    "\n",
    "                    x.append(text)\n",
    "                    y.append(truth_changes)\n",
    "                    positions.append(truth_positions)\n",
    "                    file_names.append(file[:-4])\n",
    "                finally:\n",
    "                    file_truth.close()\n",
    "            finally:\n",
    "                file_text.close()\n",
    "\n",
    "    return x, y, positions, file_names"
   ]
  },
  {
   "cell_type": "code",
   "execution_count": 2,
   "metadata": {},
   "outputs": [],
   "source": [
    "from nltk.tokenize import sent_tokenize, word_tokenize\n",
    "def custom_sent_tokenize(text):\n",
    "    sentences = []\n",
    "    paragraphs = [p for p in text.split('\\n') if p]\n",
    "    for paragraph in paragraphs:\n",
    "        sentences.extend(sent_tokenize(paragraph))\n",
    "        \n",
    "    return sentences"
   ]
  },
  {
   "cell_type": "code",
   "execution_count": 3,
   "metadata": {},
   "outputs": [],
   "source": [
    "import pandas as pd\n",
    "\n",
    "TRAINING_DIR = '../data/training'\n",
    "\n",
    "X, y, positions, file_names = get_data(\n",
    "    TRAINING_DIR)\n",
    "df = pd.DataFrame(data={'text': X, 'label': y, 'filename': file_names, 'pos':positions})\n",
    "df['num_sent'] = [len(custom_sent_tokenize(d)) for d in df.text]\n",
    "df['num_splits'] = [len(x) for x in df.pos]"
   ]
  },
  {
   "cell_type": "code",
   "execution_count": 4,
   "metadata": {},
   "outputs": [],
   "source": [
    "from nltk.corpus import stopwords\n",
    "def only_stop_words(text):\n",
    "    result = ''\n",
    "    words = word_tokenize(text.lower())\n",
    "    stop_words = set(stopwords.words('english'))\n",
    "    for w in words:\n",
    "        if w in stop_words:\n",
    "            result=result+' '+ w\n",
    "        \n",
    "    return result"
   ]
  },
  {
   "cell_type": "code",
   "execution_count": 5,
   "metadata": {},
   "outputs": [],
   "source": [
    "def segment_sliding_tokenize(text, n=5):\n",
    "    segments = []\n",
    "    sentences = custom_sent_tokenize(text)\n",
    "    x = len(sentences)\n",
    "    n = min(n, x)\n",
    "    for i in range(0, x-n+1):\n",
    "        segments.append(''.join(sentences[i:i+n]))\n",
    "    \n",
    "    return segments"
   ]
  },
  {
   "cell_type": "code",
   "execution_count": 6,
   "metadata": {},
   "outputs": [],
   "source": [
    "%matplotlib inline\n",
    "import matplotlib.pyplot as plt\n",
    "from sklearn.feature_extraction.text import TfidfVectorizer\n",
    "from sklearn.preprocessing import StandardScaler\n",
    "from sklearn.mixture import GaussianMixture\n",
    "import numpy as np\n",
    "from sklearn.decomposition import TruncatedSVD\n",
    "from mpl_toolkits.mplot3d import Axes3D\n",
    "def stop_word_vectors(row, vect):\n",
    "    scaler = StandardScaler(with_mean=False)\n",
    "\n",
    "    segments = segment_sliding_tokenize(row.text)\n",
    "    train_x = vect.transform([only_stop_words(s) for s in segments])\n",
    "    train_x = scaler.fit_transform(train_x).toarray()\n",
    "    #train_x = TruncatedSVD(n_components=3).fit_transform(train_x)    \n",
    "#     fig = plt.figure(i)  \n",
    "#     ax = Axes3D(fig)\n",
    "#     ax.scatter(train_x[:, 0], train_x[:, 1], train_x[:, 2])\n",
    "    n_components = np.arange(1, 4)\n",
    "    models = [GaussianMixture(n, covariance_type='full', random_state=0).fit(train_x)\n",
    "             for n in n_components]\n",
    "    bics = [m.bic(train_x) for m in models]\n",
    "    best = bics.index(min(bics))\n",
    "    title = 'Clusters: ' + str(row.num_splits + 1) + ' Predicted: ' + str(best + 1)\n",
    "    #plt.title(title)\n",
    "    #print(title)\n",
    "    correct = row.num_splits == best\n",
    "    correct_adj = (row.num_splits == 0 and best == 0) or (row.num_splits > 0 and best > 0)\n",
    "    \n",
    "    return correct, correct_adj\n",
    "    "
   ]
  },
  {
   "cell_type": "code",
   "execution_count": 7,
   "metadata": {},
   "outputs": [
    {
     "name": "stdout",
     "output_type": "stream",
     "text": [
      "Accuracy:  0.4006711409395973\n",
      "Adj Accuracy:  0.6214765100671141\n"
     ]
    }
   ],
   "source": [
    "vect = TfidfVectorizer(max_features=50)\n",
    "vect.fit([only_stop_words(d) for d in df.text])\n",
    "    \n",
    "correct_sum = 0\n",
    "correct_adj_sum = 0\n",
    "n=len(df)\n",
    "for i in range(n):\n",
    "    correct, correct_adj = stop_word_vectors(df.iloc[i], vect)\n",
    "    if correct:\n",
    "        correct_sum=correct_sum+1\n",
    "    if correct_adj:\n",
    "        correct_adj_sum=correct_adj_sum+1\n",
    "\n",
    "print('Accuracy: ', correct_sum/n)\n",
    "print('Adj Accuracy: ', correct_adj_sum/n)"
   ]
  },
  {
   "cell_type": "code",
   "execution_count": null,
   "metadata": {},
   "outputs": [],
   "source": []
  }
 ],
 "metadata": {
  "kernelspec": {
   "display_name": "Python 3",
   "language": "python",
   "name": "python3"
  },
  "language_info": {
   "codemirror_mode": {
    "name": "ipython",
    "version": 3
   },
   "file_extension": ".py",
   "mimetype": "text/x-python",
   "name": "python",
   "nbconvert_exporter": "python",
   "pygments_lexer": "ipython3",
   "version": "3.6.5"
  }
 },
 "nbformat": 4,
 "nbformat_minor": 2
}
