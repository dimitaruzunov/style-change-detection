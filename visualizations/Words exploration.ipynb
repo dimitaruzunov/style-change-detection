{
 "cells": [
  {
   "cell_type": "code",
   "execution_count": 1,
   "metadata": {},
   "outputs": [],
   "source": [
    "import os\n",
    "import json\n",
    "\n",
    "def get_data(folder_name):\n",
    "    x = []\n",
    "    y = []\n",
    "    positions = []\n",
    "    file_names = []\n",
    "\n",
    "    for file in os.listdir(folder_name):\n",
    "        if file.endswith(\".txt\"):\n",
    "            file_name = os.path.join(folder_name, file[:-4])\n",
    "\n",
    "            file_text = open(file_name + '.txt', encoding='utf8')\n",
    "            try:\n",
    "                file_truth = open(file_name + '.truth', encoding='utf8')\n",
    "\n",
    "                try:\n",
    "                    text = file_text.read()\n",
    "                    truth = json.load(file_truth)\n",
    "                    truth_changes = truth['changes']\n",
    "                    truth_positions = truth['positions']\n",
    "\n",
    "                    x.append(text)\n",
    "                    y.append(truth_changes)\n",
    "                    positions.append(truth_positions)\n",
    "                    file_names.append(file[:-4])\n",
    "                finally:\n",
    "                    file_truth.close()\n",
    "            finally:\n",
    "                file_text.close()\n",
    "\n",
    "    return x, y, positions, file_names"
   ]
  },
  {
   "cell_type": "code",
   "execution_count": 2,
   "metadata": {},
   "outputs": [],
   "source": [
    "TRAINING_DIR = '../data/training'\n",
    "X, y, positions, file_names = get_data(TRAINING_DIR)"
   ]
  },
  {
   "cell_type": "code",
   "execution_count": 16,
   "metadata": {},
   "outputs": [
    {
     "name": "stdout",
     "output_type": "stream",
     "text": [
      "2572624\n",
      "2572624\n"
     ]
    }
   ],
   "source": [
    "import pandas as pd\n",
    "from nltk.tokenize import word_tokenize\n",
    "from itertools import chain\n",
    "\n",
    "words, docs = [], []\n",
    "for d in X:\n",
    "    for w in word_tokenize(d):\n",
    "        docs.append(d)\n",
    "        words.append(w)\n",
    "\n",
    "print(len(words))\n",
    "print(len(docs))\n",
    "df = pd.DataFrame(data={'word':words, 'len': [len(w) for w in words], 'doc': docs})"
   ]
  },
  {
   "cell_type": "code",
   "execution_count": 17,
   "metadata": {},
   "outputs": [
    {
     "data": {
      "text/html": [
       "<div>\n",
       "<style scoped>\n",
       "    .dataframe tbody tr th:only-of-type {\n",
       "        vertical-align: middle;\n",
       "    }\n",
       "\n",
       "    .dataframe tbody tr th {\n",
       "        vertical-align: top;\n",
       "    }\n",
       "\n",
       "    .dataframe thead th {\n",
       "        text-align: right;\n",
       "    }\n",
       "</style>\n",
       "<table border=\"1\" class=\"dataframe\">\n",
       "  <thead>\n",
       "    <tr style=\"text-align: right;\">\n",
       "      <th></th>\n",
       "      <th>doc</th>\n",
       "      <th>len</th>\n",
       "      <th>word</th>\n",
       "    </tr>\n",
       "  </thead>\n",
       "  <tbody>\n",
       "    <tr>\n",
       "      <th>0</th>\n",
       "      <td>Definitely remind anyone looking at your forec...</td>\n",
       "      <td>10</td>\n",
       "      <td>Definitely</td>\n",
       "    </tr>\n",
       "    <tr>\n",
       "      <th>1</th>\n",
       "      <td>Definitely remind anyone looking at your forec...</td>\n",
       "      <td>6</td>\n",
       "      <td>remind</td>\n",
       "    </tr>\n",
       "    <tr>\n",
       "      <th>2</th>\n",
       "      <td>Definitely remind anyone looking at your forec...</td>\n",
       "      <td>6</td>\n",
       "      <td>anyone</td>\n",
       "    </tr>\n",
       "    <tr>\n",
       "      <th>3</th>\n",
       "      <td>Definitely remind anyone looking at your forec...</td>\n",
       "      <td>7</td>\n",
       "      <td>looking</td>\n",
       "    </tr>\n",
       "    <tr>\n",
       "      <th>4</th>\n",
       "      <td>Definitely remind anyone looking at your forec...</td>\n",
       "      <td>2</td>\n",
       "      <td>at</td>\n",
       "    </tr>\n",
       "  </tbody>\n",
       "</table>\n",
       "</div>"
      ],
      "text/plain": [
       "                                                 doc  len        word\n",
       "0  Definitely remind anyone looking at your forec...   10  Definitely\n",
       "1  Definitely remind anyone looking at your forec...    6      remind\n",
       "2  Definitely remind anyone looking at your forec...    6      anyone\n",
       "3  Definitely remind anyone looking at your forec...    7     looking\n",
       "4  Definitely remind anyone looking at your forec...    2          at"
      ]
     },
     "execution_count": 17,
     "metadata": {},
     "output_type": "execute_result"
    }
   ],
   "source": [
    "df.head()"
   ]
  },
  {
   "cell_type": "code",
   "execution_count": 10,
   "metadata": {},
   "outputs": [
    {
     "data": {
      "text/plain": [
       "count    2.572624e+06\n",
       "mean     4.143670e+00\n",
       "std      2.903101e+00\n",
       "min      1.000000e+00\n",
       "25%      2.000000e+00\n",
       "50%      4.000000e+00\n",
       "75%      6.000000e+00\n",
       "max      1.106000e+03\n",
       "Name: len, dtype: float64"
      ]
     },
     "execution_count": 10,
     "metadata": {},
     "output_type": "execute_result"
    }
   ],
   "source": [
    "df.len.describe()"
   ]
  },
  {
   "cell_type": "code",
   "execution_count": 11,
   "metadata": {},
   "outputs": [
    {
     "data": {
      "text/plain": [
       "1106"
      ]
     },
     "execution_count": 11,
     "metadata": {},
     "output_type": "execute_result"
    }
   ],
   "source": [
    "max(df.len)"
   ]
  },
  {
   "cell_type": "code",
   "execution_count": 9,
   "metadata": {},
   "outputs": [
    {
     "data": {
      "text/plain": [
       "<matplotlib.axes._subplots.AxesSubplot at 0x1c9b18855c0>"
      ]
     },
     "execution_count": 9,
     "metadata": {},
     "output_type": "execute_result"
    },
    {
     "data": {
      "image/png": "[encoded data removed]",
      "text/plain": [
       "<matplotlib.figure.Figure at 0x1c9b16dac50>"
      ]
     },
     "metadata": {},
     "output_type": "display_data"
    }
   ],
   "source": [
    "%matplotlib inline\n",
    "import matplotlib.pyplot as plt\n",
    "df.len.hist()"
   ]
  },
  {
   "cell_type": "code",
   "execution_count": 31,
   "metadata": {},
   "outputs": [],
   "source": [
    "max_words = df[df.len > 70]"
   ]
  },
  {
   "cell_type": "code",
   "execution_count": 32,
   "metadata": {},
   "outputs": [
    {
     "data": {
      "text/plain": [
       "83"
      ]
     },
     "execution_count": 32,
     "metadata": {},
     "output_type": "execute_result"
    }
   ],
   "source": [
    "len(max_words)"
   ]
  },
  {
   "cell_type": "code",
   "execution_count": 33,
   "metadata": {},
   "outputs": [
    {
     "data": {
      "text/plain": [
       "['//www.rhythmsystems.com/blog/bid/87071/fire-to-protect-your-core-values',\n",
       " '//www.monkey-and-banana.com/wp-content/uploads/2009/10/star-wars-droids.jpg',\n",
       " '//stackoverflow.uservoice.com/pages/1722-general/suggestions/118664-add-support-for-abbr-',\n",
       " '//forums.electronicarts.co.uk/battlefield-3-pc/1448520-howto-customize-chatbox-bf3.html',\n",
       " '//forums.electronicarts.co.uk/battlefield-3-pc/1448520-howto-customize-chatbox-bf3.html',\n",
       " 'instant-powercut-and-everything-goes-black-and-the-system-suddenly-shuts-off',\n",
       " '//www.fifa.com/mm/document/footballdevelopment/refereeing/02/36/01/11/27_06_2014_new',\n",
       " '//www.fifa.com/mm/document/footballdevelopment/refereeing/81/42/36/log2013en_neutral.pdf',\n",
       " '//www.fuzzyyellowballs.com/video-tennis-lessons/forehand/advanced-forehand-technique/wrist-contact/',\n",
       " '//www.usta.com/Improve-Your-Game/Health-Fitness/Injuries-Prevention-and-Recovery/Wrist_Injuries/',\n",
       " '//www.king5.com/story/news/local/seattle/2015/07/31/ivars-salmon-house-minimum-wage-tip-service-charge/30968531/',\n",
       " '//www.truth-out.org/news/item/14050-minimum-wage-hikes-do-not-cause-inflation',\n",
       " '//news.vice.com/article/what-will-happen-to-the-economy-if-we-raise-the-minimum-wage',\n",
       " '//news.vice.com/article/what-will-happen-to-the-economy-if-we-raise-the-minimum-wage',\n",
       " '//www.king5.com/story/news/local/seattle/2015/07/31/ivars-salmon-house-minimum-wage-tip-service-charge/30968531/',\n",
       " '//www.truth-out.org/news/item/14050-minimum-wage-hikes-do-not-cause-inflation',\n",
       " '//www.huffingtonpost.com/elizabeth-holtzman/the-supreme-court-and-pre_b_10595736.html',\n",
       " '//constitutioncenter.org/blog/how-independent-is-the-fbi-director-and-can-he-be-removed-from-office',\n",
       " '//www.nytimes.com/2017/03/20/us/politics/fbi-investigation-trump-russia-comey.html',\n",
       " '//openchannel.nbcnews.com/_news/2013/02/04/16843014-exclusive-justice-department-memo-reveals-legal-case-for-drone-strikes-on-americans',\n",
       " '//www.parliament.uk/site-information/glossary/allocation-of-time-motion/',\n",
       " '//en.wikipedia.org/wiki/Endorsements_for_the_Republican_Party_presidential_primaries',\n",
       " '//www.thesun.co.uk/news/3358730/we-need-an-election-now-to-deliver-brexit-as-rebels-are-trying-to-subvert-will-of-the-people-every-step-of-the-way-theresa-may-says-in-exclusive-chat-with-the-sun/',\n",
       " '//www.independent.co.uk/news/uk/politics/brexit-eu-referendum-result-lib-dems-remain-liberal-democrats-live-policy-stay-leave-a7103186.html',\n",
       " '//www.theguardian.com/politics/2017/apr/18/mays-real-reason-for-calling-election-to-show-eu-that-brexit-really-means-brexit',\n",
       " '//en.m.wikipedia.org/wiki/List_of_visitors_to_the_Hiroshima_Peace_Memorial_Museum',\n",
       " '//en.m.wikipedia.org/wiki/List_of_visitors_to_the_Hiroshima_Peace_Memorial_Museum',\n",
       " '//www.thesun.co.uk/news/3358730/we-need-an-election-now-to-deliver-brexit-as-rebels-are-trying-to-subvert-will-of-the-people-every-step-of-the-way-theresa-may-says-in-exclusive-chat-with-the-sun/',\n",
       " '//www.independent.co.uk/news/uk/politics/theresa-may-cancels-2018-queens-speech-push-through-brexit-laws-a7795541.html',\n",
       " '//www.independent.co.uk/news/uk/politics/brexit-eu-referendum-result-lib-dems-remain-liberal-democrats-live-policy-stay-leave-a7103186.html',\n",
       " '//channel9.msdn.com/Shows/Going+Deep/C9-Lectures-Stephan-T-Lavavej-Advanced-STL-3-of-n',\n",
       " '========================================================================',\n",
       " '========================================================================',\n",
       " '//channel9.msdn.com/Shows/Going+Deep/C9-Lectures-Stephan-T-Lavavej-Advanced-STL-3-of-n',\n",
       " '//developer.mozilla.org/en-US/docs/Tools/Page_Inspector/How_to/Examine_grid_layouts',\n",
       " '//msdn.microsoft.com/en-us/library/system.web.ui.webcontrols.repeater.aspx',\n",
       " '//msdn.microsoft.com/en-us/library/system.web.ui.webcontrols.repeater.itemdatabound.aspx',\n",
       " '//www.webdeveloperjuice.com/2010/05/17/8-powerful-pure-css-accordions-to-make-web-application-lite-and-impressive/',\n",
       " '//www.evotech.net/blog/2008/09/css-hack-for-google-chrome-and-safari-31/',\n",
       " '//docs.google.com/spreadsheets/d/1Hx1CTPT82qFSbzuWiU1nyGROCNM6HKssKCPhxinvdww/',\n",
       " '//developer.android.com/reference/android/graphics/BitmapFactory.Options.html',\n",
       " '//developer.mozilla.org/en/JavaScript/Reference/Global_Objects/Object/defineProperty',\n",
       " '//peter.sh/experiments/asynchronous-and-deferred-javascript-execution-explained/',\n",
       " '//www.todaysparent.com/family/parenting/roughhousing-aggressive-or-constructive-behaviour/',\n",
       " '//www.todaysparent.com/family/parenting/roughhousing-aggressive-or-constructive-behaviour/',\n",
       " '//umm.edu/health/medical/reports/articles/attention-deficit-hyperactivity-disorder',\n",
       " '//segmentnext.com/2010/08/07/starcraft-2-graphics-performance-tweak-guide/',\n",
       " '//www.nytimes.com/2002/10/15/science/before-adam-and-eve-the-farmers-were-termites.html',\n",
       " '//theimmeasurableexcess.blogspot.com/2008/07/badiou-and-deleuze-brothers-in.html',\n",
       " '//en.wikisource.org/wiki/Popular_Science_Monthly/Volume_5/May_1874/The_Limits_of_our_Knowledge_of_Nature',\n",
       " '//www.braindecoder.com/up-to-90-of-your-perception-could-be-made-up-purely-by-the-brain-1104633927.html',\n",
       " '//philosophyfaculty.ucsd.edu/faculty/rarneson/Courses/gettierphilreading.pdf',\n",
       " '//distractify.com/old-school/2015/02/22/mind-blowing-optical-illusions-1197825445',\n",
       " '//www.amazon.com/Treatise-Critical-Reason-Princeton-Library/dp/0691072957/ref=sr_1_1',\n",
       " '//www.amazon.com/Aristotles-Psychology-Robinson-Aristotle-Paperback/dp/B0157HUKKA/ref=sr_1_2',\n",
       " '//www.quora.com/Did-government-officials-in-the-Soviet-Union-live-in-luxury/answer/Anix-Omegov',\n",
       " '//www.jewishvirtuallibrary.org/adolf-hitler-declaration-of-war-on-the-soviet-union-june-1941',\n",
       " '//en.wikipedia.org/wiki/List_of_World_War_II_military_aircraft_of_Germany',\n",
       " '//militaryhistorynow.com/2012/06/12/how-early-photographers-captured-historys-first-images-of-war/',\n",
       " '//en.wikipedia.org/wiki/Timeline_of_the_African-American_Civil_Rights_Movement',\n",
       " '//upload.wikimedia.org/wikipedia/commons/a/a1/Richard_II_King_of_England.jpg',\n",
       " '//referenceworks.brillonline.com/entries/encyclopaedia-of-islam-2/kahwa-COM_0418',\n",
       " '//referenceworks.brillonline.com/entries/encyclopaedia-of-islam-2/kahwa-COM_0418',\n",
       " '//deepsouthmag.com/2013/04/25/not-our-kind-of-folks-southern-soundscapes-in-to-kill-a-mockingbird/',\n",
       " 'Taumatawhakatangihangakoauauotamateaturipukakapikimaungahoronukupokaiwhenuakitanatahu',\n",
       " '//www.coli.uni-saarland.de/courses/experimental_psycholinguistics_2011/schedule.php',\n",
       " '//en.wikipedia.org/wiki/List_of_masculine_Latin_nouns_of_the_1st_declension',\n",
       " '//mitpress.mit.edu/sites/default/files/titles/content/9780262062787_sch_0001.pdf',\n",
       " '//www.lds.org/callings/military-relations/organization-leader-responsibilites',\n",
       " '//www.jw.org/en/publications/books/good-news-from-god/why-did-god-create-the-earth/',\n",
       " '//blog.adw.org/2013/11/on-the-purgative-illuminative-and-unitive-stages-of-spiritual-life-as-seen-in-a-cartoon/',\n",
       " '//blog.adw.org/2013/11/on-the-purgative-illuminative-and-unitive-stages-of-spiritual-life-as-seen-in-a-cartoon/',\n",
       " '//www.barnesandnoble.com/w/what-catholics-really-believe-karl-keating/1100073860',\n",
       " '//forums.roadbikereview.com/components-wrenching/crossing-derailleur-cables-downtube-243700.html',\n",
       " '//forums.mtbr.com/brake-time/xt-xtr-brakes-get-squeal-power-loss-after-sitting-idle-6-8-weeks-902792.html',\n",
       " '//www.rhythmsystems.com/blog/bid/87071/fire-to-protect-your-core-values',\n",
       " '//www.scrumalliance.org/community/articles/2008/february/the-case-of-the-time-tyrant',\n",
       " '//seekershub.org/ans-blog/2014/03/07/preservation-of-the-prophets-hair-and-seeking-blessings-through-it/',\n",
       " '//www.projectsmart.co.uk/practical-project-management-and-tracking-using-microsoft-project.html',\n",
       " '//www.garden-seat.co.uk/townandcountrygardener/wp-content/uploads/2011/09/slug.jpg',\n",
       " '//herbsutter.com/2011/08/12/we-have-an-international-standard-c0x-is-unanimously-approved/',\n",
       " '//herbsutter.com/2011/08/12/we-have-an-international-standard-c0x-is-unanimously-approved/',\n",
       " 'Ẁ̰̲̞̠͇̯̯̟̠͍̻ͬ̐̀̓̓́͆̄̒̉́͢Ţ̐͆ͭ̈́̾͆͂ͧ̿͐͐ͤ̈́ͩͪͪ̒̄̚͟͜҉̫̞͓͙ͅF̶̛͕̫̦̩̳̈̈́̃̇̈ͫ̏̌ͧ͊ͪ̿̍́͜͞Ẁ̰̲̞̠͇̯̯̟̠͍̻ͬ̐̀̓̓́͆̄̒̉́͢Ţ̐͆ͭ̈́̾͆͂ͧ̿͐͐ͤ̈́ͩͪͪ̒̄̚͟͜҉̫̞͓͙ͅF̶̛͕̫̦̩̳̈̈́̃̇̈ͫ̏̌ͧ͊ͪ̿̍́͜͞Ẁ̰̲̞̠͇̯̯̟̠͍̻ͬ̐̀̓̓́͆̄̒̉́͢Ţ̐͆ͭ̈́̾͆͂ͧ̿͐͐ͤ̈́ͩͪͪ̒̄̚͟͜҉̫̞͓͙ͅF̶̛͕̫̦̩̳̈̈́̃̇̈ͫ̏̌ͧ͊ͪ̿̍́͜͞Ẁ̰̲̞̠͇̯̯̟̠͍̻ͬ̐̀̓̓́͆̄̒̉́͢Ţ̐͆ͭ̈́̾͆͂ͧ̿͐͐ͤ̈́ͩͪͪ̒̄̚͟͜҉̫̞͓͙ͅF̶̛͕̫̦̩̳̈̈́̃̇̈ͫ̏̌ͧ͊ͪ̿̍́͜͞Ẁ̰̲̞̠͇̯̯̟̠͍̻ͬ̐̀̓̓́͆̄̒̉́͢Ţ̐͆ͭ̈́̾͆͂ͧ̿͐͐ͤ̈́ͩͪͪ̒̄̚͟͜҉̫̞͓͙ͅF̶̛͕̫̦̩̳̈̈́̃̇̈ͫ̏̌ͧ͊ͪ̿̍́͜͞Ẁ̰̲̞̠͇̯̯̟̠͍̻ͬ̐̀̓̓́͆̄̒̉́͢Ţ̐͆ͭ̈́̾͆͂ͧ̿͐͐ͤ̈́ͩͪͪ̒̄̚͟͜҉̫̞͓͙ͅF̶̛͕̫̦̩̳̈̈́̃̇̈ͫ̏̌ͧ͊ͪ̿̍́͜͞Ẁ̰̲̞̠͇̯̯̟̠͍̻ͬ̐̀̓̓́͆̄̒̉́͢Ţ̐͆ͭ̈́̾͆͂ͧ̿͐͐ͤ̈́ͩͪͪ̒̄̚͟͜҉̫̞͓͙ͅF̶̛͕̫̦̩̳̈̈́̃̇̈ͫ̏̌ͧ͊ͪ̿̍́͜͞Ẁ̰̲̞̠͇̯̯̟̠͍̻ͬ̐̀̓̓́͆̄̒̉́͢Ţ̐͆ͭ̈́̾͆͂ͧ̿͐͐ͤ̈́ͩͪͪ̒̄̚͟͜҉̫̞͓͙ͅF̶̛͕̫̦̩̳̈̈́̃̇̈ͫ̏̌ͧ͊ͪ̿̍́͜͞Ẁ̰̲̞̠͇̯̯̟̠͍̻ͬ̐̀̓̓́͆̄̒̉́͢Ţ̐͆ͭ̈́̾͆͂ͧ̿͐͐ͤ̈́ͩͪͪ̒̄̚͟͜҉̫̞͓͙ͅF̶̛͕̫̦̩̳̈̈́̃̇̈ͫ̏̌ͧ͊ͪ̿̍́͜͞Ẁ̰̲̞̠͇̯̯̟̠͍̻ͬ̐̀̓̓́͆̄̒̉́͢Ţ̐͆ͭ̈́̾͆͂ͧ̿͐͐ͤ̈́ͩͪͪ̒̄̚͟͜҉̫̞͓͙ͅF̶̛͕̫̦̩̳̈̈́̃̇̈ͫ̏̌ͧ͊ͪ̿̍́͜͞Ẁ̰̲̞̠͇̯̯̟̠͍̻ͬ̐̀̓̓́͆̄̒̉́͢Ţ̐͆ͭ̈́̾͆͂ͧ̿͐͐ͤ̈́ͩͪͪ̒̄̚͟͜҉̫̞͓͙ͅF̶̛͕̫̦̩̳̈̈́̃̇̈ͫ̏̌ͧ͊ͪ̿̍́͜͞Ẁ̰̲̞̠͇̯̯̟̠͍̻ͬ̐̀̓̓́͆̄̒̉́͢Ţ̐͆ͭ̈́̾͆͂ͧ̿͐͐ͤ̈́ͩͪͪ̒̄̚͟͜҉̫̞͓͙ͅF̶̛͕̫̦̩̳̈̈́̃̇̈ͫ̏̌ͧ͊ͪ̿̍́͜͞Ẁ̰̲̞̠͇̯̯̟̠͍̻ͬ̐̀̓̓́͆̄̒̉́͢Ţ̐͆ͭ̈́̾͆͂ͧ̿͐͐ͤ̈́ͩͪͪ̒̄̚͟͜҉̫̞͓͙ͅF̶̛͕̫̦̩̳̈̈́̃̇̈ͫ̏̌ͧ͊ͪ̿̍́͜͞Ẁ̰̲̞̠͇̯̯̟̠͍̻ͬ̐̀̓̓́͆̄̒̉́͢Ţ̐͆ͭ̈́̾͆͂ͧ̿͐͐ͤ̈́ͩͪͪ̒̄̚͟͜҉̫̞͓͙ͅF̶̛͕̫̦̩̳̈̈́̃̇̈ͫ̏̌ͧ͊ͪ̿̍́͜͞']"
      ]
     },
     "execution_count": 33,
     "metadata": {},
     "output_type": "execute_result"
    }
   ],
   "source": [
    "list(max_words.word)"
   ]
  },
  {
   "cell_type": "code",
   "execution_count": 50,
   "metadata": {},
   "outputs": [],
   "source": [
    "from nltk.tokenize import word_tokenize\n",
    "def get_sliding_words(text, n, chunks=None, wordFilter=None):\n",
    "    segments = []\n",
    "    words = word_tokenize(text)\n",
    "    x = len(words)\n",
    "    if chunks:\n",
    "        n = round(x / chunks)\n",
    "    i = 0\n",
    "    overlap = round(n/2)\n",
    "    for i in range(0, x-n-overlap, overlap):\n",
    "        segments.append(' '.join(words[i:i+n]))\n",
    "    segments.append(' '.join(words[i+overlap:]))\n",
    "    if wordFilter:\n",
    "        segments = [wordFilter(s) for s in segments]\n",
    "    return segments"
   ]
  },
  {
   "cell_type": "code",
   "execution_count": 51,
   "metadata": {},
   "outputs": [
    {
     "data": {
      "text/plain": [
       "['test1 test2 test3 test4 test5 test7',\n",
       " 'test4 test5 test7 test8 test9 test1',\n",
       " 'test8 test9 test1 test2 test3 test4',\n",
       " 'test2 test3 test4 test5 test7 test8 test9']"
      ]
     },
     "execution_count": 51,
     "metadata": {},
     "output_type": "execute_result"
    }
   ],
   "source": [
    "text='test1 test2 test3 test4 test5 test7 test8 test9 test1 test2 test3 test4 test5 test7 test8 test9'\n",
    "get_sliding_words(text, n=6)"
   ]
  },
  {
   "cell_type": "code",
   "execution_count": 25,
   "metadata": {},
   "outputs": [],
   "source": [
    "def get_segments(text, n, chunks=None, wordFilter=None):\n",
    "    segments = []\n",
    "    words = word_tokenize(text)\n",
    "    x = len(words)\n",
    "    if chunks:\n",
    "        n = round(x / chunks)\n",
    "    i = 0\n",
    "    for i in range(0, x-n, n):\n",
    "        segments.append(' '.join(words[i:i+n]))\n",
    "    segments.append(' '.join(words[i+n:]))\n",
    "    if wordFilter:\n",
    "        segments = [wordFilter(s) for s in segments]\n",
    "    return segments"
   ]
  },
  {
   "cell_type": "code",
   "execution_count": 42,
   "metadata": {},
   "outputs": [
    {
     "data": {
      "text/plain": [
       "['test1 test2 test3 test4 test5',\n",
       " 'test7 test8 test9 test1 test2 test3',\n",
       " 'test4 test5 test7 test8 test9']"
      ]
     },
     "execution_count": 42,
     "metadata": {},
     "output_type": "execute_result"
    }
   ],
   "source": [
    "import math\n",
    "l = len(word_tokenize(text))\n",
    "split_seq(word_tokenize(text), 6)"
   ]
  },
  {
   "cell_type": "code",
   "execution_count": 45,
   "metadata": {},
   "outputs": [
    {
     "data": {
      "text/plain": [
       "['test1 test2 test3 test4 test5 test7',\n",
       " 'test8 test9 test1 test2 test3 test4 test5 test7 test8 test9']"
      ]
     },
     "execution_count": 45,
     "metadata": {},
     "output_type": "execute_result"
    }
   ],
   "source": [
    "old_get_segments(text, 6, None)"
   ]
  },
  {
   "cell_type": "code",
   "execution_count": 47,
   "metadata": {},
   "outputs": [
    {
     "data": {
      "text/plain": [
       "['test1 test2 test3 test4 test5',\n",
       " 'test7 test8 test9 test1 test2 test3',\n",
       " 'test4 test5 test7 test8 test9']"
      ]
     },
     "execution_count": 47,
     "metadata": {},
     "output_type": "execute_result"
    }
   ],
   "source": [
    "get_segments(text, 6, None)"
   ]
  },
  {
   "cell_type": "code",
   "execution_count": 46,
   "metadata": {},
   "outputs": [],
   "source": [
    "def get_segments(text, n, chunks, wordFilter=None):\n",
    "    words = word_tokenize(text)\n",
    "    segments = split_seq(words, n, chunks)\n",
    "    if wordFilter:\n",
    "        segments = [wordFilter(s) for s in segments]\n",
    "    return segments"
   ]
  },
  {
   "cell_type": "code",
   "execution_count": 41,
   "metadata": {},
   "outputs": [],
   "source": [
    "def split_seq(seq, depth, breath=None):\n",
    "    if not breath:\n",
    "        breath = math.ceil(len(seq) / depth)\n",
    "    newseq = []\n",
    "    splitsize = 1.0/breath*len(seq)\n",
    "    for i in range(breath):\n",
    "        newseq.append(' '.join(seq[int(round(i*splitsize)):int(round((i+1)*splitsize))]))\n",
    "    return newseq"
   ]
  },
  {
   "cell_type": "code",
   "execution_count": 44,
   "metadata": {},
   "outputs": [],
   "source": [
    "def old_get_segments(text, n, chunks, wordFilter=None):\n",
    "    segments = []\n",
    "    words = word_tokenize(text)\n",
    "    x = len(words)\n",
    "    if chunks:\n",
    "        n = round(x / chunks)\n",
    "    i = 0\n",
    "    for i in range(0, x-x%n-n, n):\n",
    "        segments.append(' '.join(words[i:i+n]))\n",
    "    segments.append(' '.join(words[i+n:]))\n",
    "    if wordFilter:\n",
    "        segments = [wordFilter(s) for s in segments]\n",
    "    return segments"
   ]
  },
  {
   "cell_type": "code",
   "execution_count": null,
   "metadata": {},
   "outputs": [],
   "source": []
  }
 ],
 "metadata": {
  "kernelspec": {
   "display_name": "Python 3",
   "language": "python",
   "name": "python3"
  },
  "language_info": {
   "codemirror_mode": {
    "name": "ipython",
    "version": 3
   },
   "file_extension": ".py",
   "mimetype": "text/x-python",
   "name": "python",
   "nbconvert_exporter": "python",
   "pygments_lexer": "ipython3",
   "version": "3.5.2"
  }
 },
 "nbformat": 4,
 "nbformat_minor": 2
}
