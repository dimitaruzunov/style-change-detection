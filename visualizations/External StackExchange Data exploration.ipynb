{
 "cells": [
  {
   "cell_type": "code",
   "execution_count": 15,
   "metadata": {},
   "outputs": [],
   "source": [
    "from nltk.tokenize import sent_tokenize, word_tokenize\n",
    "def custom_sent_tokenize(text):\n",
    "    sentences = []\n",
    "    paragraphs = [p for p in text.split('\\n') if p]\n",
    "    for paragraph in paragraphs:\n",
    "        paragraph = paragraph + '\\n'\n",
    "        sentences.extend(sent_tokenize(paragraph))\n",
    "        \n",
    "    return sentences"
   ]
  },
  {
   "cell_type": "code",
   "execution_count": 12,
   "metadata": {},
   "outputs": [
    {
     "data": {
      "text/html": [
       "<div>\n",
       "<style scoped>\n",
       "    .dataframe tbody tr th:only-of-type {\n",
       "        vertical-align: middle;\n",
       "    }\n",
       "\n",
       "    .dataframe tbody tr th {\n",
       "        vertical-align: top;\n",
       "    }\n",
       "\n",
       "    .dataframe thead th {\n",
       "        text-align: right;\n",
       "    }\n",
       "</style>\n",
       "<table border=\"1\" class=\"dataframe\">\n",
       "  <thead>\n",
       "    <tr style=\"text-align: right;\">\n",
       "      <th></th>\n",
       "      <th>text</th>\n",
       "      <th>positions</th>\n",
       "      <th>label</th>\n",
       "      <th>pos</th>\n",
       "      <th>num_sent</th>\n",
       "    </tr>\n",
       "  </thead>\n",
       "  <tbody>\n",
       "    <tr>\n",
       "      <th>0</th>\n",
       "      <td>Obviously, there are game-specific gotchas, bu...</td>\n",
       "      <td>2434</td>\n",
       "      <td>True</td>\n",
       "      <td>[2434]</td>\n",
       "      <td>36</td>\n",
       "    </tr>\n",
       "    <tr>\n",
       "      <th>1</th>\n",
       "      <td>So, do you specifically not want a Microsoft c...</td>\n",
       "      <td>2297</td>\n",
       "      <td>True</td>\n",
       "      <td>[2297]</td>\n",
       "      <td>23</td>\n",
       "    </tr>\n",
       "    <tr>\n",
       "      <th>2</th>\n",
       "      <td>I have leveled every class other than death kn...</td>\n",
       "      <td>5565,7056</td>\n",
       "      <td>True</td>\n",
       "      <td>[5565, 7056]</td>\n",
       "      <td>64</td>\n",
       "    </tr>\n",
       "    <tr>\n",
       "      <th>3</th>\n",
       "      <td>Some tips:\\r\\n\\r\\nPlay with a buddy, clan or q...</td>\n",
       "      <td>3876,4513</td>\n",
       "      <td>True</td>\n",
       "      <td>[3876, 4513]</td>\n",
       "      <td>61</td>\n",
       "    </tr>\n",
       "    <tr>\n",
       "      <th>4</th>\n",
       "      <td>A lot of these answers are great, but they don...</td>\n",
       "      <td></td>\n",
       "      <td>False</td>\n",
       "      <td>[]</td>\n",
       "      <td>22</td>\n",
       "    </tr>\n",
       "  </tbody>\n",
       "</table>\n",
       "</div>"
      ],
      "text/plain": [
       "                                                text  positions  label  \\\n",
       "0  Obviously, there are game-specific gotchas, bu...       2434   True   \n",
       "1  So, do you specifically not want a Microsoft c...       2297   True   \n",
       "2  I have leveled every class other than death kn...  5565,7056   True   \n",
       "3  Some tips:\\r\\n\\r\\nPlay with a buddy, clan or q...  3876,4513   True   \n",
       "4  A lot of these answers are great, but they don...             False   \n",
       "\n",
       "            pos  num_sent  \n",
       "0        [2434]        36  \n",
       "1        [2297]        23  \n",
       "2  [5565, 7056]        64  \n",
       "3  [3876, 4513]        61  \n",
       "4            []        22  "
      ]
     },
     "execution_count": 12,
     "metadata": {},
     "output_type": "execute_result"
    }
   ],
   "source": [
    "import pandas as pd\n",
    "TRAINING_EXTERNAL_FILE = '../data/feather/external_stackexchange_feather'\n",
    "data = pd.read_feather(TRAINING_EXTERNAL_FILE)\n",
    "\n",
    "data['label'] = [len(x) > 0 for x in data['positions']]\n",
    "data['pos'] = [[] if x is '' else x.split(',') for x in data['positions']]\n",
    "data['num_sent'] = [len(custom_sent_tokenize(d)) for d in data.text]\n",
    "data.head()"
   ]
  },
  {
   "cell_type": "code",
   "execution_count": 16,
   "metadata": {},
   "outputs": [],
   "source": [
    "data['num_words'] = [len(word_tokenize(x)) for x in data.text]\n",
    "data['num_char'] = [len(x) for x in data.text]"
   ]
  },
  {
   "cell_type": "code",
   "execution_count": 17,
   "metadata": {},
   "outputs": [
    {
     "data": {
      "text/plain": [
       "text         object\n",
       "positions    object\n",
       "label          bool\n",
       "pos          object\n",
       "num_sent      int64\n",
       "num_words     int64\n",
       "num_char      int64\n",
       "dtype: object"
      ]
     },
     "execution_count": 17,
     "metadata": {},
     "output_type": "execute_result"
    }
   ],
   "source": [
    "data.dtypes"
   ]
  },
  {
   "cell_type": "code",
   "execution_count": 18,
   "metadata": {},
   "outputs": [
    {
     "data": {
      "text/plain": [
       "(50973, 7)"
      ]
     },
     "execution_count": 18,
     "metadata": {},
     "output_type": "execute_result"
    }
   ],
   "source": [
    "data.shape"
   ]
  },
  {
   "cell_type": "code",
   "execution_count": 19,
   "metadata": {},
   "outputs": [
    {
     "name": "stdout",
     "output_type": "stream",
     "text": [
      "AxesSubplot(0.125,0.125;0.775x0.755)\n"
     ]
    },
    {
     "data": {
      "image/png": "[encoded data removed]",
      "text/plain": [
       "<matplotlib.figure.Figure at 0x29593303710>"
      ]
     },
     "metadata": {},
     "output_type": "display_data"
    }
   ],
   "source": [
    "%matplotlib inline\n",
    "import matplotlib.pyplot as plt\n",
    "\n",
    "\n",
    "plt.figure()   \n",
    "print(data.label.hist())"
   ]
  },
  {
   "cell_type": "code",
   "execution_count": 20,
   "metadata": {},
   "outputs": [
    {
     "data": {
      "text/plain": [
       "<matplotlib.axes._subplots.AxesSubplot at 0x295931c14e0>"
      ]
     },
     "execution_count": 20,
     "metadata": {},
     "output_type": "execute_result"
    },
    {
     "data": {
      "image/png": "[encoded data removed]",
      "text/plain": [
       "<matplotlib.figure.Figure at 0x2958f7bb278>"
      ]
     },
     "metadata": {},
     "output_type": "display_data"
    }
   ],
   "source": [
    "data.num_sent.hist()"
   ]
  },
  {
   "cell_type": "code",
   "execution_count": 21,
   "metadata": {},
   "outputs": [
    {
     "data": {
      "text/plain": [
       "count    50973.000000\n",
       "mean        41.328841\n",
       "std         25.138459\n",
       "min          1.000000\n",
       "25%         25.000000\n",
       "50%         36.000000\n",
       "75%         51.000000\n",
       "max        611.000000\n",
       "Name: num_sent, dtype: float64"
      ]
     },
     "execution_count": 21,
     "metadata": {},
     "output_type": "execute_result"
    }
   ],
   "source": [
    "data.num_sent.describe()"
   ]
  },
  {
   "cell_type": "code",
   "execution_count": 23,
   "metadata": {},
   "outputs": [
    {
     "data": {
      "text/plain": [
       "count    50973.000000\n",
       "mean      4306.489063\n",
       "std       2288.425574\n",
       "min       2004.000000\n",
       "25%       2681.000000\n",
       "50%       3754.000000\n",
       "75%       5194.000000\n",
       "max      33116.000000\n",
       "Name: num_char, dtype: float64"
      ]
     },
     "execution_count": 23,
     "metadata": {},
     "output_type": "execute_result"
    }
   ],
   "source": [
    "data.num_char.describe()"
   ]
  },
  {
   "cell_type": "code",
   "execution_count": 25,
   "metadata": {},
   "outputs": [
    {
     "data": {
      "text/plain": [
       "count    50973.000000\n",
       "mean       856.256489\n",
       "std        464.918528\n",
       "min        199.000000\n",
       "25%        532.000000\n",
       "50%        743.000000\n",
       "75%       1033.000000\n",
       "max       8771.000000\n",
       "Name: num_words, dtype: float64"
      ]
     },
     "execution_count": 25,
     "metadata": {},
     "output_type": "execute_result"
    }
   ],
   "source": [
    "data.num_words.describe()"
   ]
  },
  {
   "cell_type": "code",
   "execution_count": 8,
   "metadata": {},
   "outputs": [
    {
     "data": {
      "text/plain": [
       "Text(0.5,0,'')"
      ]
     },
     "execution_count": 8,
     "metadata": {},
     "output_type": "execute_result"
    },
    {
     "data": {
      "image/png": "[encoded data removed]",
      "text/plain": [
       "<matplotlib.figure.Figure at 0x28a85902630>"
      ]
     },
     "metadata": {},
     "output_type": "display_data"
    }
   ],
   "source": [
    "import seaborn as sns\n",
    "import numpy as np\n",
    "sns.set_style(\"whitegrid\")\n",
    "plt.title('Sentences in a doc')\n",
    "ax = sns.boxplot(x=data.num_sent)\n",
    "plt.rcParams.update({'font.size': 16})\n",
    "ax.set_xlabel('')"
   ]
  },
  {
   "cell_type": "code",
   "execution_count": 9,
   "metadata": {},
   "outputs": [],
   "source": [
    "df = data"
   ]
  },
  {
   "cell_type": "code",
   "execution_count": 10,
   "metadata": {},
   "outputs": [
    {
     "data": {
      "text/html": [
       "<div>\n",
       "<style scoped>\n",
       "    .dataframe tbody tr th:only-of-type {\n",
       "        vertical-align: middle;\n",
       "    }\n",
       "\n",
       "    .dataframe tbody tr th {\n",
       "        vertical-align: top;\n",
       "    }\n",
       "\n",
       "    .dataframe thead th {\n",
       "        text-align: right;\n",
       "    }\n",
       "</style>\n",
       "<table border=\"1\" class=\"dataframe\">\n",
       "  <thead>\n",
       "    <tr style=\"text-align: right;\">\n",
       "      <th></th>\n",
       "      <th>index</th>\n",
       "      <th>positions</th>\n",
       "      <th>text</th>\n",
       "      <th>label</th>\n",
       "      <th>pos</th>\n",
       "      <th>num_sent</th>\n",
       "    </tr>\n",
       "  </thead>\n",
       "  <tbody>\n",
       "    <tr>\n",
       "      <th>112834</th>\n",
       "      <td>0</td>\n",
       "      <td>2166</td>\n",
       "      <td>The sequel to Spider-Man brings the audience t...</td>\n",
       "      <td>True</td>\n",
       "      <td>[2166]</td>\n",
       "      <td>28</td>\n",
       "    </tr>\n",
       "    <tr>\n",
       "      <th>163484</th>\n",
       "      <td>0</td>\n",
       "      <td>2106</td>\n",
       "      <td>Comic book fans are in Heaven right now. Movie...</td>\n",
       "      <td>True</td>\n",
       "      <td>[2106]</td>\n",
       "      <td>32</td>\n",
       "    </tr>\n",
       "    <tr>\n",
       "      <th>104512</th>\n",
       "      <td>0</td>\n",
       "      <td>2093</td>\n",
       "      <td>Grim, grim story that cuts everything down to ...</td>\n",
       "      <td>True</td>\n",
       "      <td>[2093]</td>\n",
       "      <td>35</td>\n",
       "    </tr>\n",
       "    <tr>\n",
       "      <th>206504</th>\n",
       "      <td>0</td>\n",
       "      <td>2116</td>\n",
       "      <td>Compared to many recent Bigfoot-inspired flick...</td>\n",
       "      <td>True</td>\n",
       "      <td>[2116]</td>\n",
       "      <td>48</td>\n",
       "    </tr>\n",
       "    <tr>\n",
       "      <th>54130</th>\n",
       "      <td>0</td>\n",
       "      <td>2199</td>\n",
       "      <td>A strange thing happened as I watched Bill Con...</td>\n",
       "      <td>True</td>\n",
       "      <td>[2199]</td>\n",
       "      <td>48</td>\n",
       "    </tr>\n",
       "  </tbody>\n",
       "</table>\n",
       "</div>"
      ],
      "text/plain": [
       "        index positions                                               text  \\\n",
       "112834      0      2166  The sequel to Spider-Man brings the audience t...   \n",
       "163484      0      2106  Comic book fans are in Heaven right now. Movie...   \n",
       "104512      0      2093  Grim, grim story that cuts everything down to ...   \n",
       "206504      0      2116  Compared to many recent Bigfoot-inspired flick...   \n",
       "54130       0      2199  A strange thing happened as I watched Bill Con...   \n",
       "\n",
       "        label     pos  num_sent  \n",
       "112834   True  [2166]        28  \n",
       "163484   True  [2106]        32  \n",
       "104512   True  [2093]        35  \n",
       "206504   True  [2116]        48  \n",
       "54130    True  [2199]        48  "
      ]
     },
     "execution_count": 10,
     "metadata": {},
     "output_type": "execute_result"
    }
   ],
   "source": [
    "df_splits = []\n",
    "df_true = df[df.label==True]\n",
    "df_true.head()"
   ]
  },
  {
   "cell_type": "code",
   "execution_count": 11,
   "metadata": {},
   "outputs": [],
   "source": [
    "for index, row in df_true.iterrows():\n",
    "    for i, pos in enumerate(row['pos']):\n",
    "        last=0\n",
    "        if i!=0:\n",
    "            last = row['pos'][i-1]            \n",
    "        \n",
    "        df_splits.append(row['text'][last:pos])\n",
    "        \n",
    "    df_splits.append(row['text'][row['pos'][-1]:])"
   ]
  },
  {
   "cell_type": "code",
   "execution_count": 12,
   "metadata": {},
   "outputs": [
    {
     "data": {
      "text/plain": [
       "9944"
      ]
     },
     "execution_count": 12,
     "metadata": {},
     "output_type": "execute_result"
    }
   ],
   "source": [
    "len(df_splits)"
   ]
  },
  {
   "cell_type": "code",
   "execution_count": 13,
   "metadata": {},
   "outputs": [],
   "source": [
    "split_sents = [len(custom_sent_tokenize(s)) for s in df_splits]"
   ]
  },
  {
   "cell_type": "code",
   "execution_count": 14,
   "metadata": {},
   "outputs": [
    {
     "data": {
      "text/plain": [
       "<matplotlib.axes._subplots.AxesSubplot at 0x28a858cc780>"
      ]
     },
     "execution_count": 14,
     "metadata": {},
     "output_type": "execute_result"
    },
    {
     "data": {
      "image/png": "[encoded data removed]",
      "text/plain": [
       "<matplotlib.figure.Figure at 0x28a858ccef0>"
      ]
     },
     "metadata": {},
     "output_type": "display_data"
    }
   ],
   "source": [
    "sns.set_style(\"whitegrid\")\n",
    "#plt.xticks(np.arange(0, 150, 5.0))\n",
    "plt.rcParams.update({'font.size': 16})\n",
    "plt.title('Sentences in a split segment')\n",
    "sns.boxplot(x=split_sents)"
   ]
  },
  {
   "cell_type": "code",
   "execution_count": 15,
   "metadata": {},
   "outputs": [
    {
     "data": {
      "text/plain": [
       "84"
      ]
     },
     "execution_count": 15,
     "metadata": {},
     "output_type": "execute_result"
    }
   ],
   "source": [
    "max(split_sents)"
   ]
  },
  {
   "cell_type": "code",
   "execution_count": 16,
   "metadata": {},
   "outputs": [
    {
     "data": {
      "text/plain": [
       "1"
      ]
     },
     "execution_count": 16,
     "metadata": {},
     "output_type": "execute_result"
    }
   ],
   "source": [
    "min(split_sents)"
   ]
  },
  {
   "cell_type": "code",
   "execution_count": 17,
   "metadata": {},
   "outputs": [
    {
     "data": {
      "text/plain": [
       "17.19569589702333"
      ]
     },
     "execution_count": 17,
     "metadata": {},
     "output_type": "execute_result"
    }
   ],
   "source": [
    "np.mean(split_sents)"
   ]
  },
  {
   "cell_type": "code",
   "execution_count": 18,
   "metadata": {},
   "outputs": [
    {
     "data": {
      "text/plain": [
       "17.0"
      ]
     },
     "execution_count": 18,
     "metadata": {},
     "output_type": "execute_result"
    }
   ],
   "source": [
    "np.median(split_sents)"
   ]
  },
  {
   "cell_type": "code",
   "execution_count": 19,
   "metadata": {},
   "outputs": [
    {
     "data": {
      "text/plain": [
       "10.0"
      ]
     },
     "execution_count": 19,
     "metadata": {},
     "output_type": "execute_result"
    }
   ],
   "source": [
    "np.percentile(split_sents, 5)"
   ]
  },
  {
   "cell_type": "code",
   "execution_count": 20,
   "metadata": {},
   "outputs": [],
   "source": [
    "min_sent = [s for s in df_splits if len(custom_sent_tokenize(s)) <3]"
   ]
  },
  {
   "cell_type": "code",
   "execution_count": 21,
   "metadata": {},
   "outputs": [
    {
     "data": {
      "text/plain": [
       "18"
      ]
     },
     "execution_count": 21,
     "metadata": {},
     "output_type": "execute_result"
    }
   ],
   "source": [
    "len(min_sent)"
   ]
  },
  {
   "cell_type": "code",
   "execution_count": 22,
   "metadata": {},
   "outputs": [
    {
     "name": "stdout",
     "output_type": "stream",
     "text": [
      "1\n",
      "I recently saw the doom movie ,the movie I have been waiting for MONTHS to see and finally got the chance.The game was quite satanic with pentagrams,heavy weaponary,exceptionally frightning monsters and total darkness and hell.The legion of DOOM fans expected to see all these elements in the movie.The previews highlighted that the movie will have lots of gore ,swearing and R rated themes.But all these elements didn's make up for the fact that DOOM was not DOOM 3 (which I suppose it meant to be)The greatest mistake the producers made was removing the hellish theme and puttting in another resident evil decoy.Also is the fact that aliens did the same thing (at least they were original in their time).But this is only the beginning, The movie starts in a really mind blowing way witb mars in the most satanic picture and olduvai being overrun by creatures and scientists fleeing for their life.Within five minutes the gore starts to take place with somebody's arm being crushed within closing doors and the rest of the body being massacred on the outside.After that one scene there was nothing but dissappoint for the next 1 hour.The marines suit up....go into chopper....handle id...reaper.....mac...portman.....then finally reach the nevada desert where the portal is finally shown.Any doom fan who has seen the portals in DOOM 3 would laugh his head off.I mean the portals in DOOM 3 was really realistic and this portal looks like somebody puked and the puke defys gravity.O.K cutting to the chase ,the marines reach mars ,meet dr grimm,meet pinky....go down under and from there its one hour of travelling mindlessely through dark corridors, moving your gun in every direction possible ,finding dead bodies and pursuing 1 imp through the corridors.Then finally in the sewers killing that imp which finally turns out to be a mutated human.THIS PLEASANT FACT REALLY DESTROYS DOOM 3.Then there are no demons at all except for one hellknight that destroyer FIST fights witH.i mean come on.....he 's got a heavy duty chaingun out of which he spends some 50 bullets hitting the air.Slowly one by one the marines are being slaughtered and dr grimm is reavealing the secret behind the genetics.\n",
      "-----------------------------\n",
      "$$$$$$$$$$$$$$$$$$$$$$$$$$$$$$$\n",
      "2\n",
      "My Name is Bruce(with wide release in Oct/08),produced in cooperation with Dark Horse comics,is full of self deprecating comments like that one throughout its'86 minute run.In fact everyone gets a send up including people like you and me who review here on Amazon!That specific reference,like every other in this film,tells you never,but never,take yourself too seriously.\n",
      "-----------------------------\n",
      "The film's plot has four kids out on a lark to a cemetery outside the backwoods mining town of Goldlick.One of the teens(Jeff)takes the protective marker off some wood around an entrance to a local mine.This unleashes Guan-Di,the spirit protector of 100 Chinese miners who perished long ago in an accident there.The scene shifts to Bruce on the set of his \"latest\" B(or C,or E,or....)film called Cavealien 2.Things are not going well and he gets spiffed and heads back to his home/trailer.With a knock on the door comes a bonk on the head and before he knows it Bruce is up in Goldlick to help save the town from Guan -Di,whose fave pastime is chopping the heads off anyone who comes within a few feet of him.Campbell is more than peeved at his kidnapping until he reasons it is all just a birthday joke set up by his agent.He plays along with the townsfolk until later he actually meets up with Guan-Di,mano et monster,and immediately retreats for all he's worth.He makes his way back to his trailer but gets a phone call from Jeff who is now taking on the demon by himself to save the town.Bruce has second thoughts,not to mention the guilt's,and hurries back to Goldlick.He meets up with Jeff's mother who didn't know about her son's plan,and which,by the way,spawns the title quote for this review.They both race to the graveyard and find Jeff.Working together to defeat Guan-Di they try and trap him in the mine again but just as they are walking away Guan-Di slips up behind them and the three simultaneously scream.The film stops and we are in a projection room where Campbell asks the makers if they can't have a happy ending for a change.The film runs a cheesy happy ending and as Bruce stands up applauding this change Guan-Di springs out of the screen,\"heading\" for Bruce.\n",
      "-----------------------------\n",
      "$$$$$$$$$$$$$$$$$$$$$$$$$$$$$$$\n",
      "1\n",
      "Unlike \"Fast Times\" this Universal Collector's Edition DVD is done right, Conan finally looks good, it literally sucked on VHS, but now it shines, thanks to DVD technology, This was the movie that put Arnold Schwarzenegger on the map, it starts off with Conan as a child that witnesses the brutal slaughter of his people, as his mother & father fight off their attackers they too are killed, James Earl Jones is seen here as Thulsa Doom, a warrior that is wiping out anyone & everyone who he sees fit, he spares Conan & literally takes his father's sword, he even decapitates his mother next to him, Conan is soon sold into child slaverly, where he endures hard labor, years of this labor eventually build him up into Arnold who is then freed only to serve his master in gladiator-like competition, soon he is freed permanantly, what follows is Conan's sense of self where he discovers a tomb centuries old, it is here that he takes his trademark sword & begins a quest for revenge, along the way he encounters a seductive woman who knows the whereabouts of Thulsa Doom, but Conan has to offer her sex in return for information, which she gladly gives before changing into what appears to be a vampire, Conan soon disposes of her in a rather comical if not bizarre moment, he soon meets up with Subi-Ti(Gerry Lopez) as they steal their way from one palce to another, they soon meet up with Valeria(Sandahl Bergman) who comes off as a Xena-type warrior, who helps them take a diamond from Doom's castle of death, they are soon captured & brought before King Osaric(Max Von Sydow)who at first seems appalled by their actions, but soon commends them for their bravery & gives them all the wealth in return for one favor: steal his daughter back, who has fallen for Thulsa Doom as his slave, despite the sudden wealth Conan is obsessed with revenge, even Valeria who becomes his lover can't even shake his obsession, soon Conan is on a lonely quest, & is soon captured by Doom's thugs, they beat him to a blooby pulp, soon we see Doom, this is where Jones' Doom comes to life, as he rants & raves about his generosity in letting Conan live, Conan is later crusified on a tree, soon Subi-Ti finds him & he & Valeria along with a Wizard(Mako in a memorable role) nurse Conan back to health, once done they set out to get the daughter which they do, which results in Conan -vs- Thulsa Doom's men, the highlight of this movie is the very end after Conan has wiped out his men, his confrontation with Doom is the best as Conan finally gets payback, the Collector's Edition has a slight different ending surrounding this scene, but it works very well, one wonders why it wasn't left in, this is one of Arnold's better movies, better than \"Terminator\" I think, the audio commetary by Arnold & director John Milius is cool, you can tell these guys had fun making this movie, they even hint at doing another, which would be cool, \"Conan-vs-The Scorpion King\", that would be cool, possible, they are both owned by Universal.\n",
      "-----------------------------\n",
      "$$$$$$$$$$$$$$$$$$$$$$$$$$$$$$$\n",
      "2\n",
      " Roger Corman's Original 1960 version of \"The Little Shop Of Horrors\" is considered by many as a true cult classic comedy of B-Movies,even the most respected of film critics.Unfortunately depending on the tastes and opinions of film fans that were used to seeing this legendary film comedy through the public domain since there was a lack of copyright in the titles,(same thing had happen to \"Night Of The Living Dead\") and for many years since the dawn of the videocassette and late late movie shows,those versions were vastly inferior and often poor-looking in terms of presentation and contrast.Now the great folks at Legend Films have finally put out a brand-new definitive and excellent restored presentation of this cult hit on DVD in both the original black & white version as well as the disc's main presentation of showcasing a brand-new restored digitally colorized version too.As with previous selected Legend releases of classic horror/B-movies in their DVD series,the disc features a well-done and at times hilarious commentary by MST3K's Mike Nelson and the great thing is that you can listen to the track on both versions of the film,giving the b&w; version sort of a MST3K-flavor to it (I love how he refers to the opening Filmgroup logo as little Reese Cups !\n",
      "-----------------------------\n",
      ").Despite packaging claims that is the first time the film has been colorized,it's actually the second colorized incarnation of the film.First colorized on videocassette in the very late '80's with lousy and at times amateur results,this Legend version completely blows away the first attempt and looks like it was actually filmed in color,but of course this films' legendary budgetary constraints prevented from actually filming it in color.Of course lets not forget that the film features a very very young Jack Nicholson,in his fourth film role,in a memorable role as a crazy dentist patient.I must say,this Legend version of \"Little Shop\" is probably the most superior and sharpest looking out of all the previous versions of the film that you're possibly going to see and no wonder it was transferred from an excellent 35mm print of the film !\n",
      "-----------------------------\n",
      "$$$$$$$$$$$$$$$$$$$$$$$$$$$$$$$\n",
      "2\n",
      "I hope people don't think this team was put together by statistics alone and they went out and got misfits to play.\n",
      "-----------------------------\n",
      "January 1st at 12:01 they knocked on the door of former Catcher for the Boston Red Sox who was non-tendered and 12:01 was the 1st time they could sign him so obviously they feared other teams being interested, the point of signing him was to replace Giambi's, Damon's numbers...they replaced the OBP% almost but not the power, also don't forget Oakland had the studded rotation of Hudson, Mulder, Zito even a better trio than today's Halliday, Lee and Hamels...so this wasn't an improvished team that won 102 games based on misfits...true Bradford was a discovery but logical if you look at his stats, this was something overlooked or not trusted by the White Sox basically they sent him anticipating he wasn't good or would soon bomb but in actuality he never did bomb...believe me if you can put together a rotation like the 2002 A's had you can win high 90s low 100s in wins while having a middle of the pack offense...Justice made up for some of Giambi's power and more of the OBP%...also the A's were for the most part a good defensive team the Catcher turned 1st baseman actually superceded all expectations defensively and don't forget they had a gold calibar 1st baseman before trading him to Detroit in Carlos Pena...ultimately they lost to the Yankees because they didn't have the fire power offense in the playoffs but they didn't play that bad at all...this movie in a nutshell was really about belief in the system of numbers although if you can find players to fit the number system you have great players...eg finding pitchers with low whips, whips is a combo of hits, walks divided by innings pitched if you can find 10 pitchers with whips between 1.00 and 1.25 you'll win the division...same as OPS which is a combo of slugging average and on base percentage if you can find 9 starters with an average .800 OPS you'll score alot of runs...this was what the point was to believe in the numbers...versus evaluating a player by what you see or what you think will become of him...to be honest the talents will be the hitters who wait for their pitch, the best pitchers are the one's most efficient, the one's who can throw the highest percentage of pitches for strikes, walk the least, yield the least hits...duh, no baserunners no runs can score...so the system makes incredible sense...prior ERA's was used to evaluate a pitchers worth and/or strikeouts, wins now the thinking has changed to a degree...oh yeah velocity was everything, still is by most organizations but not all of them...alot of what is used was used but put away and then brought back...it's a complicated game not so simple and everyone thinks that teams with the most money win which really isn't true, there's a decent amount of teams with high payrolls that have losing records each year and teams with relatively low payrolls that win alot of games eg Tampa Bay and in recent years Minnesota.\n",
      "-----------------------------\n",
      "$$$$$$$$$$$$$$$$$$$$$$$$$$$$$$$\n",
      "2\n",
      " Roger Corman's Original 1960 version of \"The Little Shop Of Horrors\" is considered by many as a true cult classic comedy of B-Movies,even the most respected of film critics.Unfortunately depending on the tastes and opinions of film fans that were used to seeing this legendary film comedy through the public domain since there was a lack of copyright in the titles,(same thing had happen to \"Night Of The Living Dead\") and for many years since the dawn of the videocassette and late late movie shows,those versions were vastly inferior and often poor-looking in terms of presentation and contrast.Now the great folks at Legend Films have finally put out a brand-new definitive and excellent restored presentation of this cult hit on DVD in both the original black & white version as well as the disc's main presentation of showcasing a brand-new restored digitally colorized version too.As with previous selected Legend releases of classic horror/B-movies in their DVD series,the disc features a well-done and at times hilarious commentary by MST3K's Mike Nelson and the great thing is that you can listen to the track on both versions of the film,giving the b&w; version sort of a MST3K-flavor to it (I love how he refers to the opening Filmgroup logo as little Reese Cups !\n",
      "-----------------------------\n",
      ").Despite packaging claims that is the first time the film has been colorized,it's actually the second colorized incarnation of the film.First colorized on videocassette in the very late '80's with lousy and at times amateur results,this Legend version completely blows away the first attempt and looks like it was actually filmed in color,but of course this films' legendary budgetary constraints prevented from actually filming it in color.Of course lets not forget that the film features a very very young Jack Nicholson,in his fourth film role,in a memorable role as a crazy dentist patient.I must say,this Legend version of \"Little Shop\" is probably the most superior and sharpest looking out of all the previous versions of the film that you're possibly going to see and no wonder it was transferred from an excellent 35mm print of the film !\n",
      "-----------------------------\n",
      "$$$$$$$$$$$$$$$$$$$$$$$$$$$$$$$\n",
      "1\n",
      "Version: U.S.A / Region A, B, C Aspect ratio: 2.35:1 VC-1 BD-50 / Advanced Profile 3 / Advanced Profile 2 (IME) / 1080p Subtitles: English SDH / Dutch / French / Italian / Japanese / Portuguese / Spanish *********************************************************************** Title: The Matrix Running time: 2:16:17 Movie size: 28,44 GB Disc size: 39,83 GB Average video bit rate: 16.44 Mbps Number of chapters: 38 Dolby TrueHD Audio  English  1646 kbps  5.1 / 48kHz / 16-bit / 1646kbps (AC3 Core: 5.1 / 48kHz / 640kbps) Dolby Digital Audio  English  640 kbps  5.1 / 48kHz / 640kbps Dolby Digital Audio  French  640 kbps  5.1 / 48kHz / 640kbps Dolby Digital Audio  Italian  640 kbps  5.1 / 48kHz / 640kbps Dolby Digital Audio  Japanese  640 kbps  5.1 / 48kHz / 640kbps Dolby Digital Audio  English  192 kbps  2.0 / 48kHz / 192kbps Dolby Digital Audio  English  192 kbps  2.0 / 48kHz / 192kbps Dolby Digital Audio  English  192 kbps  2.0 / 48kHz / 192kbps Dolby Digital Audio  English  192 kbps  2.0 / 48kHz / 192kbps Dolby Digital Audio  Portuguese  192 kbps  2.0 / 48kHz / 192kbps Dolby Digital Audio  Spanish  192 kbps  2.0 / 48kHz / 192kbps Dolby Digital Plus Audio  English  192 kbps  2.0 / 48kHz / 192kbps *********************************************************************** Title: The Matrix Reloaded Running time: 2:18:15 Movie size: 26,00 GB Disc size: 39,74 GB Average video bit rate: 13.89 Mbps Number of chapters: 36 Dolby TrueHD Audio  English  1781 kbps  5.1 / 48kHz / 16-bit / 1781kbps (AC3 Core: 5.1 / 48kHz / 640kbps) Dolby Digital Audio  English  640 kbps  5.1 / 48kHz / 640kbps Dolby Digital Audio  French  640 kbps  5.1 / 48kHz / 640kbps Dolby Digital Audio  Italian  640 kbps  5.1 / 48kHz / 640kbps Dolby Digital Audio  Japanese  640 kbps  5.1 / 48kHz / 640kbps Dolby Digital Audio  English  192 kbps  2.0 / 48kHz / 192kbps Dolby Digital Audio  English  192 kbps  2.0 / 48kHz / 192kbps Dolby Digital Audio  Portuguese  192 kbps  2.0 / 48kHz / 192kbps Dolby Digital Audio  Spanish  192 kbps  2.0 / 48kHz / 192kbps Dolby Digital Plus Audio  English  224 kbps  2.0 / 48kHz / 224kbps *********************************************************************** Title: The Matrix Revolutions Running time: 2:09:15 Movie size: 24,26 GB Disc size: 36,42 GB Average video bit rate: 13.88 Mbps Number of chapters: 34 Dolby TrueHD Audio  English  1801 kbps  5.1 / 48kHz / 16-bit / 1801kbps (AC3 Core: 5.1 / 48kHz / 640kbps) Dolby Digital Audio  English  640 kbps  5.1 / 48kHz / 640kbps Dolby Digital Audio  French  640 kbps  5.1 / 48kHz / 640kbps Dolby Digital Audio  Italian  640 kbps  5.1 / 48kHz / 640kbps Dolby Digital Audio  Japanese  640 kbps  5.1 / 48kHz / 640kbps Dolby Digital Audio  English  192 kbps  2.0 / 48kHz / 192kbps Dolby Digital Audio  English  192 kbps  2.0 / 48kHz / 192kbps Dolby Digital Audio  Portuguese  192 kbps  2.0 / 48kHz / 192kbps Dolby Digital Audio  Spanish  192 kbps  2.0 / 48kHz / 192kbps Dolby Digital Plus Audio  English  224 kbps  2.0 / 48kHz / 224kbps *********************************************************************** Title: The Animatrix Running time: 1:40:50 Movie size: 25,40 GB Disc size: 39,25 GB Average video bit rate: 20.42 Mbps Number of chapters: 10 Dolby TrueHD Audio  English  1822 kbps  5.1 / 48kHz / 16-bit / 2203kbps (AC3 Core: 5.1 / 48kHz / 640kbps) Dolby TrueHD Audio  Japanese  1857 kbps  5.1 / 48kHz / 16-bit / 2283kbps (AC3 Core: 5.1 / 48kHz / 640kbps) Dolby Digital Audio  English  640 kbps  5.1 / 48kHz / 640kbps Dolby Digital Audio  French  640 kbps  5.1 / 48kHz / 640kbps Dolby Digital Audio  Italian  640 kbps  5.1 / 48kHz / 640kbps Dolby Digital Audio  Japanese  640 kbps  5.1 / 48kHz / 640kbps Dolby Digital Audio  Portuguese  640 kbps  5.1 / 48kHz / 640kbps Dolby Digital Audio  Spanish  640 kbps  5.1 / 48kHz / 640kbps\n",
      "-----------------------------\n",
      "$$$$$$$$$$$$$$$$$$$$$$$$$$$$$$$\n",
      "1\n",
      " Let me explain.This is most likely pure,undiluted conjecture on my part,but I get the feeling that some of the dodgier elements of the first \"Batman\" film were due to studio interference:the tentative nature of the Joker,the weak leading lady(nothing against Kim Basinger at all,she just doesn't belong in a Burton film)and the contrived romance between Vicky Vale and Bruce Wayne.Bruce is a character who would be drawn to more than looks,and unfortunately that's all Vale's character offers.And let's just mention Robert Wuhl.All this seemed to be the studios way of taking Burton's original vision,which was probably much darker and more caustic,and making it more palatable to a summer audience.And if my estimation of Burton as an artist is accurate,he probably bristles fiercely at such interference.And so we have,\"Batman Returns\",which retains the florid atmosphere of the first one,all grand,decaying Gothic austerity offset with fun-house thrills,and completely buries all sense of compromise(having a film become one of the biggest money-makers of all time gives you that privelege).Opening with a smashingly designed and executed sequence,we see the origins of the Penguin,(Danny DeVito)from his birth to wealthy parents,who leave him floating in the sewer because of his grotesque deformaties.The scene is as sad and haunting as any in Burton's work.Next we meet Max Shreck,played to absolute perfection by Christopher Walken,a shady business Tycoon,who has Gotham City wrapped around his evil little finger.His assistant,Selina Kyle,(Michelle Pfieffer)who when we first meet her is a mousy wallflower,is in on his shady dealings,involving a scheme to monopolize Gotham's power supply.He finds out she's on to him,and pushes her out a window,ostensibly killing her.But she survives,having been \"rescued\" by a horde of stray cats.But there's something decidedly different about her as she goes home and transforms her self into the Catwoman.Pfieffer is a righteous,fired-up marvel as the sexy,lethal Catwoman,and she seems to have a ball,finding the wounded pride and swaggering confidence of the character.It's a grand,unforgettable performance.Pfieffer certainly makes a much more convincing love interest for Bruce Wayne(Micheal Keaton,once again).She meets him as Salina,but he immedeately notices her dark side.Thier conversation at his manor is pure gold.When the talk turns to former girlfriends,he mentions Vicky Vale.Selina:\"Vicky?\n",
      "-----------------------------\n",
      "$$$$$$$$$$$$$$$$$$$$$$$$$$$$$$$\n",
      "2\n",
      "When Hollywood opts to make a movie about your life, man you have arrived, at least in that zip code you have..That's just how it is!..Fame is its own metric..Understand, the odds of getting any movie on any given subject green-lighted, is about as likely as winning a 5 state powerball lottery!..So, despite Ed Wood's well publicised reputation as the very worst film-maker in the no-talent B movie genre, but more specifically, in overall Hollywood film history, some studio executive decided portions of Ed's life were worth reexamination..The moral, if you're going to live, by all means live extravagantly!..What was it then about Ed Wood that set him apart from the laundry list of long forgotten low-brow film makers?..Is it even a worthwhile discussion, a fluke, or just more schmaltz?..And why would a talent like Tim Burton, who after all launched the first \"Batman\", an enormous big budget extravaganza want to take \"Ed Wood\" the project, on?..Ed Wood, the film-maker, writer, producer, financier?\n",
      "-----------------------------\n",
      "was the irrepressible everyman, that didn't/couldn't fathom personal failure, like he'd had a sensitivity bypass at birth..Didn't understand he had no right to approach a giant, a legend, like Bela Lugosi, and see if he would star in the movie of a producer not only not well known, not well funded, but worse, not welcome!..Despite, Bela had been long forgotten and written off as an incorrigible junkie, which he was, by that same film colony that once embraced his talent, that single-handedly toted the note for a select studio in town, for years..The story of \"Ed Wood\" is the story of Hollywood, itself..A town built on impossible dreams by impossible dreamers..And Ed Wood's gift in the end was either his fearlessness or his abject ignorance..Sounds like the bio of Jon Peters to me!..The most endearing quality about Ed Wood's was his naivete and his super saleamanship skills, because he was obviously totally bereft of talent or taste..He saw himself as a film-maker and evidently that was what he declared himself to be!..And the only explicable reason he is remembered today, and remains a certifiable Hollywood icon!..Johhny Depp brought Ed Wood to life, and credit to Johnny for seeing the infinite possibilties in the script, and Ed's character..I saw \"Ed Wood\" with enormous trepidation, how could this movie/concept be of interest, or have a scintilla of entertainment value?..And within minutes was shocked by the genuis of the idea, cast, and crew, and depth of the story..The most redeeming feature of the movie was Johnny Depp's absolute sincerity and respect for his character and for the character of Bela Lugosi..I revist \"Ed Wood\" every chance I get, and thought parts of \"Bowfinger\", were in many respects a reincarnation of \"Ed Wood\", and as equally as charming..See \"Ed Wood\" soon..You will be reminded that movies are ultimately about people and their stories, not just special effects, though that was above all else, Ed Wood's preferred domain!\n",
      "-----------------------------\n",
      "$$$$$$$$$$$$$$$$$$$$$$$$$$$$$$$\n",
      "2\n",
      " Roger Corman's Original 1960 version of \"The Little Shop Of Horrors\" is considered by many as a true cult classic comedy of B-Movies,even the most respected of film critics.Unfortunately depending on the tastes and opinions of film fans that were used to seeing this legendary film comedy through the public domain since there was a lack of copyright in the titles,(same thing had happen to \"Night Of The Living Dead\") and for many years since the dawn of the videocassette and late late movie shows,those versions were vastly inferior and often poor-looking in terms of presentation and contrast.Now the great folks at Legend Films have finally put out a brand-new definitive and excellent restored presentation of this cult hit on DVD in both the original black & white version as well as the disc's main presentation of showcasing a brand-new restored digitally colorized version too.As with previous selected Legend releases of classic horror/B-movies in their DVD series,the disc features a well-done and at times hilarious commentary by MST3K's Mike Nelson and the great thing is that you can listen to the track on both versions of the film,giving the b&w; version sort of a MST3K-flavor to it (I love how he refers to the opening Filmgroup logo as little Reese Cups !\n",
      "-----------------------------\n",
      ").Despite packaging claims that is the first time the film has been colorized,it's actually the second colorized incarnation of the film.First colorized on videocassette in the very late '80's with lousy and at times amateur results,this Legend version completely blows away the first attempt and looks like it was actually filmed in color,but of course this films' legendary budgetary constraints prevented from actually filming it in color.Of course lets not forget that the film features a very very young Jack Nicholson,in his fourth film role,in a memorable role as a crazy dentist patient.I must say,this Legend version of \"Little Shop\" is probably the most superior and sharpest looking out of all the previous versions of the film that you're possibly going to see and no wonder it was transferred from an excellent 35mm print of the film !\n",
      "-----------------------------\n",
      "$$$$$$$$$$$$$$$$$$$$$$$$$$$$$$$\n",
      "1\n",
      " I was excited to get this blu-ray set when it was first announced; but then, after it was released, I hesitated to buy it for two reasons:  the $70 price tag and the reviews from people who had trouble with discs not loading in their players.\n",
      "-----------------------------\n",
      "$$$$$$$$$$$$$$$$$$$$$$$$$$$$$$$\n",
      "2\n",
      " Roger Corman's Original 1960 version of \"The Little Shop Of Horrors\" is considered by many as a true cult classic comedy of B-Movies,even the most respected of film critics.Unfortunately depending on the tastes and opinions of film fans that were used to seeing this legendary film comedy through the public domain since there was a lack of copyright in the titles,(same thing had happen to \"Night Of The Living Dead\") and for many years since the dawn of the videocassette and late late movie shows,those versions were vastly inferior and often poor-looking in terms of presentation and contrast.Now the great folks at Legend Films have finally put out a brand-new definitive and excellent restored presentation of this cult hit on DVD in both the original black & white version as well as the disc's main presentation of showcasing a brand-new restored digitally colorized version too.As with previous selected Legend releases of classic horror/B-movies in their DVD series,the disc features a well-done and at times hilarious commentary by MST3K's Mike Nelson and the great thing is that you can listen to the track on both versions of the film,giving the b&w; version sort of a MST3K-flavor to it (I love how he refers to the opening Filmgroup logo as little Reese Cups !\n",
      "-----------------------------\n",
      ").Despite packaging claims that is the first time the film has been colorized,it's actually the second colorized incarnation of the film.First colorized on videocassette in the very late '80's with lousy and at times amateur results,this Legend version completely blows away the first attempt and looks like it was actually filmed in color,but of course this films' legendary budgetary constraints prevented from actually filming it in color.Of course lets not forget that the film features a very very young Jack Nicholson,in his fourth film role,in a memorable role as a crazy dentist patient.I must say,this Legend version of \"Little Shop\" is probably the most superior and sharpest looking out of all the previous versions of the film that you're possibly going to see and no wonder it was transferred from an excellent 35mm print of the film !\n",
      "-----------------------------\n",
      "$$$$$$$$$$$$$$$$$$$$$$$$$$$$$$$\n",
      "2\n",
      " I was a Male War Bride(released Aug/49),starring Cary Grant and Ann Sheridan,is set against the back drop of a post war Europe,specifically Germany,when it was divided into zones and run by the allies.The starkness and devastation of the countryside and people is quite evident all through the picture.With this as a bleak backdrop,the comedy doesn't flow as naturally as it otherwise would have.But there is no denying Grants ability in the comedy department as Hawks gives him every opportunity to shine,whether he is fighting with his extremities laying on a chair or in a tub or dressing in drag.One particular gag that stands out is a page taken right out of the Laurel and Hardy play book.Instead of Oliver Hardy this time it is Grant.It is later in the day and they both are exhausted from a long ride and lost.There is a signpost but Grant cannot read it and Sheridan tells him to go over and look.He does but still cannot make it out.Sheridan says:\"Well,climb up and see\".Grant does but still can't tell what it says as it is in German.Sheridan finally turns around and catches what it says and starts to snicker.Grant slips back down the signpost and realizes,because of the nice white streak down his front,it must have said wet paint.This gag was originally done on film in the 20s then reprised in the 40s by The Boys.Grant would many times slip into a Stan Laurel or Oliver Hardy-ish mode in his films,and I have often wondered whether Grant and the Boys ever met and talked,because there is a definite influence there.\n",
      "-----------------------------\n",
      "The plot involves Sheridan who is a lieutenant in the American WACS and Grant is,of all things,a Captain in the French army.If you can wrap your head around Grant,with his accent,being French,you know you will like the film.And in typical Grant style,he pulls it off,but for the life of me don't ask me how.It's a Grant \"thing\",I guess.The two characters have obviously worked together before and Grant is sent on a mission to a town in Germany.Who is ordered to accompany him but Sheridan.In fact Sheridan is Grant's driver,on a motorcycle yet;regulations you understand!\n",
      "-----------------------------\n",
      "$$$$$$$$$$$$$$$$$$$$$$$$$$$$$$$\n",
      "2\n",
      "This is honestly the best romantic comedy I've ever seem, at least in recent memory.When people say this movie is predictable, I want them to ask themselves this, is there a romantic comedy, where you have absolutely no idea how things will turn out?I think that answer would be no, and while here you do have the basic idea on how things will turn out, that's basically it.\n",
      "-----------------------------\n",
      "Many romantic comedies these days are so shallow and predictable, that you can just tell what each character is going to say.Ok, so lets get to the point.The movie starts out with a talent scout for an aspiring national network, tabloid television show,Her name is Jane Goodale,(played by Ashely Judd).Within 10 minutes of the movie, she meets coworker Ray Brown (Greg Kinnear), and right away sparks are flying between the two.After a few dates the two start dating, and are on the verge of moving in together.But after Ray breaks up with his girlfriend(whom he was cheating on with Jane), things start to change.The romance is definately wearing off, and Ray seems to be avoiding Jane.Then Ray breaks the big news,he \"can't do this\".Of course Jane is left completely crushed, and also without a place to live(her apartement has been re-rented, and she and Ray are obviously not moving together).Which brings us to the third of the main chracters, Eddie(played by Hugh Jackman).Eddie is another one of Jane's co-workers, and he is your typical womanizer.Well, as it turns out, Eddie is in search of a roomate, and Jane jumps at the chance,mainly to make Ray jealous, and also because she doesn't have a place to live.The relationship with Eddie starts out with them constantly bickering, and complaining about one another's behavior.But, slowly, the two start to unravel, and a more understanding relationship develops between them .Meanwhile,Jane, still broken-hearted from her sudden breakup with Ray, is obssessed.There seems to be no way to put her mind at rest, because Jane needs a reason, on why she was so suddently dumped by the man of her dreams.And then she discovers what she feels explains everything-\"The Cow Theory\".In this theory, it is explained the men leave their women because the newness simply wears off, and the men want \"new cow\".Jane becomes obssessed with this theory, because it seems to give her a reason as to why the relationship of herdreams so suddently ended.A little more into the movie,Jane's best friend(played by Marisa Tomei), who works for a magazine, gives Jane an idea.To publish a story on this \"cow theory\", under a pseudonym.Well, Jane chooses to be the a 72 year old Phd, Marie Charles.What Jane doesn't expect is how the story just suddently blows up into a national phenomenon.Before she knows, \"Marie Charles\" is to appear on Jane's television show.This leads to a discovery, and a newfound happiness.\n",
      "-----------------------------\n",
      "$$$$$$$$$$$$$$$$$$$$$$$$$$$$$$$\n",
      "2\n",
      " There is no ability present to offer a sunflower seed to be the equal to a human being.It is further suggested that though some out of space meteor shower of a sort might provide just such a condition that that condition is so far fetched as not to be serious.There does not, simply put, exist proof of any kind whereby a human being could be so suckered as to be a walking talking sunflower seed.This most certainly is not a funny film and it certainly is not a friendly film.If what the film appears to suggest in that this particular kind of personality is as a result of some meteor shower then liberties are stretched to a point whereby the suggestion is not provable.The offense to this nonsense rests on the suggestive hysteria that indeed what is not provable has in fact been proven.How in the world would such an event occur whereby what is not possible has occurred?\n",
      "-----------------------------\n",
      "The supposition further is as illiterate as it is in fact not true.The stretch here is in fact that though there are no sunflower seeds walking around there is in fact a world whereby we know not of what is this world we live in.The fear that is running amok has nothing to suggest that there is in fact any basis for such conduct be it provable or not.The complication is that this nonsense is made neither intelligent nor is conduct truly unseemly.It is a curious problem that though conduct is not out of sorts there appears to be a look-a like resting or perhaps evolving inside of a sea pod.I really in fact did not see this as an interesting discovery.It was equally difficult to place the fear that this motion picture seems to have established in its claim to fame.Outside of the apparent suggestion there is mostly a unprovable supposition that has no value ouside of the hysteria it engenders.That is interesting and does mean something other than merely a unprovable suppostion.The film only has that as having any interest that there seems to be some fella running around telling all that will listen that the skies are falling,the skies are falling.I do not know of how to look further other than that the wanton hysteria is all I really recalled as it was the only element that was worth a listen.The film though is useful as in reality there would not be any assistance whereby there is assistance in this Motion Picture.It is more to the point a very mis-leading telling of a story that has no basis in reality.Iam really not of the opinion that this film is just so, however a different day may need to be to place properly how out of sorts such a claim to fame really is.This film may very well be generated by the very leanest of considerations whereby it most certainly is that.It is not an attractive film it is not even an interesting film however when greater political theatre is looked at this is closer to being dangerous and even unhealthy than merely paranoic.\n",
      "-----------------------------\n",
      "$$$$$$$$$$$$$$$$$$$$$$$$$$$$$$$\n",
      "2\n",
      "I hope people don't think this team was put together by statistics alone and they went out and got misfits to play.\n",
      "-----------------------------\n",
      "January 1st at 12:01 they knocked on the door of former Catcher for the Boston Red Sox who was non-tendered and 12:01 was the 1st time they could sign him so obviously they feared other teams being interested, the point of signing him was to replace Giambi's, Damon's numbers...they replaced the OBP% almost but not the power, also don't forget Oakland had the studded rotation of Hudson, Mulder, Zito even a better trio than today's Halliday, Lee and Hamels...so this wasn't an improvished team that won 102 games based on misfits...true Bradford was a discovery but logical if you look at his stats, this was something overlooked or not trusted by the White Sox basically they sent him anticipating he wasn't good or would soon bomb but in actuality he never did bomb...believe me if you can put together a rotation like the 2002 A's had you can win high 90s low 100s in wins while having a middle of the pack offense...Justice made up for some of Giambi's power and more of the OBP%...also the A's were for the most part a good defensive team the Catcher turned 1st baseman actually superceded all expectations defensively and don't forget they had a gold calibar 1st baseman before trading him to Detroit in Carlos Pena...ultimately they lost to the Yankees because they didn't have the fire power offense in the playoffs but they didn't play that bad at all...this movie in a nutshell was really about belief in the system of numbers although if you can find players to fit the number system you have great players...eg finding pitchers with low whips, whips is a combo of hits, walks divided by innings pitched if you can find 10 pitchers with whips between 1.00 and 1.25 you'll win the division...same as OPS which is a combo of slugging average and on base percentage if you can find 9 starters with an average .800 OPS you'll score alot of runs...this was what the point was to believe in the numbers...versus evaluating a player by what you see or what you think will become of him...to be honest the talents will be the hitters who wait for their pitch, the best pitchers are the one's most efficient, the one's who can throw the highest percentage of pitches for strikes, walk the least, yield the least hits...duh, no baserunners no runs can score...so the system makes incredible sense...prior ERA's was used to evaluate a pitchers worth and/or strikeouts, wins now the thinking has changed to a degree...oh yeah velocity was everything, still is by most organizations but not all of them...alot of what is used was used but put away and then brought back...it's a complicated game not so simple and everyone thinks that teams with the most money win which really isn't true, there's a decent amount of teams with high payrolls that have losing records each year and teams with relatively low payrolls that win alot of games eg Tampa Bay and in recent years Minnesota.\n",
      "-----------------------------\n",
      "$$$$$$$$$$$$$$$$$$$$$$$$$$$$$$$\n",
      "2\n",
      " I was at Blockbuster and since there wasn't much of anything new to rent, and I swore to myself I would never watch this movie as I was a huge fan of the original.....well, you know what happened....and I HAD to write something about it, mainly due to the fact of feeling guilty..I figure could support the original more by stating what I thought of this movie...first off, if you never saw the original, this is a really cool movie..BUT if you have seen the original, then it doesn't hold water, and I think purists out there know what I'm talking about...Billy Bob Thorton did a good job, as always..the kid in the wheelchair (I already forgot the name of this actors or his character's name) was pretty damn funny as well..the rest of the acting , in my opinion, blew, especially from the kids that played Amanda and Kelly...I saw what Richard Linklater was going for with the Amanda character..he wanted authenticity as far as her pitching, and Sammi Kane Kraft in real life is an All Star Little League pitcher..BUT I'msure she couldn't have been the only female pitcher out there..seriously, her acting skills reminded me of one of those kids from that old nickelodeon show \"Fifteen\"...really wooden...awful(and in the bonus features on the DVD she said she got the part because she could pitch and knew she read well for it..that she was a natural when it came to acting)<sheesh>She had better pray to god she's going to be the first female Major League pitcher because she does not have a future in acting...I don't know the kids name that played Kelly Leak, but same thing with him...awful awful..which again in the bonus section on the DVD, he went to an open cast call..never acted before in his life, and it showed..Richard, I know you ahve a casting director but I still think you have final say..what the HELL were you thinking?\n",
      "-----------------------------\n",
      "As far as other things go in the movie, the musical score really could have been done better (if you watch it you'll get where i'm coming from), and the absense of character that Vic Morrow brought in the original was HUGE(Greg Kinnear's character had more of the wimp-dad feel..he wasn't as serious or a tempermental hothead...more buffoonish)...this movie overall was too cutesy(and as I said for a movie if it were something original would be really good, just not good for a remake), while the original had the \"real feel\"..seriously...I know movies are just that...not real..but that proves my point even more..if you didn't even ahve to think about that for the first one, it shows how ingenious it was...it didnt need to be remade..but this movie did have a couple of laughs, and BBT's Buttermaker was well done, hence the 3 stars..and sorry if I brought up the original movie comparisons , but there's no way around it as this is what it was..how could you not...rent the remake, BUY the original!\n",
      "-----------------------------\n",
      "$$$$$$$$$$$$$$$$$$$$$$$$$$$$$$$\n",
      "2\n",
      " Roger Corman's Original 1960 version of \"The Little Shop Of Horrors\" is considered by many as a true cult classic comedy of B-Movies,even the most respected of film critics.Unfortunately depending on the tastes and opinions of film fans that were used to seeing this legendary film comedy through the public domain since there was a lack of copyright in the titles,(same thing had happen to \"Night Of The Living Dead\") and for many years since the dawn of the videocassette and late late movie shows,those versions were vastly inferior and often poor-looking in terms of presentation and contrast.Now the great folks at Legend Films have finally put out a brand-new definitive and excellent restored presentation of this cult hit on DVD in both the original black & white version as well as the disc's main presentation of showcasing a brand-new restored digitally colorized version too.As with previous selected Legend releases of classic horror/B-movies in their DVD series,the disc features a well-done and at times hilarious commentary by MST3K's Mike Nelson and the great thing is that you can listen to the track on both versions of the film,giving the b&w; version sort of a MST3K-flavor to it (I love how he refers to the opening Filmgroup logo as little Reese Cups !\n",
      "-----------------------------\n",
      ").Despite packaging claims that is the first time the film has been colorized,it's actually the second colorized incarnation of the film.First colorized on videocassette in the very late '80's with lousy and at times amateur results,this Legend version completely blows away the first attempt and looks like it was actually filmed in color,but of course this films' legendary budgetary constraints prevented from actually filming it in color.Of course lets not forget that the film features a very very young Jack Nicholson,in his fourth film role,in a memorable role as a crazy dentist patient.I must say,this Legend version of \"Little Shop\" is probably the most superior and sharpest looking out of all the previous versions of the film that you're possibly going to see and no wonder it was transferred from an excellent 35mm print of the film !\n",
      "-----------------------------\n",
      "$$$$$$$$$$$$$$$$$$$$$$$$$$$$$$$\n"
     ]
    }
   ],
   "source": [
    "for segm in min_sent:\n",
    "    sents = custom_sent_tokenize(segm)\n",
    "    print(len(sents))\n",
    "    for s in sents:\n",
    "        print(s)\n",
    "        print('-----------------------------')\n",
    "    print('$$$$$$$$$$$$$$$$$$$$$$$$$$$$$$$')"
   ]
  },
  {
   "cell_type": "code",
   "execution_count": 39,
   "metadata": {},
   "outputs": [],
   "source": [
    "max_sent = df[df['num_sent'] > 100]"
   ]
  },
  {
   "cell_type": "code",
   "execution_count": 42,
   "metadata": {},
   "outputs": [
    {
     "data": {
      "text/html": [
       "<div>\n",
       "<style scoped>\n",
       "    .dataframe tbody tr th:only-of-type {\n",
       "        vertical-align: middle;\n",
       "    }\n",
       "\n",
       "    .dataframe tbody tr th {\n",
       "        vertical-align: top;\n",
       "    }\n",
       "\n",
       "    .dataframe thead th {\n",
       "        text-align: right;\n",
       "    }\n",
       "</style>\n",
       "<table border=\"1\" class=\"dataframe\">\n",
       "  <thead>\n",
       "    <tr style=\"text-align: right;\">\n",
       "      <th></th>\n",
       "      <th>index</th>\n",
       "      <th>positions</th>\n",
       "      <th>text</th>\n",
       "      <th>label</th>\n",
       "      <th>pos</th>\n",
       "      <th>num_sent</th>\n",
       "    </tr>\n",
       "  </thead>\n",
       "  <tbody>\n",
       "    <tr>\n",
       "      <th>13198</th>\n",
       "      <td>0</td>\n",
       "      <td>2133</td>\n",
       "      <td>The Girl Who Played with Fire, 2010 film The f...</td>\n",
       "      <td>True</td>\n",
       "      <td>[2133]</td>\n",
       "      <td>107</td>\n",
       "    </tr>\n",
       "    <tr>\n",
       "      <th>60850</th>\n",
       "      <td>0</td>\n",
       "      <td>2168</td>\n",
       "      <td>My first watch of Hostel: Part II on DVD. . . ...</td>\n",
       "      <td>True</td>\n",
       "      <td>[2168]</td>\n",
       "      <td>101</td>\n",
       "    </tr>\n",
       "    <tr>\n",
       "      <th>196667</th>\n",
       "      <td>0</td>\n",
       "      <td></td>\n",
       "      <td>Marnie, 1964 film The story begins with a woma...</td>\n",
       "      <td>False</td>\n",
       "      <td>[]</td>\n",
       "      <td>102</td>\n",
       "    </tr>\n",
       "  </tbody>\n",
       "</table>\n",
       "</div>"
      ],
      "text/plain": [
       "        index positions                                               text  \\\n",
       "13198       0      2133  The Girl Who Played with Fire, 2010 film The f...   \n",
       "60850       0      2168  My first watch of Hostel: Part II on DVD. . . ...   \n",
       "196667      0            Marnie, 1964 film The story begins with a woma...   \n",
       "\n",
       "        label     pos  num_sent  \n",
       "13198    True  [2133]       107  \n",
       "60850    True  [2168]       101  \n",
       "196667  False      []       102  "
      ]
     },
     "execution_count": 42,
     "metadata": {},
     "output_type": "execute_result"
    }
   ],
   "source": [
    "max_sent"
   ]
  },
  {
   "cell_type": "code",
   "execution_count": 44,
   "metadata": {},
   "outputs": [
    {
     "name": "stdout",
     "output_type": "stream",
     "text": [
      "107\n",
      "The Girl Who Played with Fire, 2010 film The film starts with a nude woman living in a large house in the country.\n",
      "-----------------------------\n",
      "How can she afford it?\n",
      "-----------------------------\n",
      "She searches for \"Legal Services\".\n",
      "-----------------------------\n",
      "Tattoo removal?\n",
      "-----------------------------\n",
      "A man meets her lawyer Bjurman.\n",
      "-----------------------------\n",
      "\"I'll be in touch.\"\n",
      "-----------------------------\n",
      "Lisbeth watches an apartment.\n",
      "-----------------------------\n",
      "She finds blank reports, and a revolver.\n",
      "-----------------------------\n",
      "'Millennium' editor Mikael has a new story about the sex trade in Sweden.\n",
      "-----------------------------\n",
      "This crime has low priority in the Justice Ministry.\n",
      "-----------------------------\n",
      "[Could there be a payoff?]\n",
      "-----------------------------\n",
      "Lisbeth has been away for a year, traveling abroad.\n",
      "-----------------------------\n",
      "She offers her apartment to a girl friend.\n",
      "-----------------------------\n",
      "They are close friends.\n",
      "-----------------------------\n",
      "One source about the sex trade story has disappeared.\n",
      "-----------------------------\n",
      "Can he be tracked with a free cell phone?\n",
      "-----------------------------\n",
      "The report is about ready to be published now.\n",
      "-----------------------------\n",
      "Mikael goes to get the photographs, and finds these two reporters won't talk.\n",
      "-----------------------------\n",
      "\"It sounded like gunshots\" he was told.\n",
      "-----------------------------\n",
      "[Nobody called the police?]\n",
      "-----------------------------\n",
      "The police investigate.\n",
      "-----------------------------\n",
      "Who has a motive?\n",
      "-----------------------------\n",
      "Should they reveal their sources?\n",
      "-----------------------------\n",
      "A man searches a rural cabin for something.\n",
      "-----------------------------\n",
      "The murder weapon was legal, registered to Bjurman.\n",
      "-----------------------------\n",
      "It has two fingerprints from Lisbeth!\n",
      "-----------------------------\n",
      "Her apartment is empty.\n",
      "-----------------------------\n",
      "Bjurman, the gun owner, is also dead!\n",
      "-----------------------------\n",
      "\"Trippel Mord\" says the headlines.\n",
      "-----------------------------\n",
      "Mikael believes Lisbeth is not guilty.\n",
      "-----------------------------\n",
      "Can anyone break into another person's computer and copy files?\n",
      "-----------------------------\n",
      "[Yes.\n",
      "-----------------------------\n",
      "Was it designed that way?]\n",
      "-----------------------------\n",
      "Miss Wu isn't reporter-friendly.\n",
      "-----------------------------\n",
      "\"Incompetent clowns\"?\n",
      "-----------------------------\n",
      "Can fingerprints alone be proof of guilt?\n",
      "-----------------------------\n",
      "[They show a person was there, but not the time.\n",
      "-----------------------------\n",
      "Mikael visits a man.\n",
      "-----------------------------\n",
      "\"Is this a prank?\"\n",
      "-----------------------------\n",
      "Mikael offers him a chance to explain.\n",
      "-----------------------------\n",
      "Lisbeth attacks a man, he hangs around to answer her questions.\n",
      "-----------------------------\n",
      "He admits to smuggling amphetamines from Talinn.\n",
      "-----------------------------\n",
      "Then his teen-age daughter returns home.\n",
      "-----------------------------\n",
      "There is another man who believes in Lisbeth's innocence: her boxing trainer.\n",
      "-----------------------------\n",
      "[Weight class?]\n",
      "-----------------------------\n",
      "A big blond man kidnaps Miss Wu (skills do not equalize weight class).\n",
      "-----------------------------\n",
      "A car chase for action.\n",
      "-----------------------------\n",
      "[No calls on the cell phone.]\n",
      "-----------------------------\n",
      "There is a fight in the shed.\n",
      "-----------------------------\n",
      "Will a fire destroy the evidence?\n",
      "-----------------------------\n",
      "No, they escape.\n",
      "-----------------------------\n",
      "The blond man had boxing training and felt no pain.\n",
      "-----------------------------\n",
      "One man talks to Mikael to keep his name secret.\n",
      "-----------------------------\n",
      "Zala was a gold mine of information.\n",
      "-----------------------------\n",
      "The Girl Who Played with Fire, 2010 film The film starts with a nude woman living in a large house in the country.\n",
      "-----------------------------\n",
      "How can she afford it?\n",
      "-----------------------------\n",
      "She searches for \"Legal Services\".\n",
      "-----------------------------\n",
      "Tattoo removal?\n",
      "-----------------------------\n",
      "A man meets her lawyer Bjurman.\n",
      "-----------------------------\n",
      "\"I'll be in touch.\"\n",
      "-----------------------------\n",
      "Lisbeth watches an apartment.\n",
      "-----------------------------\n",
      "She finds blank reports, and a revolver.\n",
      "-----------------------------\n",
      "'Millennium' editor Mikael has a new story about the sex trade in Sweden.\n",
      "-----------------------------\n",
      "This crime has low priority in the Justice Ministry.\n",
      "-----------------------------\n",
      "[Could there be a payoff?]\n",
      "-----------------------------\n",
      "Lisbeth has been away for a year, traveling abroad.\n",
      "-----------------------------\n",
      "She offers her apartment to a girl friend.\n",
      "-----------------------------\n",
      "They are close friends.\n",
      "-----------------------------\n",
      "One source about the sex trade story has disappeared.\n",
      "-----------------------------\n",
      "Can he be tracked with a free cell phone?\n",
      "-----------------------------\n",
      "The report is about ready to be published now.\n",
      "-----------------------------\n",
      "Mikael goes to get the photographs, and finds these two reporters won't talk.\n",
      "-----------------------------\n",
      "\"It sounded like gunshots\" he was told.\n",
      "-----------------------------\n",
      "[Nobody called the police?]\n",
      "-----------------------------\n",
      "The police investigate.\n",
      "-----------------------------\n",
      "Who has a motive?\n",
      "-----------------------------\n",
      "Should they reveal their sources?\n",
      "-----------------------------\n",
      "A man searches a rural cabin for something.\n",
      "-----------------------------\n",
      "The murder weapon was legal, registered to Bjurman.\n",
      "-----------------------------\n",
      "It has two fingerprints from Lisbeth!\n",
      "-----------------------------\n",
      "Her apartment is empty.\n",
      "-----------------------------\n",
      "Bjurman, the gun owner, is also dead!\n",
      "-----------------------------\n",
      "\"Trippel Mord\" says the headlines.\n",
      "-----------------------------\n",
      "Mikael believes Lisbeth is not guilty.\n",
      "-----------------------------\n",
      "Can anyone break into another person's computer and copy files?\n",
      "-----------------------------\n",
      "[Yes.\n",
      "-----------------------------\n",
      "Was it designed that way?]\n",
      "-----------------------------\n",
      "Miss Wu isn't reporter-friendly.\n",
      "-----------------------------\n",
      "\"Incompetent clowns\"?\n",
      "-----------------------------\n",
      "Can fingerprints alone be proof of guilt?\n",
      "-----------------------------\n",
      "[They show a person was there, but not the time.\n",
      "-----------------------------\n",
      "Mikael visits a man.\n",
      "-----------------------------\n",
      "\"Is this a prank?\"\n",
      "-----------------------------\n",
      "Mikael offers him a chance to explain.\n",
      "-----------------------------\n",
      "Lisbeth attacks a man, he hangs around to answer her questions.\n",
      "-----------------------------\n",
      "He admits to smuggling amphetamines from Talinn.\n",
      "-----------------------------\n",
      "Then his teen-age daughter returns home.\n",
      "-----------------------------\n",
      "There is another man who believes in Lisbeth's innocence: her boxing trainer.\n",
      "-----------------------------\n",
      "[Weight class?]\n",
      "-----------------------------\n",
      "A big blond man kidnaps Miss Wu (skills do not equalize weight class).\n",
      "-----------------------------\n",
      "A car chase for action.\n",
      "-----------------------------\n",
      "[No calls on the cell phone.]\n",
      "-----------------------------\n",
      "There is a fight in the shed.\n",
      "-----------------------------\n",
      "Will a fire destroy the evidence?\n",
      "-----------------------------\n",
      "No, they escape.\n",
      "-----------------------------\n",
      "The blond man had boxing training and felt no pain.\n",
      "-----------------------------\n",
      "One man talks to Mikael to keep his name secret.\n",
      "-----------------------------\n",
      "$$$$$$$$$$$$$$$$$$$$$$$$$$$$$$$\n",
      "101\n",
      "My first watch of Hostel: Part II on DVD.\n",
      "-----------------------------\n",
      ".\n",
      "-----------------------------\n",
      ".\n",
      "-----------------------------\n",
      "From Credit to Credit.\n",
      "-----------------------------\n",
      ".\n",
      "-----------------------------\n",
      ".\n",
      "-----------------------------\n",
      "my thoughts: -While the opening credits roll over what I assume to be a torturer, let me make it clear that I hated the first Hostel and Eli Roth in general.\n",
      "-----------------------------\n",
      ".\n",
      "-----------------------------\n",
      ".\n",
      "-----------------------------\n",
      "I've never liked any work he's done.\n",
      "-----------------------------\n",
      "-And the film begins.\n",
      "-----------------------------\n",
      ".\n",
      "-----------------------------\n",
      ".\n",
      "-----------------------------\n",
      "I very much miss the days when people actually put up subtitles when there was another language being spoken.\n",
      "-----------------------------\n",
      ".\n",
      "-----------------------------\n",
      ".\n",
      "-----------------------------\n",
      "-Hey.\n",
      "-----------------------------\n",
      ".\n",
      "-----------------------------\n",
      ".\n",
      "-----------------------------\n",
      "this interviewer is like a Russian Stockard Channing!\n",
      "-----------------------------\n",
      "ha.\n",
      "-----------------------------\n",
      "-It's bad luck being hooked up to an EKG when you're being accused of murder, eh?\n",
      "-----------------------------\n",
      "-Ouch.\n",
      "-----------------------------\n",
      "I thought you couldn't die in dreams.\n",
      "-----------------------------\n",
      "-He went on a massive vengeance spree and now he turns into a massive pansy?\n",
      "-----------------------------\n",
      "If the same events had happened to me, I'd WANT them to come looking for me.\n",
      "-----------------------------\n",
      "Home field advantage!\n",
      "-----------------------------\n",
      "-Chainsaw in a horror pic.\n",
      "-----------------------------\n",
      "Never a good idea.\n",
      "-----------------------------\n",
      "-Oh.\n",
      "-----------------------------\n",
      "Wow.\n",
      "-----------------------------\n",
      "That was.\n",
      "-----------------------------\n",
      "Ew.\n",
      "-----------------------------\n",
      "And.\n",
      "-----------------------------\n",
      "Cat.\n",
      "-----------------------------\n",
      "I must admit that was nice.\n",
      "-----------------------------\n",
      "-Hey, it's the poor man's Anthony Hopkins!\n",
      "-----------------------------\n",
      "-Oh.\n",
      "-----------------------------\n",
      "A penis.\n",
      "-----------------------------\n",
      "And Randy's little sister from the Scream trilogy (or not trilogy soon).\n",
      "-----------------------------\n",
      "-Uhhhh.\n",
      "-----------------------------\n",
      ".\n",
      "-----------------------------\n",
      ".\n",
      "-----------------------------\n",
      "so they can't even repair the penis transgression with a nude woman?\n",
      "-----------------------------\n",
      "Really?\n",
      "-----------------------------\n",
      "Lame.\n",
      "-----------------------------\n",
      "-Wow.\n",
      "-----------------------------\n",
      "Seriously.\n",
      "-----------------------------\n",
      "Put a few more clichés on one train, please.\n",
      "-----------------------------\n",
      "-Boy.\n",
      "-----------------------------\n",
      ".\n",
      "-----------------------------\n",
      ".\n",
      "-----------------------------\n",
      "I hope Randy's sister (yeah, still haven't caught her name in this) is either killed of quickly or becomes evil b/c I'm having a hard time liking her with that.\n",
      "-----------------------------\n",
      ".\n",
      "-----------------------------\n",
      ".\n",
      "-----------------------------\n",
      "erm.\n",
      "-----------------------------\n",
      ".\n",
      "-----------------------------\n",
      ".\n",
      "-----------------------------\n",
      "face.\n",
      "-----------------------------\n",
      "-\"Hot springs?\n",
      "-----------------------------\n",
      "That sounds so therapeutic.\"\n",
      "-----------------------------\n",
      "Ironic.\n",
      "-----------------------------\n",
      "What a lame set up, I'm sorry.\n",
      "-----------------------------\n",
      "-Wow.\n",
      "-----------------------------\n",
      "I haven't seen such poorly written dialogue in a wide release film since, probably, the Wicker Man remake.\n",
      "-----------------------------\n",
      "That's sad.\n",
      "-----------------------------\n",
      "-So, the men of Wisteria Lane (I mean.\n",
      "-----------------------------\n",
      ".\n",
      "-----------------------------\n",
      ".\n",
      "-----------------------------\n",
      "I don't watch Desperate Housewives) are interested in murdering American women?\n",
      "-----------------------------\n",
      "Couldn't they just drive downtown and grab a hooker?\n",
      "-----------------------------\n",
      "-Why isn't Viktor Krum on the Quidditch pitch?\n",
      "-----------------------------\n",
      "The Bulgarians will be angry.\n",
      "-----------------------------\n",
      "-I'm pretty sure all this blonde chick can do is stripper dance.\n",
      "-----------------------------\n",
      "Get some new moves, babe.\n",
      "-----------------------------\n",
      "-Was it necessary to look THAT menacing just to tie down a boat?\n",
      "-----------------------------\n",
      "-\"Let the games begin.\"\n",
      "-----------------------------\n",
      "About effing time.\n",
      "-----------------------------\n",
      "I'd like to see SOMEONE die here.\n",
      "-----------------------------\n",
      "Jeez.\n",
      "-----------------------------\n",
      "-Nice sickle!\n",
      "-----------------------------\n",
      "This should not be arousing.\n",
      "-----------------------------\n",
      "This should not be arousing.\n",
      "-----------------------------\n",
      "This should not be arousing.\n",
      "-----------------------------\n",
      "To begin with, I had mixed feelings about the first Hostel film.\n",
      "-----------------------------\n",
      "That film had its moments, but overall, I wasn't so sure that it was all that great.\n",
      "-----------------------------\n",
      "So I really didn't know how well I would receive this sequel.\n",
      "-----------------------------\n",
      "And overall, I  have lukewarm feelings about this one as well.\n",
      "-----------------------------\n",
      "The movie picks up exactly where the last one left off, and the first minutes of the film are good, but after that, the basic story is really the same as the first movie, except this one involves 3 females, rather than males.\n",
      "-----------------------------\n",
      "Three American girls who are studying abroad, are persuaded by a newly acquainted girl to go on a spa vacation in Slovakia.\n",
      "-----------------------------\n",
      "And though there is a little more back story about this \"torture club\", and how it works and who runs it, there's still not many new twists from that of the first Hostel.\n",
      "-----------------------------\n",
      "Like I said, the first few minutes of the film, in which Jay Hernandez reprises his role as the only survivor of the first film, are quite good.\n",
      "-----------------------------\n",
      "But after that sequence ends, the film returns to a slow pace, and really nothing much happens until the last half of the movie.\n",
      "-----------------------------\n",
      "I think that this film lacks some of the suspense and mystery that the first Hostel had, simply because the viewer knows what's going on.\n",
      "-----------------------------\n",
      "In the first film, the audience wasn't sure what was happening, who the bad guys were, or why they were torturing innocent people.\n",
      "-----------------------------\n",
      "Now, with all these questions pretty much being answered, the viewer mostly knows what's gonna happen.\n",
      "-----------------------------\n",
      "Yes, there are a few little twists, one of which I don't fully buy in to.\n",
      "-----------------------------\n",
      "I won't spoil it for the ones that haven't seen the film, but there is an almost complete \"role reversal' between two characters, which I thought was way too quick, and it seems too contrived in an attempt to be clever.\n",
      "-----------------------------\n",
      "The ending of the film would have been good, if not for the very stupid \"soccer\" game that breaks out between the kids at the last minute!\n",
      "-----------------------------\n",
      "And speaking of kids, I have to tip my hat to this film for at least not holding back.\n",
      "-----------------------------\n",
      "Yes, there is a death of a child shown in this film, and I have to give credit to any film that has the balls to do something like that.\n",
      "-----------------------------\n",
      "$$$$$$$$$$$$$$$$$$$$$$$$$$$$$$$\n",
      "102\n",
      "Marnie, 1964 film The story begins with a woman walking along railroad tracks.\n",
      "-----------------------------\n",
      "We learn there was a robbery of a safe, $9,967 is missing, the office manager gives her description.\n",
      "-----------------------------\n",
      "\"No references at all.\"\n",
      "-----------------------------\n",
      "[Subtle humor here.]\n",
      "-----------------------------\n",
      "\"She seemed so nice.\"\n",
      "-----------------------------\n",
      "We see the woman loading her suitcases, the placing one in a station.\n",
      "-----------------------------\n",
      "Mary Edgar now checks into a hotel where she is known.\n",
      "-----------------------------\n",
      "Then she returns to her mother.\n",
      "-----------------------------\n",
      "Money is for spending.\n",
      "-----------------------------\n",
      "Her mother doesn't like men.\n",
      "-----------------------------\n",
      "She plans to take in roomers.\n",
      "-----------------------------\n",
      "There is personal conflict between mother and daughter.\n",
      "-----------------------------\n",
      "[Does her mother seem too young?]\n",
      "-----------------------------\n",
      "Marnie has a bad dream.\n",
      "-----------------------------\n",
      "Later she applies for a new job.\n",
      "-----------------------------\n",
      "Do looks count?\n",
      "-----------------------------\n",
      "She is a young widow who wants responsibility.\n",
      "-----------------------------\n",
      "Mrs. Taylor gets the job.\n",
      "-----------------------------\n",
      "We see an office from the early 1960s.\n",
      "-----------------------------\n",
      "An ink blot on her sleeve?\n",
      "-----------------------------\n",
      "She can work on Saturdays.\n",
      "-----------------------------\n",
      "Mr. Rutland studied zoology.\n",
      "-----------------------------\n",
      "Female animals are often predators.\n",
      "-----------------------------\n",
      "A storm scares Mrs. Taylor.\n",
      "-----------------------------\n",
      "Is she also frightened of some colors?\n",
      "-----------------------------\n",
      "A tree limb breaks a window.\n",
      "-----------------------------\n",
      "They visit the Atlantic City racetrack.\n",
      "-----------------------------\n",
      "Some man watches her.\n",
      "-----------------------------\n",
      "Did he recognize her?\n",
      "-----------------------------\n",
      "They talk about their past.\n",
      "-----------------------------\n",
      "She meets the Rutland family.\n",
      "-----------------------------\n",
      "Back at work she stays after quitting time, then opens that desk drawer to learn the combination to the safe.\n",
      "-----------------------------\n",
      "The cleaning lady mops the floors.\n",
      "-----------------------------\n",
      "Mark Rutland knows who she is!\n",
      "-----------------------------\n",
      "She tells her story.\n",
      "-----------------------------\n",
      "[The monetary figures date this picture.]\n",
      "-----------------------------\n",
      "Rutland questions her about her past.\n",
      "-----------------------------\n",
      "They stop at a diner to talk.\n",
      "-----------------------------\n",
      "\"I can't let you go.\"\n",
      "-----------------------------\n",
      "Mark tells Marnie what he wants to do.\n",
      "-----------------------------\n",
      "[Is this credible?]\n",
      "-----------------------------\n",
      "\"If you love me let me go.\"\n",
      "-----------------------------\n",
      "\"I caught you.\"\n",
      "-----------------------------\n",
      "Six and a half carats for $42,000?\n",
      "-----------------------------\n",
      "Is he crazy too?\n",
      "-----------------------------\n",
      "\"There's nothing charming about squandering money.\"\n",
      "-----------------------------\n",
      "Someone snoops in Marnie's desk and learns about Strutts.\n",
      "-----------------------------\n",
      "Mark gets an unpleasant surprise on their honeymoon.\n",
      "-----------------------------\n",
      "\"Let me alone.\"\n",
      "-----------------------------\n",
      "Marnie says \"nothing happened\".\n",
      "-----------------------------\n",
      "Or does she need all the help she can get?\n",
      "-----------------------------\n",
      "\"You won't?\"\n",
      "-----------------------------\n",
      "\"I won't.\"\n",
      "-----------------------------\n",
      "Reading about marine life?\n",
      "-----------------------------\n",
      "\"I'm sorry, Marnie.\"\n",
      "-----------------------------\n",
      "Will Mark be able to defrost Marnie?\n",
      "-----------------------------\n",
      "The next morning she is gone.\n",
      "-----------------------------\n",
      "Afloat in the pool!\n",
      "-----------------------------\n",
      "They cut short their honeymoon to return home.\n",
      "-----------------------------\n",
      "Someone overhears their conversation.\n",
      "-----------------------------\n",
      "Marnie loves the black horse Mark bought.\n",
      "-----------------------------\n",
      "His sister-in-law Lil learns about asks about Marnie's mother in Baltimore.\n",
      "-----------------------------\n",
      "Is it just a gag?\n",
      "-----------------------------\n",
      "Mark learns more about the girl from his private detective.\n",
      "-----------------------------\n",
      "Why did Marnie have a nightmare?\n",
      "-----------------------------\n",
      "She describes her dream.\n",
      "-----------------------------\n",
      "Who makes those taps?\n",
      "-----------------------------\n",
      "Why is she cold?\n",
      "-----------------------------\n",
      "Will she read about her \"undiscovered self\"?\n",
      "-----------------------------\n",
      "Why does she react to a color?\n",
      "-----------------------------\n",
      "\"Help me!\"\n",
      "-----------------------------\n",
      "There is a party, a lot of guests arrive.\n",
      "-----------------------------\n",
      "There is a surprise guest.\n",
      "-----------------------------\n",
      "They discuss their options for solving Marnie's problems.\n",
      "-----------------------------\n",
      "The next day they ride to a fox hunt.\n",
      "-----------------------------\n",
      "The hounds catch the fox.\n",
      "-----------------------------\n",
      "Marnie returns alone, there is an accident taking a stone wall!\n",
      "-----------------------------\n",
      "Marnie grabs a pistol to end the horse's suffering.\n",
      "-----------------------------\n",
      "What will she do next?\n",
      "-----------------------------\n",
      "\"I'll take you home to your mother.\"\n",
      "-----------------------------\n",
      "There is conflict by the safe.\n",
      "-----------------------------\n",
      "Back home Mark asks Mrs. Edgar to tell the truth.\n",
      "-----------------------------\n",
      "He has learned the truth about her family.\n",
      "-----------------------------\n",
      "\"What happens next?\"\n",
      "-----------------------------\n",
      "She relives the past.\n",
      "-----------------------------\n",
      "\"I hit him with the stick.\"\n",
      "-----------------------------\n",
      "[Isn't this unintentionally funny?]\n",
      "-----------------------------\n",
      "Is the evil spell broken by this event?\n",
      "-----------------------------\n",
      "Berenice tells what happened decades earlier.\n",
      "-----------------------------\n",
      "This \"talking cure\" seems to work in this movie.\n",
      "-----------------------------\n",
      "\"What am I going to do?\"\n",
      "-----------------------------\n",
      "Mark promises a happy ending.\n",
      "-----------------------------\n",
      "Was this Hitchcock's worst movie?\n",
      "-----------------------------\n",
      "The actors only follow their direction.\n",
      "-----------------------------\n",
      "A \"message movie\" is usually a flop because the audience does not buy the message.\n",
      "-----------------------------\n",
      "This \"talking cure\" does not always work.\n",
      "-----------------------------\n",
      "[It seems like Pavlovian conditioning in associating one event with another.]\n",
      "-----------------------------\n",
      "Note the similarities to \"Psycho\".\n",
      "-----------------------------\n",
      "The fairy tale \"Sleeping Beauty\" features a cure when the Prince's kisses removed the curse that made her sick.\n",
      "-----------------------------\n",
      "Can this really happen in real life?\n",
      "-----------------------------\n",
      "Its not believable.\n",
      "-----------------------------\n",
      "This story came from a book by Winston Graham.\n",
      "-----------------------------\n",
      "$$$$$$$$$$$$$$$$$$$$$$$$$$$$$$$\n"
     ]
    }
   ],
   "source": [
    "for text in max_sent.text:\n",
    "    sents = custom_sent_tokenize(text)\n",
    "    print(len(sents))\n",
    "    for s in sents:\n",
    "        print(s)\n",
    "        print('-----------------------------')\n",
    "    print('$$$$$$$$$$$$$$$$$$$$$$$$$$$$$$$')"
   ]
  },
  {
   "cell_type": "code",
   "execution_count": null,
   "metadata": {},
   "outputs": [],
   "source": []
  }
 ],
 "metadata": {
  "kernelspec": {
   "display_name": "Python 3",
   "language": "python",
   "name": "python3"
  },
  "language_info": {
   "codemirror_mode": {
    "name": "ipython",
    "version": 3
   },
   "file_extension": ".py",
   "mimetype": "text/x-python",
   "name": "python",
   "nbconvert_exporter": "python",
   "pygments_lexer": "ipython3",
   "version": "3.5.2"
  }
 },
 "nbformat": 4,
 "nbformat_minor": 2
}
