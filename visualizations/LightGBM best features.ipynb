{
 "cells": [
  {
   "cell_type": "code",
   "execution_count": 4,
   "metadata": {},
   "outputs": [],
   "source": [
    "import os\n",
    "import json\n",
    "\n",
    "def get_data(folder_name):\n",
    "    x = []\n",
    "    y = []\n",
    "    positions = []\n",
    "    file_names = []\n",
    "\n",
    "    for file in os.listdir(folder_name):\n",
    "        if file.endswith(\".txt\"):\n",
    "            file_name = os.path.join(folder_name, file[:-4])\n",
    "\n",
    "            file_text = open(file_name + '.txt', encoding='utf8')\n",
    "            try:\n",
    "                file_truth = open(file_name + '.truth', encoding='utf8')\n",
    "\n",
    "                try:\n",
    "                    text = file_text.read()\n",
    "                    truth = json.load(file_truth)\n",
    "                    truth_changes = truth['changes']\n",
    "                    truth_positions = truth['positions']\n",
    "\n",
    "                    x.append(text)\n",
    "                    y.append(truth_changes)\n",
    "                    positions.append(truth_positions)\n",
    "                    file_names.append(file[:-4])\n",
    "                finally:\n",
    "                    file_truth.close()\n",
    "            finally:\n",
    "                file_text.close()\n",
    "\n",
    "    return x, y, positions, file_names"
   ]
  },
  {
   "cell_type": "code",
   "execution_count": 56,
   "metadata": {},
   "outputs": [],
   "source": [
    "TRAINING_DIR = 'data/training'\n",
    "train_x, train_y, positions, file_names = get_data(\n",
    "        TRAINING_DIR)"
   ]
  },
  {
   "cell_type": "code",
   "execution_count": 57,
   "metadata": {},
   "outputs": [],
   "source": [
    "VALIDATION_DIR = 'data/validation'\n",
    "validation_x, validation_y, validation_positions, validation_file_names = get_data(\n",
    "    VALIDATION_DIR\n",
    ")"
   ]
  },
  {
   "cell_type": "code",
   "execution_count": 58,
   "metadata": {},
   "outputs": [],
   "source": [
    "with_full_data_tfidf = True\n",
    "clf = LightGbmWithLogReg()\n",
    "\n",
    "train_x, train_y = train_x, train_y"
   ]
  },
  {
   "cell_type": "code",
   "execution_count": 66,
   "metadata": {},
   "outputs": [
    {
     "name": "stdout",
     "output_type": "stream",
     "text": [
      "Fitting w/ test...\n"
     ]
    }
   ],
   "source": [
    "max_features= 300000\n",
    "\n",
    "print('Fitting w/ test...')\n",
    "train_text = train_x\n",
    "\n",
    "all_text = train_x\n",
    "\n",
    "word_vectorizer = TfidfVectorizer(\n",
    "    sublinear_tf=True,\n",
    "    strip_accents='unicode',\n",
    "    analyzer='word',\n",
    "    token_pattern=r'\\w{1,}',\n",
    "    ngram_range=(1, 2),\n",
    "    max_features=max_features\n",
    ")\n",
    "\n",
    "word_vectorizer.fit(all_text)\n",
    "\n",
    "train_word_features = word_vectorizer.transform(train_text)\n",
    "\n",
    "\n",
    "char_vectorizer = TfidfVectorizer(\n",
    "    sublinear_tf=True,\n",
    "    strip_accents='unicode',\n",
    "    analyzer='char',\n",
    "    stop_words='english',\n",
    "    ngram_range=(2, 6),\n",
    "    max_features=max_features\n",
    ")\n",
    "\n",
    "char_vectorizer.fit(all_text)\n",
    "\n",
    "train_char_features = char_vectorizer.transform(train_text)\n",
    "\n",
    "feature_names = char_vectorizer.get_feature_names() + word_vectorizer.get_feature_names()\n",
    "train_features = hstack([train_char_features, train_word_features])"
   ]
  },
  {
   "cell_type": "code",
   "execution_count": 67,
   "metadata": {},
   "outputs": [
    {
     "name": "stdout",
     "output_type": "stream",
     "text": [
      "Coef shape: (1, 600000)\n",
      "Coef: [[ 0.0992513   0.0992513   0.0992513  ...  0.03408639 -0.0104395\n",
      "  -0.0104395 ]]\n"
     ]
    }
   ],
   "source": [
    "logreg_model = LogisticRegression(C=2.0, solver='sag')\n",
    "\n",
    "sfm = SelectFromModel(logreg_model, threshold=0.3)\n",
    "\n",
    "train_target = np.array(train_y)\n",
    "train_sparse_matrix = sfm.fit_transform(train_features, train_target)\n",
    "print('Coef shape:', sfm.estimator_.coef_.shape)\n",
    "print('Coef:', sfm.estimator_.coef_)"
   ]
  },
  {
   "cell_type": "code",
   "execution_count": 68,
   "metadata": {},
   "outputs": [],
   "source": [
    "coef = sfm.estimator_.coef_.reshape(-1)\n",
    "\n",
    "sorted_features = sorted(zip(map(lambda x: round(x, 4), coef), \n",
    "         feature_names), reverse=True)"
   ]
  },
  {
   "cell_type": "code",
   "execution_count": 69,
   "metadata": {},
   "outputs": [
    {
     "data": {
      "text/plain": [
       "143"
      ]
     },
     "execution_count": 69,
     "metadata": {},
     "output_type": "execute_result"
    }
   ],
   "source": [
    "best = [f for f in sorted_features if f[0]>=0.3]\n",
    "len(best)"
   ]
  },
  {
   "cell_type": "code",
   "execution_count": 72,
   "metadata": {},
   "outputs": [
    {
     "data": {
      "text/plain": [
       "[(0.5934, 'e'),\n",
       " (0.5908, 'considered'),\n",
       " (0.5294, 'answers'),\n",
       " (0.514, '? '),\n",
       " (0.5088, 'questions'),\n",
       " (0.5029, 'i have'),\n",
       " (0.4842, 'individuals'),\n",
       " (0.483, 'at all'),\n",
       " (0.4719, 'class'),\n",
       " (0.4665, 'it for'),\n",
       " (0.4581, 'i e'),\n",
       " (0.4319, 'e \"'),\n",
       " (0.4245, 'style'),\n",
       " (0.4228, 'g'),\n",
       " (0.4185, 'that doesn'),\n",
       " (0.4164, 'because the'),\n",
       " (0.416, 'since the'),\n",
       " (0.4057, 'reading'),\n",
       " (0.4057, '\" '),\n",
       " (0.4019, 'soviet'),\n",
       " (0.4003, 'important'),\n",
       " (0.3984, 'to answer'),\n",
       " (0.3917, 'christianity'),\n",
       " (0.3916, 'fiction'),\n",
       " (0.3907, 'what are'),\n",
       " (0.3903, 'kantian'),\n",
       " (0.3902, 'pra'),\n",
       " (0.3894, 'contact'),\n",
       " (0.3874, 'that they'),\n",
       " (0.3874, 'i use'),\n",
       " (0.387, 'was that'),\n",
       " (0.387, 'then the'),\n",
       " (0.3856, 'germany'),\n",
       " (0.3831, ' “'),\n",
       " (0.3823, 'square'),\n",
       " (0.38, 'org'),\n",
       " (0.3788, ' \"'),\n",
       " (0.3763, 'first time'),\n",
       " (0.374, 'game is'),\n",
       " (0.3731, 'onto the'),\n",
       " (0.3711, 'candidates'),\n",
       " (0.3701, 'prohibited'),\n",
       " (0.3668, 'power to'),\n",
       " (0.3663, 'public'),\n",
       " (0.363, 'als '),\n",
       " (0.3623, 'him in'),\n",
       " (0.3606, 'have the'),\n",
       " (0.3594, 'muhammad'),\n",
       " (0.3592, 'jesus'),\n",
       " (0.3583, 'com'),\n",
       " (0.3556, 'cars'),\n",
       " (0.3554, 'or two'),\n",
       " (0.3535, 'deemed'),\n",
       " (0.351, 's \"'),\n",
       " (0.3506, 'following'),\n",
       " (0.3503, 'that these'),\n",
       " (0.3498, 'popular'),\n",
       " (0.3498, 'le wo'),\n",
       " (0.3475, 'far'),\n",
       " (0.3463, 'suggested'),\n",
       " (0.3461, 'e g'),\n",
       " (0.345, 'kids'),\n",
       " (0.3428, 'allies'),\n",
       " (0.341, 'am'),\n",
       " (0.34, 'out the'),\n",
       " (0.3382, 'to change'),\n",
       " (0.3382, 'evidence'),\n",
       " (0.3363, 'than a'),\n",
       " (0.3361, 'the box'),\n",
       " (0.336, 'physical'),\n",
       " (0.3355, 'knows'),\n",
       " (0.3354, 'type of'),\n",
       " (0.3353, 'verses'),\n",
       " (0.335, 'should not'),\n",
       " (0.3347, 'advantage'),\n",
       " (0.3344, 'e\"'),\n",
       " (0.3343, 'knowing that'),\n",
       " (0.3338, 'things and'),\n",
       " (0.3336, 'town'),\n",
       " (0.333, 's\" '),\n",
       " (0.333, 'ed an'),\n",
       " (0.3329, '? i'),\n",
       " (0.3322, 'street'),\n",
       " (0.3317, 'peace be'),\n",
       " (0.3312, ' pra'),\n",
       " (0.3309, 'make it'),\n",
       " (0.3303, 'swers '),\n",
       " (0.33, 'not only'),\n",
       " (0.3296, 'that some'),\n",
       " (0.3281, '” '),\n",
       " (0.3274, 'leave the'),\n",
       " (0.3265, 'posts'),\n",
       " (0.3259, 'the public'),\n",
       " (0.3249, 'sites'),\n",
       " (0.3241, 'are just'),\n",
       " (0.3238, 'linguistic'),\n",
       " (0.3238, 'capable'),\n",
       " (0.3232, 'you were'),\n",
       " (0.3231, 'idere'),\n",
       " (0.3228, 'are the'),\n",
       " (0.3207, 'are so'),\n",
       " (0.3201, 'frustrating'),\n",
       " (0.3195, 'lic '),\n",
       " (0.3195, 'idered'),\n",
       " (0.3193, 'i h'),\n",
       " (0.3191, 'instances'),\n",
       " (0.3184, 'sidere'),\n",
       " (0.3175, ' i hav'),\n",
       " (0.317, 'are there'),\n",
       " (0.3169, 'jackson'),\n",
       " (0.3169, 'almost'),\n",
       " (0.3166, 'into account'),\n",
       " (0.3163, 'subsequent'),\n",
       " (0.3154, 'e wil'),\n",
       " (0.3153, 'you would'),\n",
       " (0.3148, 'conception'),\n",
       " (0.3142, 'doing the'),\n",
       " (0.3135, 'in which'),\n",
       " (0.3127, '\" a'),\n",
       " (0.3124, 'influenced'),\n",
       " (0.3123, 'al and'),\n",
       " (0.3122, 'weapons'),\n",
       " (0.3118, 'it again'),\n",
       " (0.3112, 'premise'),\n",
       " (0.3109, ' i h'),\n",
       " (0.3082, 'we ll'),\n",
       " (0.3069, 'nazi'),\n",
       " (0.3063, 'vice versa'),\n",
       " (0.3063, 'versa'),\n",
       " (0.3063, 'missing'),\n",
       " (0.3056, 'dere'),\n",
       " (0.3052, 'reveal'),\n",
       " (0.305, 's rea'),\n",
       " (0.3048, 'i am'),\n",
       " (0.3047, 'd an'),\n",
       " (0.3043, 'credit'),\n",
       " (0.3036, 'least'),\n",
       " (0.3034, 'i ve'),\n",
       " (0.3031, 'his mother'),\n",
       " (0.3016, 'line'),\n",
       " (0.3014, 'to what'),\n",
       " (0.3013, 'e will'),\n",
       " (0.3003, '.e')]"
      ]
     },
     "execution_count": 72,
     "metadata": {},
     "output_type": "execute_result"
    }
   ],
   "source": [
    "best_no_test"
   ]
  },
  {
   "cell_type": "code",
   "execution_count": 65,
   "metadata": {},
   "outputs": [
    {
     "data": {
      "text/plain": [
       "[(0.5708, 'considered'),\n",
       " (0.5571, 'e'),\n",
       " (0.5168, 'answers'),\n",
       " (0.5089, '? '),\n",
       " (0.4888, 'questions'),\n",
       " (0.4836, 'i have'),\n",
       " (0.4816, 'individuals'),\n",
       " (0.4669, 'class'),\n",
       " (0.4655, 'at all'),\n",
       " (0.4535, 'it for'),\n",
       " (0.4344, 'e \"'),\n",
       " (0.4336, 'i e'),\n",
       " (0.4171, 'that doesn'),\n",
       " (0.4163, 'style'),\n",
       " (0.4078, 'since the'),\n",
       " (0.4068, 'because the'),\n",
       " (0.4061, '\" '),\n",
       " (0.4016, 'g'),\n",
       " (0.3919, 'i use'),\n",
       " (0.3896, 'reading'),\n",
       " (0.3896, 'kantian'),\n",
       " (0.3883, 'soviet'),\n",
       " (0.3882, 'what are'),\n",
       " (0.3855, 'to answer'),\n",
       " (0.385, 'pra'),\n",
       " (0.3837, 'then the'),\n",
       " (0.3801, 'christianity'),\n",
       " (0.3789, ' \"'),\n",
       " (0.3783, 'was that'),\n",
       " (0.3754, ' “'),\n",
       " (0.3727, 'first time'),\n",
       " (0.372, 'fiction'),\n",
       " (0.3713, 'contact'),\n",
       " (0.3708, 'org'),\n",
       " (0.3692, 'game is'),\n",
       " (0.3675, 'important'),\n",
       " (0.3674, 'als '),\n",
       " (0.3667, 'germany'),\n",
       " (0.3665, 'that they'),\n",
       " (0.366, 'candidates'),\n",
       " (0.3644, 'onto the'),\n",
       " (0.3641, 'square'),\n",
       " (0.3608, 'deemed'),\n",
       " (0.3602, 'power to'),\n",
       " (0.3562, 'public'),\n",
       " (0.3556, 'that these'),\n",
       " (0.355, 'prohibited'),\n",
       " (0.3546, 'him in'),\n",
       " (0.3525, 'le wo'),\n",
       " (0.352, 'muhammad'),\n",
       " (0.3516, 'or two'),\n",
       " (0.3513, 's \"'),\n",
       " (0.3503, 'have the'),\n",
       " (0.3501, 'com'),\n",
       " (0.3471, 'cars'),\n",
       " (0.3416, 'jesus'),\n",
       " (0.3389, 'suggested'),\n",
       " (0.3379, 'popular'),\n",
       " (0.3378, 'the box'),\n",
       " (0.3363, 'advantage'),\n",
       " (0.3359, 'knowing that'),\n",
       " (0.3345, 'knows'),\n",
       " (0.3344, 'kids'),\n",
       " (0.3344, 'allies'),\n",
       " (0.3343, 'street'),\n",
       " (0.3342, 'out the'),\n",
       " (0.334, 'than a'),\n",
       " (0.3337, '? i'),\n",
       " (0.3332, 'should not'),\n",
       " (0.3331, 'into account'),\n",
       " (0.3314, 'e\"'),\n",
       " (0.3303, 'sites'),\n",
       " (0.3293, 'ed an'),\n",
       " (0.3289, 's\" '),\n",
       " (0.3284, 'to change'),\n",
       " (0.3284, ' pra'),\n",
       " (0.3283, 'town'),\n",
       " (0.3281, 'posts'),\n",
       " (0.3279, 'swers '),\n",
       " (0.3278, 'things and'),\n",
       " (0.3275, 'e g'),\n",
       " (0.3258, 'instances'),\n",
       " (0.3255, 'verses'),\n",
       " (0.3255, 'far'),\n",
       " (0.3254, 'not only'),\n",
       " (0.3251, 'type of'),\n",
       " (0.3249, 'evidence'),\n",
       " (0.3245, 'you were'),\n",
       " (0.324, 'are so'),\n",
       " (0.3235, '” '),\n",
       " (0.3235, 'make it'),\n",
       " (0.3224, 'frustrating'),\n",
       " (0.3223, 'idere'),\n",
       " (0.3206, 'i h'),\n",
       " (0.3201, 'following'),\n",
       " (0.3192, 'lic '),\n",
       " (0.3192, 'doing the'),\n",
       " (0.3189, 'idered'),\n",
       " (0.3187, 'physical'),\n",
       " (0.3186, 'am'),\n",
       " (0.318, 'peace be'),\n",
       " (0.3179, 'e wil'),\n",
       " (0.3178, 'subsequent'),\n",
       " (0.3175, 'sidere'),\n",
       " (0.3175, 'leave the'),\n",
       " (0.3175, 'are the'),\n",
       " (0.3166, ' i hav'),\n",
       " (0.3165, 'weapons'),\n",
       " (0.315, 'conception'),\n",
       " (0.3146, 'the public'),\n",
       " (0.3134, '\" a'),\n",
       " (0.313, 'that some'),\n",
       " (0.3124, 'jackson'),\n",
       " (0.3119, 'influenced'),\n",
       " (0.3119, 'capable'),\n",
       " (0.3117, ' i h'),\n",
       " (0.3113, 'vice versa'),\n",
       " (0.3113, 'versa'),\n",
       " (0.3097, 's rea'),\n",
       " (0.3097, 'al and'),\n",
       " (0.3091, 'fragments'),\n",
       " (0.3088, 'you would'),\n",
       " (0.3066, 'missing'),\n",
       " (0.3054, 'premise'),\n",
       " (0.305, 'linguistic'),\n",
       " (0.305, 'are just'),\n",
       " (0.3043, 'reveal'),\n",
       " (0.3036, 'e will'),\n",
       " (0.3034, 'credit'),\n",
       " (0.3032, 'to other'),\n",
       " (0.3032, 'dere'),\n",
       " (0.3032, 'd an'),\n",
       " (0.3026, 'it again'),\n",
       " (0.3004, 'of new'),\n",
       " (0.3002, 'we ll')]"
      ]
     },
     "execution_count": 65,
     "metadata": {},
     "output_type": "execute_result"
    }
   ],
   "source": [
    "best_with_test"
   ]
  },
  {
   "cell_type": "code",
   "execution_count": 79,
   "metadata": {},
   "outputs": [],
   "source": [
    "best_with_test_list = [t[1] for t in best_with_test]\n",
    "best_no_test_list = [t[1] for t in best_no_test]"
   ]
  },
  {
   "cell_type": "code",
   "execution_count": 81,
   "metadata": {},
   "outputs": [
    {
     "data": {
      "text/plain": [
       "{'fragments', 'of new', 'to other'}"
      ]
     },
     "execution_count": 81,
     "metadata": {},
     "output_type": "execute_result"
    }
   ],
   "source": [
    "set(best_with_test_list) - set(best_no_test_list)"
   ]
  },
  {
   "cell_type": "code",
   "execution_count": 82,
   "metadata": {},
   "outputs": [
    {
     "data": {
      "text/plain": [
       "{'.e',\n",
       " 'almost',\n",
       " 'are there',\n",
       " 'his mother',\n",
       " 'i am',\n",
       " 'i ve',\n",
       " 'in which',\n",
       " 'least',\n",
       " 'line',\n",
       " 'nazi',\n",
       " 'to what'}"
      ]
     },
     "execution_count": 82,
     "metadata": {},
     "output_type": "execute_result"
    }
   ],
   "source": [
    "set(best_no_test_list) - set(best_with_test_list)"
   ]
  },
  {
   "cell_type": "code",
   "execution_count": 77,
   "metadata": {},
   "outputs": [
    {
     "data": {
      "text/plain": [
       "<matplotlib.axes._subplots.AxesSubplot at 0x2730a820c18>"
      ]
     },
     "execution_count": 77,
     "metadata": {},
     "output_type": "execute_result"
    },
    {
     "data": {
      "image/png": "[encoded data removed]",
      "text/plain": [
       "<matplotlib.figure.Figure at 0x2730a0977f0>"
      ]
     },
     "metadata": {},
     "output_type": "display_data"
    }
   ],
   "source": [
    "import pandas as pd\n",
    "import matplotlib.pyplot as plt\n",
    "%matplotlib inline\n",
    "\n",
    "fig = plt.figure()\n",
    "ax1 = fig.add_subplot(1, 2, 1)\n",
    "ax2 = fig.add_subplot(1, 2, 2)\n",
    "\n",
    "df = pd.DataFrame(best_with_test[:10], columns=['score', 'feature'])\n",
    "df.plot(kind='bar', x='feature', ax=ax1)\n",
    "\n",
    "df2 = pd.DataFrame(best_no_test[:10], columns=['score', 'feature'])\n",
    "df2.plot(kind='bar', x='feature', ax=ax2)"
   ]
  },
  {
   "cell_type": "code",
   "execution_count": null,
   "metadata": {},
   "outputs": [],
   "source": []
  }
 ],
 "metadata": {
  "kernelspec": {
   "display_name": "Python 3",
   "language": "python",
   "name": "python3"
  },
  "language_info": {
   "codemirror_mode": {
    "name": "ipython",
    "version": 3
   },
   "file_extension": ".py",
   "mimetype": "text/x-python",
   "name": "python",
   "nbconvert_exporter": "python",
   "pygments_lexer": "ipython3",
   "version": "3.5.2"
  }
 },
 "nbformat": 4,
 "nbformat_minor": 2
}
