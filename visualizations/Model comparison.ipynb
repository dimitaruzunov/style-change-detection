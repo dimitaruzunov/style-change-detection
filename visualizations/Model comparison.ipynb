{
 "cells": [
  {
   "cell_type": "code",
   "execution_count": 56,
   "metadata": {},
   "outputs": [],
   "source": [
    "import pandas as pd\n",
    "df = pd.read_csv('../data/output/model_predictions.csv')"
   ]
  },
  {
   "cell_type": "code",
   "execution_count": 57,
   "metadata": {},
   "outputs": [
    {
     "data": {
      "text/html": [
       "<div>\n",
       "<style scoped>\n",
       "    .dataframe tbody tr th:only-of-type {\n",
       "        vertical-align: middle;\n",
       "    }\n",
       "\n",
       "    .dataframe tbody tr th {\n",
       "        vertical-align: top;\n",
       "    }\n",
       "\n",
       "    .dataframe thead th {\n",
       "        text-align: right;\n",
       "    }\n",
       "</style>\n",
       "<table border=\"1\" class=\"dataframe\">\n",
       "  <thead>\n",
       "    <tr style=\"text-align: right;\">\n",
       "      <th></th>\n",
       "      <th>text</th>\n",
       "      <th>actual</th>\n",
       "      <th>LightGBM with Logistic Regression</th>\n",
       "      <th>Meta Stacking</th>\n",
       "    </tr>\n",
       "  </thead>\n",
       "  <tbody>\n",
       "    <tr>\n",
       "      <th>0</th>\n",
       "      <td>Those are just speculation though. Ultimately,...</td>\n",
       "      <td>True</td>\n",
       "      <td>1.0</td>\n",
       "      <td>True</td>\n",
       "    </tr>\n",
       "    <tr>\n",
       "      <th>1</th>\n",
       "      <td>P.S. If this is the correct definition of Scru...</td>\n",
       "      <td>False</td>\n",
       "      <td>1.0</td>\n",
       "      <td>False</td>\n",
       "    </tr>\n",
       "    <tr>\n",
       "      <th>2</th>\n",
       "      <td>Tower Aggro The enemy towers are dangerous. Th...</td>\n",
       "      <td>True</td>\n",
       "      <td>1.0</td>\n",
       "      <td>True</td>\n",
       "    </tr>\n",
       "    <tr>\n",
       "      <th>3</th>\n",
       "      <td>To say 1=1 does not express identity because t...</td>\n",
       "      <td>True</td>\n",
       "      <td>1.0</td>\n",
       "      <td>True</td>\n",
       "    </tr>\n",
       "    <tr>\n",
       "      <th>4</th>\n",
       "      <td>The reason why this is important is that they ...</td>\n",
       "      <td>False</td>\n",
       "      <td>0.0</td>\n",
       "      <td>False</td>\n",
       "    </tr>\n",
       "  </tbody>\n",
       "</table>\n",
       "</div>"
      ],
      "text/plain": [
       "                                                text  actual  \\\n",
       "0  Those are just speculation though. Ultimately,...    True   \n",
       "1  P.S. If this is the correct definition of Scru...   False   \n",
       "2  Tower Aggro The enemy towers are dangerous. Th...    True   \n",
       "3  To say 1=1 does not express identity because t...    True   \n",
       "4  The reason why this is important is that they ...   False   \n",
       "\n",
       "   LightGBM with Logistic Regression  Meta Stacking  \n",
       "0                                1.0           True  \n",
       "1                                1.0          False  \n",
       "2                                1.0           True  \n",
       "3                                1.0           True  \n",
       "4                                0.0          False  "
      ]
     },
     "execution_count": 57,
     "metadata": {},
     "output_type": "execute_result"
    }
   ],
   "source": [
    "df.head()"
   ]
  },
  {
   "cell_type": "code",
   "execution_count": 58,
   "metadata": {},
   "outputs": [],
   "source": [
    "lgb = 'LightGBM with Logistic Regression'\n",
    "stacking = 'Meta Stacking'"
   ]
  },
  {
   "cell_type": "code",
   "execution_count": 59,
   "metadata": {},
   "outputs": [],
   "source": [
    "df[lgb].replace([0,1], [False, True], inplace=True)"
   ]
  },
  {
   "cell_type": "code",
   "execution_count": 60,
   "metadata": {},
   "outputs": [
    {
     "data": {
      "text/plain": [
       "(1492, 4)"
      ]
     },
     "execution_count": 60,
     "metadata": {},
     "output_type": "execute_result"
    }
   ],
   "source": [
    "df.shape"
   ]
  },
  {
   "cell_type": "code",
   "execution_count": 61,
   "metadata": {},
   "outputs": [
    {
     "data": {
      "text/plain": [
       "(1065, 4)"
      ]
     },
     "execution_count": 61,
     "metadata": {},
     "output_type": "execute_result"
    }
   ],
   "source": [
    "import numpy as np\n",
    "equal_predictions = df[df[lgb] == df[stacking]]\n",
    "equal_predictions.shape"
   ]
  },
  {
   "cell_type": "code",
   "execution_count": 62,
   "metadata": {},
   "outputs": [
    {
     "data": {
      "text/plain": [
       "(427, 4)"
      ]
     },
     "execution_count": 62,
     "metadata": {},
     "output_type": "execute_result"
    }
   ],
   "source": [
    "diff_predictions = df[df[lgb] != df[stacking]]\n",
    "diff_predictions.shape"
   ]
  },
  {
   "cell_type": "code",
   "execution_count": 63,
   "metadata": {},
   "outputs": [
    {
     "data": {
      "text/plain": [
       "(342, 4)"
      ]
     },
     "execution_count": 63,
     "metadata": {},
     "output_type": "execute_result"
    }
   ],
   "source": [
    "lgb_correct = diff_predictions[diff_predictions[lgb] == diff_predictions.actual]\n",
    "lgb_correct.shape"
   ]
  },
  {
   "cell_type": "code",
   "execution_count": 64,
   "metadata": {},
   "outputs": [
    {
     "data": {
      "text/plain": [
       "(85, 4)"
      ]
     },
     "execution_count": 64,
     "metadata": {},
     "output_type": "execute_result"
    }
   ],
   "source": [
    "stacking_correct = diff_predictions[diff_predictions[stacking] == diff_predictions.actual]\n",
    "stacking_correct.shape"
   ]
  },
  {
   "cell_type": "code",
   "execution_count": 65,
   "metadata": {},
   "outputs": [
    {
     "data": {
      "text/plain": [
       "(116, 4)"
      ]
     },
     "execution_count": 65,
     "metadata": {},
     "output_type": "execute_result"
    }
   ],
   "source": [
    "both_wrong = equal_predictions[equal_predictions[stacking] != equal_predictions.actual]\n",
    "both_wrong.shape"
   ]
  },
  {
   "cell_type": "code",
   "execution_count": 55,
   "metadata": {
    "scrolled": true
   },
   "outputs": [
    {
     "name": "stdout",
     "output_type": "stream",
     "text": [
      "Actual: True, Predicted: False\n",
      "--------\n",
      "So to clearly answer the question, this passage has little to do with the doctrines of conditional or unconditional security. The meaning is simply that these false teachers left the Church (the apostolic fellowship), and by doing so proved that they also left Christ; for to be one with Him is to be united to the Church, which is His Body. As a further note, the theological implications of this passage have more to say about the concept of apostolic succession than they do about Western soteriology. The real question it should cause us to ask is whether or not we are part of the Church that has remained faithful to the teachings of the apostles. The apostle's view was that we come to the Church and we remain in the Church because the Church is the Body of Christ, and to be one with Him is to be united to the Church, which is His Body (1 Corinthians 12:27; Romans 12:4). Thus there is no salvation outside the Church because there is no salvation apart from union with Christ's Body (which is the Church). This is very sacramental (mysterious) and involves how we are \"partakers of the divine nature\" (2 Peter 1:4). Trying to understand this passage within the worldview of Western Christian philosophy compartmentalizes salvation as a divine singular action that can occur outside of the Church if someone confesses Jesus as Lord and believes several historical facts about Jesus, or simply prays a special prayer. James reminds us that even the demons believe correct doctrine about God (James 2:19) and that \"faith apart from works is dead\" (2:26). This also echos the Leviticus scripture showing that God finds homosexuality detestable. \r\n",
      "\r\n",
      "The venerable Maximus explained, \"We do not directly control whether blessings will be showered upon us or chastisements will befall us, but our good and evil deeds most certainly depend on our will. It is not ours to choose whether we are in health or sickness, but we make determinations likely to lead to one or the other. Similarly, we cannot simply decide that we shall attain the kingdom of heaven or be plunged into the fire of Gehenna, but we can will to keep the commandments or transgress them.\" \r\n",
      "\r\n",
      "3 In the New Testament, there is Romans 1:26-27 \r\n",
      "\r\n",
      "Yes, you're absolutely right! Jesus never broke any bones. That's a fulfillment of the prophecy from Old Testament and it's written about in John. It's really not a denominational issue, per se, but a doctrinal issue or a simple preference. \r\n",
      "\r\n",
      "James White has broken it down into five primary reasons for sticking with the KJV:\n",
      "--------------------------------------------\n",
      "Actual: False, Predicted: True\n",
      "--------\n",
      "The problem with the argument is that you equivocated between the abstraction and the real; between the map — represented by The Möbius Strip, with capital letters — and the territory, which is a single instance of a strip of paper cut and twisted so that the most natural description of it in terms of metric spaces (as opposed to material science) is as a finite non-orientable 2-manifold of a certain well-known kind which we call \"Möbius strips\". This is especially clear when those very interesting properties are made with reference to imaginary physical models. What does it mean to cut the ideal Möbius strip down the middle, when you don't have manual access to it and it is in any case presumed to be eternal and unchanging? What you're doing is imagining the Platonic ideal as if it were a physical object, or at the very least imagining a model where certain details are fixed — the Platonic Möbius Strip That Is Made Of A Continuous Strip Of Some Quite Flat And Easily Cut Material — in order to express properties about physical models which you would somehow like to ascribe to the Platonic ideal. As to numerical representation: we do not use '0' to 'increment' to the next set of digits 1–9, any more than we use '1' to increment from \"1\" to \"11\". Instead, what we are doing is representing a number using a sequence of symbols, of which '0' is one of them; and the symbols represent the number of items in a hypothetical collection. We take the right-most digit to represent the number of items in a collection of individuals; the next right-most digit to represent the number of items in a collection of groupings of ten individuals, and so on. We may write 007 for 7, but this is redundant and uninformative; while the right-to-left nature of our convention makes the two zeroes in 700 more informative, because it causes the 7 to denote the number of groupings of one hundred in the numeral. But 0 is no more special here than any other digit; the 7 in 736 also represents 7 groupings of one hundred, together with other amounts of tens and individuals. Did one of the old ones create a unique artifact in one epoch, which still exists albeit in a seemingly unrelated location in another epoch? The mere continued existence of the artifact is a causal link. I have revised my answer somewhat, condensing in some places and adding other ideas, in response to your revision of your question. The colour red depends on our sensory apparatus, and the way our brains process the signals sent to us by our eyes. The colour red is an emergent experience, resulting from how our brains and sensory organs are structured. The notion of the colour red is a useful way of understanding our world, based on how we experience it. There's no reasonable way to deny that there are things which shine red light (light which we percieve as red); things which reflect red light (which preferentially reflect light which we percieve as red); and that red light falls roughly within some frequencies of light (we have constructed an entire theoretical apparatus for describing electromagnetism which is useful enough to build radio towers, lightning rods, x-ray machines, NMR machines, and lasers, and in this theory the light which we tend to percieve as red affects certain photosensitive apparatus in a specific way, and these predictions are borne out by experiment). The concept of 'red' is an extremely useful and robust way of describing how we experience the world. Some of your questions might be better addressed on Mathematics.SE. However, I would address the philosophical content of your question as follows.       ω2 := 0 ∪ ω ∪ 2ω ∪ 3ω ∪ 4ω ∪ ... We then proceed to define 2ω2 as the limit of all ordinals obtained by adding combinations of ω and finite integers to ω2; and then we may come to define 3ω2 and 4ω2; and eventually we may come up with the idea of defining ω3 as the limit of all of the ordinals involving combinations of ω2, ω, and finite integers. We may go about defining ω4, and ω5, until eventually after infinitely many iterations we are moved to define ωω, and ωω+1, ωω+2, ω2ω, and the process never really stops.\n",
      "--------------------------------------------\n",
      "Actual: True, Predicted: False\n",
      "--------\n",
      "The kids of my GF, 14 and 11 respectively, have that annoying tendancy to nag at each other when night time is coming. Teen girl likes to pout and teenage boy thinks himself as some kind of prima donna that like to be respected. TG: Oh this is the rabbit I draw (she goes to the screen and point that out to us) I'm bit at loss between strict authoritarian rule and too much laissez faire. I know the limit is between the two but I could not find my balance yet. I know that their mum should be doing the discpline but she has more of a friend's attitude toward them and sometimes just sometimes, she has a all or nothing attitude, yell or unconditional love. My aim is to get minimal peace of mind when I'm arriving at home, but if I want that minimal peace of mind, I have to intervene (or I think I do). One of my belief is I should intervene only if their behaviour are going out of hands and that they should find a way to deal with their issues or simply to be able to behave properly, despite the tiredness/emotional upheaval. If the therapist thinks a substance-abuse program might help, then send him to one. That's one option. That option will probably be covered by insurance as well. Discuss what his options are if he doesn't clean up his act: he can rent a flat with some friends, he can try to see if any of his friends or relatives will take him in, he can panhandle for the money, he can work for you for (minimum?) wage, he can apply for welfare, backpack across Europe, whatever. But mean it. He needs to be pulling all his weight or he needs to be somewhere else. This is one of the hardest, most distressing parts of parenting. We want to be wise, just and loving towards our children; we don't want to feel that we're being unloving. Many of us also feel some guilt as well, thinking Where have I failed in teaching my child a good work-ethic? If your husband is involved, you need to provide a united front here. You will need to support each other. A support system of friends, or a group-meeting type of thing might help, too. If you live in the US, the Substance Abuse and Mental Health Services Administration (SAMHSA) webpage and hotline can also be a source of good information. Edited to add: You might want to read and share an article about gaslighting, which might be going on here. I want to emphasize that you've got a limited amount of time in which to act here. A child becomes an adult at 18, and there's very little you can do after that to force change of any kind. This would take a lot of courage and fortitude to withstand the aftermath, but it might get your point across. I wish I could say this is normal and natural, but it's not, unless you're talking only about very intelligent kids, a subset of whom believes that they can get by on their smarts and their smarts alone. When they don't make the grade on smarts alone, it's always someone else's fault. Lies are common, and (maybe you haven't encountered this) so is cheating. And this they will justify by saying, \"I'm smarter than (X), and if I had studied, I'd have passed. So, cheating isn't wrong.\"\n",
      "--------------------------------------------\n",
      "Actual: True, Predicted: False\n",
      "--------\n",
      "Furthermore, the advantage comes from the one card knowledge, as opposed to something else like position. Having said all that, in the process of writing all this, I've also come up with countermoves for Player 1. Basically, they would need to play very aggressive pre-flop. You would need to make it very, very expensive for Player 2 to enter the pot. You need to avoid those board textures that give a lot of draws; best way to do that is raise, raise, raise pre-flop! Player 1 would NEVER just check or call pre-flop. In this process, they would win by blinding-off their opponent and giving Player 2 no cheap flops. The Ace is most valuable pre-flop. After that, the equity is more likely to drop than anything else. Player 2 would also consider playing other things that flop well and completely miss the range for Player 1. For example something like 8♥ 9♥ wouldn't be a terrible hand if the flop gives Player 2 multiple draws and/or a pair. If you can get to a board like that, then the hands are worthwhile to consider. \r\n",
      "\r\n",
      "And that's really where the advantage comes in - Player 2 can balance their range. But Player 1, with the Ace, is basically \"locked-in\" to their range! This is the angle that needs to be exploited in order for Player 2 to win. \r\n",
      "\r\n",
      "For the purposes of this answer, Player 1 is the one with the Ax hand. Player 2 is the player with the non-Ace hand. I'm also assuming that Player 2 has a random hand - in other words, sometimes their starting hand will also include an Ace. However, Player 2 narrowing down the range in this manner gives Player 1 a lot of information too! Player 2 needs to avoid a scenario where Player 1 always knows that they are on an Ace. So Player 2 would have to do some range balancing in order to throw Player 1 off their cards. \r\n",
      "\r\n",
      "Reading books about the subject (and practicing what they teach you) is a powerful and efficient way to learn. But when that situation comes along (and it comes quite often) where you don't know what to do (even after the hand is over), you need people to talk to about it. Brainstorming about controversial decisions in poker is more important than in any other field. At showdown, the player in the earliest position must show his hand. After that, it will go clock-wise (just like on a flop, turn or river) and all the other players have the option to show or muck. If they muck, they can't win the pot. Besides books and videos and tutorials, a very good choice is to be part of poker communities. Discussions about poker in these communities vary from beginner to expert, texas hold'em to razz and badugi and much more. So beeing active in such a community can only be good for you. You're right: this site definitely has potential... if only it would be more popular. \r\n",
      "\r\n",
      "PS: I rarely show my hand if I see that I'm beaten. The only situation I can think of when unvoluntarily showing your hand can be a good idea is if your opponent(s) is/are on tilt. If you have the chip-lead, it's a good idea to win a pot and show that you weren't bluffing. They'll be 100000 % sure that you're bluffing a big percentage of your hands, but those legit hands that you've shown will be so well locked in their head, that it will be very hard for them to play their small stack against you. The blinds will kill them eventually and you'll go up the payladder :) . \r\n",
      "\r\n",
      "So, to answer your question: if the guy with AK has the earlier position, he can't just muck and forfeit the pot. He MUST show his hand. I had a good experience with PokerStrategy when it comes to this. They have a section where you can post hands and have expert players evaluate them and give you feedback about what you did well and how you can improve your play when that particular situation occurs. This format just... works.\n",
      "--------------------------------------------\n",
      "Actual: False, Predicted: True\n",
      "--------\n",
      "I can only hypothesise about the origin of the root un- \"one\" in counting, but Wikipedia on Sexagesimal offers this interesting bit of information: Hebrew is an Afro-Asiatic language, whereas Proto-Germanic is an Indo-European language. We don't know of any relation between these two language families: if there is any, it is shrouded in the mists of remote prehistory. Barring very strong evidence to the contrary, any similarity between a Hebrew word and a Germanic word must therefore be ascribed to coincidence. From the literature, I get the impression that this is a complicated and possibly unsolved issue. Three relevant sources I found but don't have time to analyse now: Spanish and Italian split off from their common ancestor Latin a short time ago, no more than, say, 1500 years ago, so they still look very much alike. There was also much contact between them, and hence more borrowings and mutual influence. This does not apply to the Germanic and Italic branches of Proto-Indo-European, whose oldest common ancestor existed over 5000 years ago; and the two branches generally didn't undergo much reciprocal influence either. Apparently, there is something in our brains or speech apparatus that makes certain sounds less \"easy\" or pleasant to pronounce in combination with other forms as part of a phonological system (a language), or less easy to remember subconsciously. We are then inclined to various degrees to change pronunciation in a way that renders it closer to our common speech patterns. Do you have any information about the origin of the Hebrew word? Probably from a paper by Gamkrelidze and Ivanov, “The Early History of Indo-European Languages” in Scientific American of March 1990. In a/the language of Africans, the star named \"crab\", or, as some would have it, \"scorpion\". Ernoud & Meillet (1985) on domo (\"domus and domo are not related; domus is unrelated to the root *dem(ə2)- 'build'\"): The (unattested) Latin form was *habibilis, as mentioned by Sihler and noted by Tom Recht below. In classical Latin, this had been shortened to habilis, as it often happens with double syllables (called haplology). The h- had disappeared in certain French forms and dialects by the time the word was borrowed by English, and -lis regularly evolved into -le in French, resulting in English acquiring the word able. The Latin roots of the English word able are: The German branch (English, German, etc.) and the Italic branch (Latin, Spanish, Italian, etc.) of the Indo-European languages each split off from Proto-Indo-European, their common ancestor. This probably happened There is no other relation between the two branches (except reciprocal borrowings and influence). Both come/come and how come from the same Proto-Indo-European root (probably something like **kʷo-*, ), but they went through different phonological changes in the mean time, so they look very different now. He then proceeds to give a quotation from Plautus, where nepa is used metaphorically for an animal that could be either a kind of crab or a (water) scorpion. So how did a word related to \"one\" come to mean \"one twelfth\"? Meillet doesn't know: Nepida \"water-scorpion-like\" (apparently coined by Leach in 1818) comes from classical Latin nepa(s), meaning \"scorpion\" or \"crab\". The water scorpion or nepa is currently a genus under the family of nepidae, which in turn fall under the infraorder of nepomorpha; according to Wikipedia, it was so named or classified by Linnaeus himself in 1758. A map of the spread of the different Indo-European branches, from Wikipedia. Blue is Italic, Red is Germanic. Grey areas are mostly non-Indo-European. so perh. ὀ. σαββάτων \"after the sabbath day\", Ev.Matt.28.1.— It is possible that the -ilis part in -bilis is related to the separate suffix -ilis as used in habilis, but I cannot find a definitive etymology for -bilis. Unless we could prove that Hebrew borrowed it from Latin or Proto-Indo-European, or that Hebrew had the same morphemes, I think it is safest to assume that this is a coincidence, as it is usually the case with resemblances across different linguistic families. All etymological dictionaries (Walde, Meillet) say that uncia is derived from Proto-Indo-European **oi-nos*, \"one\", the same stem as Latin unus, \"one\", and English one/an. (This stem at some point replaced in many languages the older stem used for \"one\", sem-, as reflected in English (through Latin) simple, single, simultaneous, etc.) Walde on uncia suggests that its original meaning was \"unit\": The phenomenon you describe may be (adjacent) metathesis, which is not infrequent in phonology. Metathesis means \"swapping\". In linguistics, adjacent or local metathesis refers to the swapping of two adjacent sounds at some point in phonological developments. As to why it happens, I know of no formal explanation. It can be seen that this is in certain circumstances a natural inclination in us humans by the frequency with which (non-Italian) children pronounce spaghetti as pasghetti; the cause is that ps- does not normally occur in many languages, such as English and Dutch. Languages tend to sometimes transform borrowed foreign words to conform to native phonology (sound patterns). It just so happened that an uncia was taken as 1/12th of an as, which was the central coin of the new Roman system introduced ca. 280 BC and based on the older system of the aes grave (\"signed bronze\"), where one unit of aes grave equalled twelve unciae, small \"pellets\" of bronze. Note that the weight represented by the uncia was also an important quantity that was often used, so uncia and as were the two main coins, and also the smallest and the largest, respectively. As a unit of weight, uncia was also used outside coins. Coins like the denarius, worth ten asses, were only introduced later; the word de-n-arius simply means something like \"tenner\" (cf. English de-cimal).\n",
      "--------------------------------------------\n"
     ]
    }
   ],
   "source": [
    "for index, row in both_wrong.sample(5).iterrows():\n",
    "    pred = not row.actual\n",
    "    print(\"Actual: \" + str(row.actual) + \", Predicted: \" + str(pred))\n",
    "    print('--------')\n",
    "    print(row.text)\n",
    "    print('--------------------------------------------')"
   ]
  },
  {
   "cell_type": "code",
   "execution_count": null,
   "metadata": {},
   "outputs": [],
   "source": []
  }
 ],
 "metadata": {
  "kernelspec": {
   "display_name": "Python 3",
   "language": "python",
   "name": "python3"
  },
  "language_info": {
   "codemirror_mode": {
    "name": "ipython",
    "version": 3
   },
   "file_extension": ".py",
   "mimetype": "text/x-python",
   "name": "python",
   "nbconvert_exporter": "python",
   "pygments_lexer": "ipython3",
   "version": "3.5.2"
  }
 },
 "nbformat": 4,
 "nbformat_minor": 2
}
