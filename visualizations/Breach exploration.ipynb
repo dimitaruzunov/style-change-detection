{
 "cells": [
  {
   "cell_type": "code",
   "execution_count": 1,
   "metadata": {},
   "outputs": [],
   "source": [
    "import os\n",
    "import json\n",
    "\n",
    "def get_data(folder_name):\n",
    "    x = []\n",
    "    y = []\n",
    "    positions = []\n",
    "    file_names = []\n",
    "\n",
    "    for file in os.listdir(folder_name):\n",
    "        if file.endswith(\".txt\"):\n",
    "            file_name = os.path.join(folder_name, file[:-4])\n",
    "\n",
    "            file_text = open(file_name + '.txt', encoding='utf8')\n",
    "            try:\n",
    "                file_truth = open(file_name + '.truth', encoding='utf8')\n",
    "\n",
    "                try:\n",
    "                    text = file_text.read()\n",
    "                    truth = json.load(file_truth)\n",
    "                    truth_changes = len(truth['borders']) > 0\n",
    "                    truth_positions = truth['borders']\n",
    "\n",
    "                    x.append(text)\n",
    "                    y.append(truth_changes)\n",
    "                    positions.append(truth_positions)\n",
    "                    file_names.append(file[:-4])\n",
    "                finally:\n",
    "                    file_truth.close()\n",
    "            finally:\n",
    "                file_text.close()\n",
    "\n",
    "    return x, y, positions, file_names"
   ]
  },
  {
   "cell_type": "code",
   "execution_count": 2,
   "metadata": {},
   "outputs": [],
   "source": [
    "BREACH_DIR = '../data/breach'\n",
    "\n",
    "X, y, positions, file_names = get_data(BREACH_DIR)"
   ]
  },
  {
   "cell_type": "code",
   "execution_count": 3,
   "metadata": {},
   "outputs": [],
   "source": [
    "import pandas as pd\n",
    "df = pd.DataFrame(data={'text': X, 'label': y, 'filename': file_names, 'pos':positions})"
   ]
  },
  {
   "cell_type": "code",
   "execution_count": 11,
   "metadata": {},
   "outputs": [],
   "source": [
    "from nltk.tokenize import sent_tokenize, word_tokenize\n",
    "df['num_words'] = [len(word_tokenize(x)) for x in df.text]"
   ]
  },
  {
   "cell_type": "code",
   "execution_count": 12,
   "metadata": {},
   "outputs": [
    {
     "data": {
      "text/plain": [
       "count     187.000000\n",
       "mean     1823.427807\n",
       "std      1066.696427\n",
       "min       161.000000\n",
       "25%      1070.500000\n",
       "50%      1715.000000\n",
       "75%      2447.000000\n",
       "max      5724.000000\n",
       "Name: num_words, dtype: float64"
      ]
     },
     "execution_count": 12,
     "metadata": {},
     "output_type": "execute_result"
    }
   ],
   "source": [
    "df.num_words.describe()"
   ]
  },
  {
   "cell_type": "code",
   "execution_count": 10,
   "metadata": {},
   "outputs": [
    {
     "data": {
      "text/plain": [
       "4.194444444444445"
      ]
     },
     "execution_count": 10,
     "metadata": {},
     "output_type": "execute_result"
    }
   ],
   "source": [
    "df.label.tolist().count(True)/df.label.tolist().count(False)"
   ]
  },
  {
   "cell_type": "code",
   "execution_count": 9,
   "metadata": {},
   "outputs": [
    {
     "data": {
      "text/plain": [
       "0.1925133689839572"
      ]
     },
     "execution_count": 9,
     "metadata": {},
     "output_type": "execute_result"
    }
   ],
   "source": [
    "df.label.tolist().count(False)/len(df.label.tolist())"
   ]
  },
  {
   "cell_type": "code",
   "execution_count": 4,
   "metadata": {},
   "outputs": [
    {
     "data": {
      "text/plain": [
       "<matplotlib.axes._subplots.AxesSubplot at 0x7fefa884f240>"
      ]
     },
     "execution_count": 4,
     "metadata": {},
     "output_type": "execute_result"
    },
    {
     "data": {
      "image/png": "[encoded data removed]",
      "text/plain": [
       "<Figure size 432x288 with 1 Axes>"
      ]
     },
     "metadata": {},
     "output_type": "display_data"
    }
   ],
   "source": [
    "%matplotlib inline\n",
    "import matplotlib.pyplot as plt\n",
    "df.label.hist()"
   ]
  },
  {
   "cell_type": "code",
   "execution_count": 5,
   "metadata": {},
   "outputs": [
    {
     "data": {
      "text/plain": [
       "<matplotlib.axes._subplots.AxesSubplot at 0x7fefa6798358>"
      ]
     },
     "execution_count": 5,
     "metadata": {},
     "output_type": "execute_result"
    },
    {
     "data": {
      "image/png": "[encoded data removed]",
      "text/plain": [
       "<Figure size 432x288 with 1 Axes>"
      ]
     },
     "metadata": {},
     "output_type": "display_data"
    }
   ],
   "source": [
    "df['num_splits'] = [len(x) for x in df.pos]\n",
    "df.num_splits.hist()"
   ]
  },
  {
   "cell_type": "code",
   "execution_count": 6,
   "metadata": {},
   "outputs": [
    {
     "data": {
      "text/plain": [
       "count    187.000000\n",
       "mean       2.951872\n",
       "std        2.323983\n",
       "min        0.000000\n",
       "25%        1.000000\n",
       "50%        3.000000\n",
       "75%        4.000000\n",
       "max        7.000000\n",
       "Name: num_splits, dtype: float64"
      ]
     },
     "execution_count": 6,
     "metadata": {},
     "output_type": "execute_result"
    }
   ],
   "source": [
    "df.num_splits.describe()"
   ]
  },
  {
   "cell_type": "code",
   "execution_count": 7,
   "metadata": {},
   "outputs": [
    {
     "data": {
      "text/plain": [
       "count      187.000000\n",
       "mean      9902.614973\n",
       "std       5961.197490\n",
       "min        832.000000\n",
       "25%       5533.000000\n",
       "50%       8880.000000\n",
       "75%      13319.500000\n",
       "max      31848.000000\n",
       "Name: num_char, dtype: float64"
      ]
     },
     "execution_count": 7,
     "metadata": {},
     "output_type": "execute_result"
    }
   ],
   "source": [
    "df['num_char'] = [len(x) for x in df.text]\n",
    "df.num_char.describe()"
   ]
  },
  {
   "cell_type": "code",
   "execution_count": 12,
   "metadata": {},
   "outputs": [],
   "source": [
    "from nltk.tokenize import sent_tokenize\n",
    "def get_sentences(text, wordFilter=None):\n",
    "    sentences = []\n",
    "    paragraphs = [p for p in text.split('\\n') if p]\n",
    "    for paragraph in paragraphs:\n",
    "        if wordFilter:\n",
    "            sentences.extend([wordFilter(s) for s in sent_tokenize(paragraph)])\n",
    "        else:\n",
    "            sentences.extend(sent_tokenize(paragraph))\n",
    "\n",
    "    return sentences"
   ]
  },
  {
   "cell_type": "code",
   "execution_count": 13,
   "metadata": {},
   "outputs": [],
   "source": [
    "s = get_sentences(df.text[0])"
   ]
  },
  {
   "cell_type": "code",
   "execution_count": 14,
   "metadata": {},
   "outputs": [
    {
     "name": "stdout",
     "output_type": "stream",
     "text": [
      "Selecting Vines When selecting vines, there are a number of factors to consider, including their intended use, location in the landscape (ie., sun vs. shade), soil adaptability, type of support needed and color of bloom or foliage characteristics.\n",
      "---------------\n",
      "In addition, you also need to consider the maintenance requirement.\n",
      "---------------\n",
      "Will the vine need constant pruning to keep it within bounds?\n",
      "---------------\n",
      "Certain fast-growing vines, such as wisteria and common honeysuckle, require a great deal of routine pruning.\n",
      "---------------\n",
      "If allowed to spread without restraint, their profuse growth can cover trees and shrubs, reducing light and aeration within the canopy.\n",
      "---------------\n",
      "Kudzu is an excellent example of this.\n",
      "---------------\n",
      "Some vines can even injure or kill small trees by wrapping around them and cutting off nutrient flow.\n",
      "---------------\n",
      "Other vines, like Autumn Flowering Clematis, will disperse its seeds after flowering and may pop up in areas where they are not wanted.\n",
      "---------------\n",
      "Another important consideration is the amount of training a vine requires.\n",
      "---------------\n",
      "Some vines cling and climb naturally while others must be trained to follow the supporting wire, pole or other structure.\n",
      "---------------\n",
      "Therefore, the type of structure on which you intend to grow vines will influence the type of vine you choose.\n",
      "---------------\n",
      "Annual vines are very popular, such as Moonvine (Ipomoea alba), Black-eyed Susan Vine (Thunbergia alata), Sweet Pea (Lathyrus odorata), Purple Hyacinth Bean (Doliches lablab) and Morning Glory (Ipomoea spp.).\n",
      "---------------\n",
      "Annual vines are grown from seed each year.\n",
      "---------------\n",
      "Perennial vines persist from year to year.\n",
      "---------------\n",
      "Foliage may die back in winter and re-sprout in spring.\n",
      "---------------\n",
      "Perennial vine favorites include Trumpetcreeper (Campsis spp.\n",
      "---------------\n",
      "), Carolina Yellow Jessamine (Gelsemium sempervirens) and Clematis (Clematis hybrida).\n",
      "---------------\n",
      "See the table at the end of this publication for a listing of favorite vines and their characteristics.\n",
      "---------------\n",
      "Most vines, except those grown as groundcovers or in pots, require some type of support to grow.\n",
      "---------------\n",
      "Climbing vines can be separated into three basic types: clinging, twining and winding.\n",
      "---------------\n",
      "Clinging vines grasp onto a rough surface by means of rootlets or adhesive disks.\n",
      "---------------\n",
      "Climbing Fig (Ficus pumila), Confederate Jasmine (Trachelospermum jasminoides), Virginia Creeper (Pathenocissus quinquefolia) and Trumpet Creeper (Campsis radicans) are examples of clingers.\n",
      "---------------\n",
      "These types of vines are often used to cover solid surfaces, such as walls and fences.\n",
      "---------------\n",
      "However, clinging vines may loosen mortar between bricks over time and are difficult to remove once they become anchored.\n",
      "---------------\n",
      "Their methods of climbing also can damage wood by clinging too closely, preventing good air circulation and promoting wood decay.\n",
      "---------------\n",
      "Therefore, clinging vines are best suited for trellises or arbors away from solid surfaces.\n",
      "---------------\n",
      "Twining vines climb by encircling upright supports, such as poles, wires and lattice.\n",
      "---------------\n",
      "These vines require mechanical training to follow a support.\n",
      "---------------\n",
      "Examples are Mandevilla (Mandevilla splendens), Wisteria (Wisteria sinensis), Carolina Jessamine (Gelsemium sempervirens) and Morning Glory (Ipomoea spp.)\n",
      "---------------\n",
      "Winding vines climb by means of tendrils; slim, flexible, leafless stems that wrap around anything they contact.\n",
      "---------------\n",
      "One of the best known examples of this type of vine is the Muscadine Grape.\n",
      "---------------\n",
      "Ornamental vines that fall into this category include Maypop (Passiflora spp.\n",
      "---------------\n",
      "), Trumpet Honeysuckle (Lonicera sempervirens), Clematis (Clematis hybrida) and Cross Vine (Bignonia capreolata).\n",
      "---------------\n",
      "Location in the Landscape Most flowering vines require at least one-half day of sun to be vigorous and bloom abundantly.\n",
      "---------------\n",
      "Other vines, like variegated English ivy, will develop more vivid leaf patterns when provided a few hours of morning sun.\n",
      "---------------\n",
      "Vine Supports Twining and winding-type vines are supported best on wires, lattice, trellises and arbors.\n",
      "---------------\n",
      "They need some type of support to help them along when grown on a flat surface.\n",
      "---------------\n",
      "It is recommended that vine supports be constructed from sturdy, durable materials.\n",
      "---------------\n",
      "Always use treated lumber for outdoor structures.\n",
      "---------------\n",
      "Redwood, cedar and cypress are particularly durable in the outdoor environment.\n",
      "---------------\n",
      "A wood preservative/water seal applied after construction will also help prolong the life of the structure.\n",
      "---------------\n",
      "Wrought iron also makes an excellent support.\n",
      "---------------\n",
      "Use aluminum or copper wire to attach plants because it is resistant to rusting.\n",
      "---------------\n",
      "Fertilization If you plant during fall and winter, wait until spring to fertilize.\n",
      "---------------\n",
      "If you plant in the spring and summer, wait four to six weeks for the plants to get established before fertilizing.\n",
      "---------------\n",
      "Then apply a light sprinkling (about a tablespoon) of a complete balanced fertilizer, such as 8-8-8 or 10-10-10 around the perimeter of the planting hole and water it in.\n",
      "---------------\n",
      "Once the vines are established, fertilize in early spring and mid-summer with a complete fertilizer, such as 6-12-12 or 5-10-10 at a rate of 11/2 lb.\n",
      "---------------\n",
      "per 100 sq.\n",
      "---------------\n",
      "ft. A soil sample taken to your local county extension office for analysis can help you determine your soils precise nutritional needs.\n",
      "---------------\n",
      "Pruning Each vine is different, making them require different pruning from each other too.\n",
      "---------------\n",
      "Generally pruning is done to remove dead, diseased and damaged wood, to reduce size and to promote branching.\n",
      "---------------\n",
      "Vigorous vines, such as Honeysuckle, Trumpet Vine and Wisteria may require regular pruning to keep them confined to the support.\n",
      "---------------\n",
      "Usually, flowering vines should be pruned after they bloom.\n",
      "---------------\n",
      "This is particularly true for vines like wisteria and spring-flowering clematis that bloom on previous season's growth.\n",
      "---------------\n",
      "Pruning these vines before they bloom will reduce flowering.\n",
      "---------------\n",
      "The amount of pruning depends on how well and active the vine grows and the amount of foliage you desire.\n",
      "---------------\n",
      "Some vines will form layer upon layer of growth unless they are thinned out regularly.\n",
      "---------------\n",
      "Wisteria, for instance, requires annual pruning to reduce the amount of vegetative growth.\n",
      "---------------\n",
      "Removing approximately 1/3 of the canopy of wisteria each year will encourage the production of short spurs on the remaining branches which will bear next season's flowers.\n",
      "---------------\n",
      "In plant taxonomy, it is classified as Hydrangea anomala ssp.\n",
      "---------------\n",
      "petiolaris.\n",
      "---------------\n",
      "Whereas in layman's terms, it is simply known as climbing hydrangea, because well, it climbs.\n",
      "---------------\n",
      "Climbing hydrangeas are flowering deciduous vines.\n",
      "---------------\n",
      "These plants are true climbers, using \"holdfasts\" to scale walls.\n",
      "---------------\n",
      "Relatively few hardy flowering vines tolerate shade.\n",
      "---------------\n",
      "Climbing hydrangea plants are one of them.\n",
      "---------------\n",
      "In fact, in hot climates, climbing hydrangeas prefer a location with at least partial shade.\n",
      "---------------\n",
      "Elsewhere, they'll do just as well in more sunny areas.\n",
      "---------------\n",
      "Climbing hydrangeas that do get more sun tend to bloom more profusely.\n",
      "---------------\n",
      "The soil should be moist but well-drained and contain plenty of humus.\n",
      "---------------\n",
      "Newly planted climbing hydrangea vines are slow to grow and slow to bloom.\n",
      "---------------\n",
      "But there's not much you can do about it, other than to start out with the largest plants possible.\n",
      "---------------\n",
      "As for pruning in later years, Marie Iannotti writes, \"Once climbing hydrangeas become established, they can grow quite vigorously and may need occasional summer pruning to stay in bounds.\"\n",
      "---------------\n"
     ]
    }
   ],
   "source": [
    "for sent in s:\n",
    "    print(sent)\n",
    "    print('---------------')"
   ]
  },
  {
   "cell_type": "code",
   "execution_count": null,
   "metadata": {},
   "outputs": [],
   "source": []
  }
 ],
 "metadata": {
  "kernelspec": {
   "display_name": "Python 3",
   "language": "python",
   "name": "python3"
  },
  "language_info": {
   "codemirror_mode": {
    "name": "ipython",
    "version": 3
   },
   "file_extension": ".py",
   "mimetype": "text/x-python",
   "name": "python",
   "nbconvert_exporter": "python",
   "pygments_lexer": "ipython3",
   "version": "3.6.5"
  }
 },
 "nbformat": 4,
 "nbformat_minor": 2
}
