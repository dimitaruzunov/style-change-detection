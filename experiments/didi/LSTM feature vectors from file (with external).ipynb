{
 "cells": [
  {
   "cell_type": "code",
   "execution_count": 51,
   "metadata": {},
   "outputs": [],
   "source": [
    "import pandas as pd\n",
    "import numpy as np\n",
    "TRAINING_X_FILE = '../../data/feature_vectors/external_x.npy'\n",
    "TRAINING_Y_FILE = '../../data/feature_vectors/external_y.npy'\n",
    "\n",
    "TESTING_X_FILE = '../../data/feature_vectors/backup/train_x_sliding_chunks.npy'\n",
    "TESTING_Y_FILE = '../../data/feature_vectors/backup/train_y_sliding_chunks.npy'\n",
    "\n",
    "X_train = np.load(TRAINING_X_FILE)[:5000]\n",
    "y_train = np.load(TRAINING_Y_FILE)[:5000]\n",
    "\n",
    "X_test = np.load(TESTING_X_FILE)\n",
    "y_test = np.load(TESTING_Y_FILE)"
   ]
  },
  {
   "cell_type": "code",
   "execution_count": 52,
   "metadata": {},
   "outputs": [
    {
     "data": {
      "text/plain": [
       "(6500, 10, 171)"
      ]
     },
     "execution_count": 52,
     "metadata": {},
     "output_type": "execute_result"
    }
   ],
   "source": [
    "X_train = np.concatenate((X_train, X_test[:1500]))\n",
    "X_train.shape"
   ]
  },
  {
   "cell_type": "code",
   "execution_count": 53,
   "metadata": {},
   "outputs": [
    {
     "data": {
      "text/plain": [
       "(2980,)"
      ]
     },
     "execution_count": 53,
     "metadata": {},
     "output_type": "execute_result"
    }
   ],
   "source": [
    "y_test.shape"
   ]
  },
  {
   "cell_type": "code",
   "execution_count": 54,
   "metadata": {},
   "outputs": [
    {
     "data": {
      "text/plain": [
       "(6500,)"
      ]
     },
     "execution_count": 54,
     "metadata": {},
     "output_type": "execute_result"
    }
   ],
   "source": [
    "y_train = np.concatenate((y_train, y_test[:1500]))\n",
    "y_train.shape"
   ]
  },
  {
   "cell_type": "code",
   "execution_count": 55,
   "metadata": {},
   "outputs": [],
   "source": [
    "X_test = X_test[1500:]\n",
    "y_test = y_test[1500:]"
   ]
  },
  {
   "cell_type": "code",
   "execution_count": 56,
   "metadata": {},
   "outputs": [
    {
     "name": "stdout",
     "output_type": "stream",
     "text": [
      "(6500, 10, 171) (6500,)\n"
     ]
    }
   ],
   "source": [
    "print(X_train.shape, y_train.shape)"
   ]
  },
  {
   "cell_type": "code",
   "execution_count": 57,
   "metadata": {},
   "outputs": [
    {
     "name": "stdout",
     "output_type": "stream",
     "text": [
      "(1480, 10, 171) (1480,)\n"
     ]
    }
   ],
   "source": [
    "print(X_test.shape, y_test.shape)"
   ]
  },
  {
   "cell_type": "code",
   "execution_count": 58,
   "metadata": {},
   "outputs": [],
   "source": [
    "import numpy\n",
    "from keras.models import Sequential\n",
    "from keras.layers import Dense, Dropout\n",
    "from keras.layers import LSTM, GRU\n",
    "from keras.layers import Bidirectional, TimeDistributed, GlobalAveragePooling1D\n",
    "from keras.layers.embeddings import Embedding\n",
    "from keras.preprocessing import sequence\n",
    "from keras.callbacks import EarlyStopping\n",
    "from keras import regularizers\n",
    "from keras.optimizers import Adam, SGD\n",
    "# fix random seed for reproducibility\n",
    "numpy.random.seed(7)"
   ]
  },
  {
   "cell_type": "code",
   "execution_count": 59,
   "metadata": {},
   "outputs": [],
   "source": [
    "def get_callbacks():    \n",
    "    early_stopping = EarlyStopping(monitor='val_loss',\n",
    "                              min_delta=0,\n",
    "                              patience=2,\n",
    "                              verbose=1, mode='auto')\n",
    "    \n",
    "    return [early_stopping]"
   ]
  },
  {
   "cell_type": "code",
   "execution_count": 60,
   "metadata": {},
   "outputs": [],
   "source": [
    "epochs = 15\n",
    "batch_size = 64\n",
    "input_shape = (X_train.shape[1], X_train.shape[2])"
   ]
  },
  {
   "cell_type": "code",
   "execution_count": 61,
   "metadata": {},
   "outputs": [],
   "source": [
    "def get_model():\n",
    "    model = Sequential()\n",
    "    model.add(LSTM(256, dropout=0.5, return_sequences = True, input_shape=input_shape))\n",
    "    model.add(LSTM(256, dropout=0.5, return_sequences = False))\n",
    "    \n",
    "    model.add(Dropout(0.2))\n",
    "    model.add(Dense(256))\n",
    "    model.add(Activation('sigmoid'))\n",
    "    model.add(Dropout(0.2))\n",
    "\n",
    "    model.add(Dense(1, activation='sigmoid', kernel_regularizer=regularizers.l2(0.001)))\n",
    "    adam = Adam(lr=0.0001, beta_1=0.9, beta_2=0.999, epsilon=1e-8)\n",
    "    sgd = SGD(lr=0.01, momentum=0.01, decay=0.0001, nesterov=False)\n",
    "    model.compile(loss='binary_crossentropy', optimizer=adam, metrics=['accuracy'])\n",
    "\n",
    "    return model"
   ]
  },
  {
   "cell_type": "code",
   "execution_count": 67,
   "metadata": {},
   "outputs": [],
   "source": [
    "def get_model_pooling():\n",
    "    model = Sequential()\n",
    "    model.add(LSTM(256, dropout=0.2, return_sequences=True, input_shape=input_shape))\n",
    "    model.add(LSTM(256, dropout=0.2, return_sequences=True))\n",
    "    model.add(GlobalAveragePooling1D())\n",
    "    model.add(Dense(1, activation='sigmoid', kernel_regularizer=regularizers.l2(0.001)))\n",
    "    adam = Adam(lr=0.0001, beta_1=0.9, beta_2=0.999, epsilon=1e-8)\n",
    "    model.compile(loss='binary_crossentropy', optimizer=adam, metrics=['accuracy'])\n",
    "\n",
    "    return model"
   ]
  },
  {
   "cell_type": "code",
   "execution_count": 68,
   "metadata": {},
   "outputs": [
    {
     "name": "stdout",
     "output_type": "stream",
     "text": [
      "_________________________________________________________________\n",
      "Layer (type)                 Output Shape              Param #   \n",
      "=================================================================\n",
      "lstm_17 (LSTM)               (None, 10, 256)           438272    \n",
      "_________________________________________________________________\n",
      "lstm_18 (LSTM)               (None, 10, 256)           525312    \n",
      "_________________________________________________________________\n",
      "global_average_pooling1d_12  (None, 256)               0         \n",
      "_________________________________________________________________\n",
      "dense_13 (Dense)             (None, 1)                 257       \n",
      "=================================================================\n",
      "Total params: 963,841\n",
      "Trainable params: 963,841\n",
      "Non-trainable params: 0\n",
      "_________________________________________________________________\n"
     ]
    }
   ],
   "source": [
    "model = get_model_pooling()\n",
    "model.summary()"
   ]
  },
  {
   "cell_type": "code",
   "execution_count": 69,
   "metadata": {},
   "outputs": [
    {
     "name": "stdout",
     "output_type": "stream",
     "text": [
      "Train on 6500 samples, validate on 1480 samples\n",
      "Epoch 1/15\n",
      "6500/6500 [==============================] - 23s 4ms/step - loss: 0.6592 - acc: 0.6114 - val_loss: 0.6785 - val_acc: 0.6203\n",
      "Epoch 2/15\n",
      "6500/6500 [==============================] - 15s 2ms/step - loss: 0.6296 - acc: 0.6509 - val_loss: 0.6708 - val_acc: 0.5689\n",
      "Epoch 3/15\n",
      "6500/6500 [==============================] - 13s 2ms/step - loss: 0.6199 - acc: 0.6549 - val_loss: 0.6627 - val_acc: 0.6378\n",
      "Epoch 4/15\n",
      "6500/6500 [==============================] - 11s 2ms/step - loss: 0.6129 - acc: 0.6648 - val_loss: 0.6578 - val_acc: 0.6365\n",
      "Epoch 5/15\n",
      "6500/6500 [==============================] - 12s 2ms/step - loss: 0.6079 - acc: 0.6695 - val_loss: 0.6491 - val_acc: 0.6351\n",
      "Epoch 6/15\n",
      "6500/6500 [==============================] - 11s 2ms/step - loss: 0.5958 - acc: 0.6858 - val_loss: 0.6496 - val_acc: 0.6223\n",
      "Epoch 7/15\n",
      "6500/6500 [==============================] - 12s 2ms/step - loss: 0.5961 - acc: 0.6802 - val_loss: 0.6464 - val_acc: 0.6541\n",
      "Epoch 8/15\n",
      "6500/6500 [==============================] - 11s 2ms/step - loss: 0.5945 - acc: 0.6851 - val_loss: 0.6544 - val_acc: 0.6304\n",
      "Epoch 9/15\n",
      "6500/6500 [==============================] - 11s 2ms/step - loss: 0.5926 - acc: 0.6848 - val_loss: 0.6482 - val_acc: 0.6311\n",
      "Epoch 10/15\n",
      "6500/6500 [==============================] - 11s 2ms/step - loss: 0.5899 - acc: 0.6855 - val_loss: 0.6695 - val_acc: 0.5622\n",
      "Epoch 11/15\n",
      "6500/6500 [==============================] - 12s 2ms/step - loss: 0.5801 - acc: 0.6909 - val_loss: 0.6836 - val_acc: 0.5392\n",
      "Epoch 12/15\n",
      "6500/6500 [==============================] - 11s 2ms/step - loss: 0.5715 - acc: 0.6965 - val_loss: 0.6552 - val_acc: 0.6189\n",
      "Epoch 13/15\n",
      "6500/6500 [==============================] - 12s 2ms/step - loss: 0.5803 - acc: 0.6903 - val_loss: 0.6467 - val_acc: 0.6297\n",
      "Epoch 14/15\n",
      "6500/6500 [==============================] - 13s 2ms/step - loss: 0.5720 - acc: 0.6937 - val_loss: 0.6468 - val_acc: 0.6331\n",
      "Epoch 15/15\n",
      "6500/6500 [==============================] - 14s 2ms/step - loss: 0.5772 - acc: 0.6892 - val_loss: 0.6571 - val_acc: 0.6088\n",
      "Accuracy: 60.88%\n"
     ]
    }
   ],
   "source": [
    "model = get_model_pooling()\n",
    "history = model.fit(X_train, y_train, validation_data=(X_test, y_test), epochs=epochs, batch_size=batch_size)\n",
    "scores = model.evaluate(X_test, y_test, verbose=0)\n",
    "print(\"Accuracy: %.2f%%\" % (scores[1]*100))"
   ]
  },
  {
   "cell_type": "code",
   "execution_count": 23,
   "metadata": {},
   "outputs": [
    {
     "data": {
      "image/png": "[encoded data removed]",
      "text/plain": [
       "<matplotlib.figure.Figure at 0x2953528be10>"
      ]
     },
     "metadata": {},
     "output_type": "display_data"
    }
   ],
   "source": [
    "%matplotlib inline\n",
    "import matplotlib.pyplot as plt\n",
    "fig = plt.figure(figsize=(10,10))\n",
    "\n",
    "def plot_history(ax, history, metric):\n",
    "    rng = list(range(1, epochs + 1))\n",
    "    m, = ax.plot(rng, history[metric], 'b', label='Train ' + metric)\n",
    "    val_m, = ax.plot(rng, history['val_' + metric], 'r', label='Test ' + metric)\n",
    "    ax.legend(handles=[m, val_m])\n",
    "  \n",
    "  \n",
    "    ax.set_xlabel('Epoch', fontsize=24)\n",
    "    ax.set_ylabel(metric, fontsize=24)  \n",
    "\n",
    "ax1 = plt.subplot(211)\n",
    "ax2 = plt.subplot(212)\n",
    "\n",
    "plot_history(ax1, history.history, 'loss')\n",
    "plot_history(ax2, history.history, 'acc')"
   ]
  },
  {
   "cell_type": "code",
   "execution_count": 42,
   "metadata": {},
   "outputs": [
    {
     "name": "stdout",
     "output_type": "stream",
     "text": [
      "(12980, 10, 171) (12980,)\n",
      "Epoch 1/15\n",
      "1485/1485 [==============================] - 5s 4ms/step - loss: 0.6540 - acc: 0.6101\n",
      "Epoch 2/15\n",
      "1485/1485 [==============================] - 2s 1ms/step - loss: 0.6081 - acc: 0.6754\n",
      "Epoch 3/15\n",
      "1485/1485 [==============================] - 2s 1ms/step - loss: 0.5970 - acc: 0.6889\n",
      "Epoch 4/15\n",
      "1485/1485 [==============================] - 2s 1ms/step - loss: 0.5902 - acc: 0.7017\n",
      "Epoch 5/15\n",
      "1485/1485 [==============================] - 2s 1ms/step - loss: 0.5882 - acc: 0.6929\n",
      "Epoch 6/15\n",
      "1485/1485 [==============================] - 2s 1ms/step - loss: 0.5621 - acc: 0.7266\n",
      "Epoch 7/15\n",
      "1485/1485 [==============================] - 2s 1ms/step - loss: 0.5745 - acc: 0.7037\n",
      "Epoch 8/15\n",
      "1485/1485 [==============================] - 2s 1ms/step - loss: 0.5617 - acc: 0.7185\n",
      "Epoch 9/15\n",
      "1485/1485 [==============================] - 2s 2ms/step - loss: 0.5579 - acc: 0.7253\n",
      "Epoch 10/15\n",
      "1485/1485 [==============================] - 2s 1ms/step - loss: 0.5493 - acc: 0.7178\n",
      "Epoch 11/15\n",
      "1485/1485 [==============================] - 2s 1ms/step - loss: 0.5344 - acc: 0.7354\n",
      "Epoch 12/15\n",
      "1485/1485 [==============================] - 2s 1ms/step - loss: 0.5503 - acc: 0.7239\n",
      "Epoch 13/15\n",
      "1485/1485 [==============================] - 2s 2ms/step - loss: 0.5220 - acc: 0.7475\n",
      "Epoch 14/15\n",
      "1485/1485 [==============================] - 2s 2ms/step - loss: 0.5379 - acc: 0.7387\n",
      "Epoch 15/15\n",
      "1485/1485 [==============================] - 2s 2ms/step - loss: 0.5353 - acc: 0.7354\n",
      "495/495 [==============================] - 1s 1ms/step\n",
      "acc: 71.31%\n",
      "Epoch 1/15\n",
      "1485/1485 [==============================] - 5s 3ms/step - loss: 0.6713 - acc: 0.5980\n",
      "Epoch 2/15\n",
      "1485/1485 [==============================] - 2s 2ms/step - loss: 0.6202 - acc: 0.6714\n",
      "Epoch 3/15\n",
      "1485/1485 [==============================] - 2s 2ms/step - loss: 0.6102 - acc: 0.6714\n",
      "Epoch 4/15\n",
      "1485/1485 [==============================] - 2s 1ms/step - loss: 0.5821 - acc: 0.7030\n",
      "Epoch 5/15\n",
      "1485/1485 [==============================] - 2s 1ms/step - loss: 0.5689 - acc: 0.7158\n",
      "Epoch 6/15\n",
      "1485/1485 [==============================] - 2s 2ms/step - loss: 0.5626 - acc: 0.7253\n",
      "Epoch 7/15\n",
      "1485/1485 [==============================] - 2s 2ms/step - loss: 0.5579 - acc: 0.7219\n",
      "Epoch 8/15\n",
      "1485/1485 [==============================] - 2s 2ms/step - loss: 0.5563 - acc: 0.7165\n",
      "Epoch 9/15\n",
      "1485/1485 [==============================] - 2s 2ms/step - loss: 0.5478 - acc: 0.7205\n",
      "Epoch 10/15\n",
      "1485/1485 [==============================] - 2s 2ms/step - loss: 0.5389 - acc: 0.7401\n",
      "Epoch 11/15\n",
      "1485/1485 [==============================] - 2s 2ms/step - loss: 0.5369 - acc: 0.7562\n",
      "Epoch 12/15\n",
      "1485/1485 [==============================] - 2s 2ms/step - loss: 0.5430 - acc: 0.7434\n",
      "Epoch 13/15\n",
      "1485/1485 [==============================] - 2s 2ms/step - loss: 0.5403 - acc: 0.7401\n",
      "Epoch 14/15\n",
      "1485/1485 [==============================] - 2s 2ms/step - loss: 0.5245 - acc: 0.7448\n",
      "Epoch 15/15\n",
      "1485/1485 [==============================] - 2s 1ms/step - loss: 0.5124 - acc: 0.7488\n",
      "495/495 [==============================] - 1s 1ms/step\n",
      "acc: 75.15%\n",
      "Epoch 1/15\n",
      "1485/1485 [==============================] - 5s 4ms/step - loss: 0.6424 - acc: 0.6384\n",
      "Epoch 2/15\n",
      "1485/1485 [==============================] - 2s 2ms/step - loss: 0.6008 - acc: 0.6869\n",
      "Epoch 3/15\n",
      "1485/1485 [==============================] - 2s 2ms/step - loss: 0.5957 - acc: 0.6997\n",
      "Epoch 4/15\n",
      "1485/1485 [==============================] - 2s 2ms/step - loss: 0.5910 - acc: 0.6983\n",
      "Epoch 5/15\n",
      "1485/1485 [==============================] - 2s 2ms/step - loss: 0.5761 - acc: 0.7104\n",
      "Epoch 6/15\n",
      "1485/1485 [==============================] - 2s 2ms/step - loss: 0.5678 - acc: 0.7246\n",
      "Epoch 7/15\n",
      "1485/1485 [==============================] - 2s 2ms/step - loss: 0.5744 - acc: 0.7138\n",
      "Epoch 8/15\n",
      "1485/1485 [==============================] - 2s 2ms/step - loss: 0.5662 - acc: 0.7152\n",
      "Epoch 9/15\n",
      "1485/1485 [==============================] - 2s 2ms/step - loss: 0.5425 - acc: 0.7380\n",
      "Epoch 10/15\n",
      "1485/1485 [==============================] - 2s 2ms/step - loss: 0.5494 - acc: 0.7286\n",
      "Epoch 11/15\n",
      "1485/1485 [==============================] - 2s 2ms/step - loss: 0.5378 - acc: 0.7367\n",
      "Epoch 12/15\n",
      "1485/1485 [==============================] - 2s 2ms/step - loss: 0.5318 - acc: 0.7434\n",
      "Epoch 13/15\n",
      "1485/1485 [==============================] - 2s 2ms/step - loss: 0.5288 - acc: 0.7441\n",
      "Epoch 14/15\n",
      "1485/1485 [==============================] - 2s 2ms/step - loss: 0.5288 - acc: 0.7515\n",
      "Epoch 15/15\n",
      "1485/1485 [==============================] - 2s 2ms/step - loss: 0.5200 - acc: 0.7495\n",
      "495/495 [==============================] - 1s 2ms/step\n",
      "acc: 70.91%\n",
      "Epoch 1/15\n",
      "1485/1485 [==============================] - 5s 4ms/step - loss: 0.6507 - acc: 0.6114\n",
      "Epoch 2/15\n",
      "1485/1485 [==============================] - 2s 2ms/step - loss: 0.6289 - acc: 0.6552\n",
      "Epoch 3/15\n",
      "1485/1485 [==============================] - 2s 1ms/step - loss: 0.6109 - acc: 0.7024\n",
      "Epoch 4/15\n",
      "1485/1485 [==============================] - 2s 1ms/step - loss: 0.5840 - acc: 0.6997\n",
      "Epoch 5/15\n",
      "1485/1485 [==============================] - 2s 2ms/step - loss: 0.5760 - acc: 0.7152\n",
      "Epoch 6/15\n",
      "1485/1485 [==============================] - 2s 2ms/step - loss: 0.5740 - acc: 0.7172\n",
      "Epoch 7/15\n",
      "1485/1485 [==============================] - 2s 2ms/step - loss: 0.5703 - acc: 0.7266\n",
      "Epoch 8/15\n",
      "1485/1485 [==============================] - 2s 2ms/step - loss: 0.5509 - acc: 0.7421\n",
      "Epoch 9/15\n",
      "1485/1485 [==============================] - 2s 2ms/step - loss: 0.5696 - acc: 0.7212\n",
      "Epoch 10/15\n",
      "1485/1485 [==============================] - 2s 2ms/step - loss: 0.5499 - acc: 0.7354\n",
      "Epoch 11/15\n",
      "1485/1485 [==============================] - 2s 2ms/step - loss: 0.5458 - acc: 0.7380\n",
      "Epoch 12/15\n",
      "1485/1485 [==============================] - 2s 2ms/step - loss: 0.5519 - acc: 0.7286\n",
      "Epoch 13/15\n",
      "1485/1485 [==============================] - 2s 2ms/step - loss: 0.5359 - acc: 0.7481\n",
      "Epoch 14/15\n",
      "1485/1485 [==============================] - 2s 2ms/step - loss: 0.5354 - acc: 0.7380\n",
      "Epoch 15/15\n",
      "1485/1485 [==============================] - 2s 2ms/step - loss: 0.5311 - acc: 0.7448\n",
      "495/495 [==============================] - 1s 2ms/step\n",
      "acc: 74.75%\n",
      "73.03% (+/- 1.93%)\n"
     ]
    }
   ],
   "source": [
    "from sklearn.model_selection import StratifiedKFold\n",
    "kfold = StratifiedKFold(n_splits=4, shuffle=True, random_state=7)\n",
    "cvscores = []\n",
    "X=np.concatenate((X_train, X_test))\n",
    "y=np.concatenate((y_train, y_test))\n",
    "print(X.shape, y.shape)\n",
    "for train, test in kfold.split(X_test, y_test):\n",
    "  # create model\n",
    "    model = model = get_model()\n",
    "    # Fit the model\n",
    "    model.fit(X[train], y[train], epochs=epochs, batch_size=batch_size, verbose=1)\n",
    "    # evaluate the model\n",
    "    scores = model.evaluate(X[test], y[test], verbose=1)\n",
    "    print(\"%s: %.2f%%\" % (model.metrics_names[1], scores[1]*100))\n",
    "    cvscores.append(scores[1] * 100)\n",
    "print(\"%.2f%% (+/- %.2f%%)\" % (numpy.mean(cvscores), numpy.std(cvscores)))"
   ]
  },
  {
   "cell_type": "code",
   "execution_count": 70,
   "metadata": {},
   "outputs": [
    {
     "data": {
      "text/plain": [
       "array([[1],\n",
       "       [2],\n",
       "       [3]])"
      ]
     },
     "execution_count": 70,
     "metadata": {},
     "output_type": "execute_result"
    }
   ],
   "source": [
    "np.array([1, 2, 3]).reshape(-1, 1)"
   ]
  },
  {
   "cell_type": "code",
   "execution_count": null,
   "metadata": {},
   "outputs": [],
   "source": []
  }
 ],
 "metadata": {
  "kernelspec": {
   "display_name": "Python 3",
   "language": "python",
   "name": "python3"
  },
  "language_info": {
   "codemirror_mode": {
    "name": "ipython",
    "version": 3
   },
   "file_extension": ".py",
   "mimetype": "text/x-python",
   "name": "python",
   "nbconvert_exporter": "python",
   "pygments_lexer": "ipython3",
   "version": "3.5.2"
  }
 },
 "nbformat": 4,
 "nbformat_minor": 2
}
