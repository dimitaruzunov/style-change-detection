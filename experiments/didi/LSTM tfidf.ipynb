{
 "cells": [
  {
   "cell_type": "code",
   "execution_count": 4,
   "metadata": {},
   "outputs": [],
   "source": [
    "import os\n",
    "import json\n",
    "\n",
    "def get_data(folder_name):\n",
    "    x = []\n",
    "    y = []\n",
    "    positions = []\n",
    "    file_names = []\n",
    "\n",
    "    for file in os.listdir(folder_name):\n",
    "        if file.endswith(\".txt\"):\n",
    "            file_name = os.path.join(folder_name, file[:-4])\n",
    "\n",
    "            file_text = open(file_name + '.txt', encoding='utf8')\n",
    "            try:\n",
    "                file_truth = open(file_name + '.truth', encoding='utf8')\n",
    "\n",
    "                try:\n",
    "                    text = file_text.read()\n",
    "                    truth = json.load(file_truth)\n",
    "                    truth_changes = truth['changes']\n",
    "                    truth_positions = truth['positions']\n",
    "\n",
    "                    x.append(text)\n",
    "                    y.append(truth_changes)\n",
    "                    positions.append(truth_positions)\n",
    "                    file_names.append(file[:-4])\n",
    "                finally:\n",
    "                    file_truth.close()\n",
    "            finally:\n",
    "                file_text.close()\n",
    "\n",
    "    return x, y, positions, file_names"
   ]
  },
  {
   "cell_type": "code",
   "execution_count": 8,
   "metadata": {},
   "outputs": [],
   "source": [
    "import numpy as np\n",
    "TRAINING_DIR = '../../data/training'\n",
    "\n",
    "X, y, positions, file_names = get_data(\n",
    "    TRAINING_DIR)\n",
    "X=np.array(X)\n",
    "y=np.array(y)"
   ]
  },
  {
   "cell_type": "code",
   "execution_count": 9,
   "metadata": {},
   "outputs": [
    {
     "name": "stdout",
     "output_type": "stream",
     "text": [
      "(2980,) (2980,)\n"
     ]
    }
   ],
   "source": [
    "print(X.shape, y.shape)"
   ]
  },
  {
   "cell_type": "code",
   "execution_count": 43,
   "metadata": {},
   "outputs": [],
   "source": [
    "params = {\n",
    "            'model_description' : 'LightGBM with Logistic Regression',\n",
    "            'lighgbm' : {\n",
    "                'learning_rate': 0.1,\n",
    "                'application': 'binary',\n",
    "                'num_leaves': 31,\n",
    "                'verbosity': -1,\n",
    "                'metric': 'auc', # All our validation and calculation metrics are in terms of Accuracy ! I am adding another point of view with 'auc' for additional monitoring\n",
    "                'data_random_seed': 2,\n",
    "                'bagging_fraction': 0.8,\n",
    "                'feature_fraction': 0.6,\n",
    "                'nthread': 4,\n",
    "                'lambda_l1': 1,\n",
    "                'lambda_l2': 1,\n",
    "                'min_data_in_leaf' : 40,\n",
    "            },\n",
    "            'logistic_regression' : {\n",
    "                'inverse_strength' : 2.0,\n",
    "                'solver' : 'sag',\n",
    "                'minimum_feature_weight' : 0.3,\n",
    "            },\n",
    "            'optimal_rounds' : {\n",
    "                'is_multi_author' : 140,\n",
    "            },\n",
    "            'num_folds' : 5,\n",
    "            'cv_random_seed' : 777,\n",
    "            'max_features' : 30000\n",
    "}"
   ]
  },
  {
   "cell_type": "code",
   "execution_count": 44,
   "metadata": {},
   "outputs": [],
   "source": [
    "from nltk.tokenize import word_tokenize\n",
    "import numpy as np\n",
    "import math\n",
    "\n",
    "def split_seq(seq, depth, breath=None):\n",
    "    if not breath:\n",
    "        breath = round(len(seq) / depth)\n",
    "    newseq = []\n",
    "    splitsize = (1.0/breath)*len(seq)\n",
    "    for i in range(breath):\n",
    "        newseq.append(' '.join(seq[round(i*splitsize):round((i+1)*splitsize)]))\n",
    "    return newseq\n",
    "\n",
    "def get_segments(text, n, chunks, wordFilter=None, process=False):\n",
    "    words = word_tokenize(text)\n",
    "    segments = split_seq(words, n, chunks)\n",
    "    if wordFilter:\n",
    "        segments = [wordFilter(s) for s in segments]\n",
    "    return segments\n",
    "\n",
    "def get_sliding_words(text, n=None, chunks=None, wordFilter=None, process=False):\n",
    "    segments = []\n",
    "    words = word_tokenize(text)\n",
    "\n",
    "    mult = 3\n",
    "    if n:\n",
    "        n = min(n, len(words))\n",
    "        chunks = round(len(words) / n)\n",
    "    \n",
    "    parts = chunks * mult\n",
    "    part_size = round(len(words) / parts)\n",
    "    i = 0\n",
    "    for i in range(0, parts - mult):\n",
    "        segments.append(' '.join(words[i*part_size:i*part_size+mult*part_size]))\n",
    "    segments.append(' '.join(words[i*part_size:]))\n",
    "    \n",
    "    if wordFilter:\n",
    "        segments = [wordFilter(s) for s in segments]\n",
    "    \n",
    "    return segments\n",
    "\n",
    "def word_chunks(X, n=None, chunks=None, wordFilter=None, sliding=False, process=False):\n",
    "    chunker = get_sliding_words if sliding else get_segments\n",
    "    \n",
    "    return np.array([chunker(text, n, chunks, wordFilter, process) for text in X])"
   ]
  },
  {
   "cell_type": "code",
   "execution_count": 45,
   "metadata": {},
   "outputs": [],
   "source": [
    "X_word_chunks = word_chunks(X, chunks=3)"
   ]
  },
  {
   "cell_type": "code",
   "execution_count": 46,
   "metadata": {},
   "outputs": [
    {
     "data": {
      "text/plain": [
       "(2980, 3)"
      ]
     },
     "execution_count": 46,
     "metadata": {},
     "output_type": "execute_result"
    }
   ],
   "source": [
    "np.array(X_word_chunks).shape"
   ]
  },
  {
   "cell_type": "code",
   "execution_count": 47,
   "metadata": {},
   "outputs": [
    {
     "data": {
      "text/plain": [
       "TfidfVectorizer(analyzer='word', binary=False, decode_error='strict',\n",
       "        dtype=<class 'numpy.int64'>, encoding='utf-8', input='content',\n",
       "        lowercase=True, max_df=1.0, max_features=30000, min_df=1,\n",
       "        ngram_range=(1, 2), norm='l2', preprocessor=None, smooth_idf=True,\n",
       "        stop_words=None, strip_accents='unicode', sublinear_tf=True,\n",
       "        token_pattern='\\\\w{1,}', tokenizer=None, use_idf=True,\n",
       "        vocabulary=None)"
      ]
     },
     "execution_count": 47,
     "metadata": {},
     "output_type": "execute_result"
    }
   ],
   "source": [
    "from scipy.sparse import hstack\n",
    "from sklearn.feature_extraction.text import TfidfVectorizer\n",
    "\n",
    "word_vectorizer = TfidfVectorizer(\n",
    "    sublinear_tf=True,\n",
    "    strip_accents='unicode',\n",
    "    analyzer='word',\n",
    "    token_pattern=r'\\w{1,}',\n",
    "    ngram_range=(1, 2),\n",
    "    max_features=params['max_features']\n",
    ")\n",
    "\n",
    "word_vectorizer.fit(X)\n",
    "\n",
    "# char_vectorizer = TfidfVectorizer(\n",
    "#     sublinear_tf=True,\n",
    "#     strip_accents='unicode',\n",
    "#     analyzer='char',\n",
    "#     stop_words='english',\n",
    "#     ngram_range=(2, 6),\n",
    "#     max_features=params['max_features']\n",
    "# )\n",
    "\n",
    "# char_vectorizer.fit(X)"
   ]
  },
  {
   "cell_type": "code",
   "execution_count": 94,
   "metadata": {},
   "outputs": [],
   "source": [
    "from keras.preprocessing.text import Tokenizer\n",
    "num_words = 100000\n",
    "tokenizer = Tokenizer(num_words=num_words)\n",
    "tokenizer.fit_on_texts(X)"
   ]
  },
  {
   "cell_type": "code",
   "execution_count": 95,
   "metadata": {},
   "outputs": [],
   "source": [
    "from keras.preprocessing.sequence import pad_sequences\n",
    "def to_seq(X):\n",
    "    transformed = []\n",
    "    for i, doc in enumerate(X):\n",
    "        train_word_features = tokenizer.texts_to_sequences(doc)\n",
    "        transformed.append(pad_sequences(train_word_features, maxlen=num_words))\n",
    "    return transformed"
   ]
  },
  {
   "cell_type": "code",
   "execution_count": 96,
   "metadata": {},
   "outputs": [
    {
     "ename": "MemoryError",
     "evalue": "",
     "output_type": "error",
     "traceback": [
      "\u001b[1;31m---------------------------------------------------------------------------\u001b[0m",
      "\u001b[1;31mMemoryError\u001b[0m                               Traceback (most recent call last)",
      "\u001b[1;32m<ipython-input-96-cb052a2ce78c>\u001b[0m in \u001b[0;36m<module>\u001b[1;34m()\u001b[0m\n\u001b[1;32m----> 1\u001b[1;33m \u001b[0mX_transformed\u001b[0m \u001b[1;33m=\u001b[0m \u001b[0mnp\u001b[0m\u001b[1;33m.\u001b[0m\u001b[0marray\u001b[0m\u001b[1;33m(\u001b[0m\u001b[0mto_seq\u001b[0m\u001b[1;33m(\u001b[0m\u001b[0mX_word_chunks\u001b[0m\u001b[1;33m)\u001b[0m\u001b[1;33m)\u001b[0m\u001b[1;33m\u001b[0m\u001b[0m\n\u001b[0m",
      "\u001b[1;31mMemoryError\u001b[0m: "
     ]
    }
   ],
   "source": [
    "X_transformed = np.array(to_seq(X_word_chunks))"
   ]
  },
  {
   "cell_type": "code",
   "execution_count": null,
   "metadata": {},
   "outputs": [],
   "source": [
    "X_transformed.shape"
   ]
  },
  {
   "cell_type": "code",
   "execution_count": null,
   "metadata": {},
   "outputs": [],
   "source": [
    "from sklearn.model_selection import train_test_split\n",
    "X_train, X_test, y_train, y_test = train_test_split(X_transformed, y, test_size=0.2, random_state=42)\n",
    "y_train = np.array(y_train)\n",
    "y_test = np.array(y_test)"
   ]
  },
  {
   "cell_type": "code",
   "execution_count": null,
   "metadata": {},
   "outputs": [],
   "source": [
    "X_train.shape"
   ]
  },
  {
   "cell_type": "code",
   "execution_count": null,
   "metadata": {},
   "outputs": [],
   "source": [
    "import numpy\n",
    "from keras.models import Sequential\n",
    "from keras.layers import Dense, Dropout\n",
    "from keras.layers import LSTM, GRU, MaxPooling1D\n",
    "from keras.layers import AveragePooling1D, GlobalAveragePooling1D\n",
    "from keras.layers.embeddings import Embedding\n",
    "from keras.preprocessing import sequence\n",
    "from keras.callbacks import EarlyStopping\n",
    "from keras import regularizers\n",
    "from keras.optimizers import Adam, SGD\n",
    "# fix random seed for reproducibility\n",
    "numpy.random.seed(7)"
   ]
  },
  {
   "cell_type": "code",
   "execution_count": null,
   "metadata": {},
   "outputs": [],
   "source": [
    "epochs = 15\n",
    "batch_size = 64\n",
    "input_shape = (X_train.shape[1], X_train.shape[2])"
   ]
  },
  {
   "cell_type": "code",
   "execution_count": null,
   "metadata": {},
   "outputs": [],
   "source": [
    "def get_model():\n",
    "    model = Sequential()\n",
    "    model.add(LSTM(128, dropout=0.2, return_sequences = False, input_shape=input_shape))\n",
    "    #model.add(LSTM(128, dropout=0.2, return_sequences = False))\n",
    "    #model.add(Dense(256, activation='relu'))\n",
    "    #model.add(Dropout(0.2))\n",
    "    model.add(Dense(1, activation='sigmoid'))\n",
    "                    #, kernel_regularizer=regularizers.l2(0.001)))\n",
    "    adam = Adam(lr=0.0001, beta_1=0.9, beta_2=0.999, epsilon=1e-8)\n",
    "    sgd = SGD(lr=0.01, momentum=0.01, decay=0.0001, nesterov=False)\n",
    "    model.compile(loss='binary_crossentropy', optimizer=adam, metrics=['accuracy'])\n",
    "\n",
    "    return model"
   ]
  },
  {
   "cell_type": "code",
   "execution_count": null,
   "metadata": {},
   "outputs": [],
   "source": [
    "model = get_model()\n",
    "model.summary()"
   ]
  },
  {
   "cell_type": "code",
   "execution_count": null,
   "metadata": {},
   "outputs": [],
   "source": [
    "model = get_model()\n",
    "history = model.fit(X_train, y_train, validation_data=(X_test, y_test), \n",
    "                    #callbacks=get_callbacks(), \n",
    "                    epochs=epochs, batch_size=batch_size)\n",
    "scores = model.evaluate(X_test, y_test, verbose=0)\n",
    "print(\"Accuracy: %.2f%%\" % (scores[1]*100))"
   ]
  },
  {
   "cell_type": "code",
   "execution_count": 118,
   "metadata": {},
   "outputs": [
    {
     "name": "stdout",
     "output_type": "stream",
     "text": [
      "acc: 65.28%\n",
      "acc: 65.01%\n",
      "acc: 62.77%\n",
      "acc: 63.31%\n",
      "64.09% (+/- 1.08%)\n"
     ]
    }
   ],
   "source": [
    "from sklearn.model_selection import StratifiedKFold\n",
    "kfold = StratifiedKFold(n_splits=4, shuffle=True, random_state=7)\n",
    "cvscores = []\n",
    "for train, test in kfold.split(X, y):\n",
    "  # create model\n",
    "    model = get_model()\n",
    "    # Fit the model\n",
    "    history = model.fit(X[train], y[train], \n",
    "                        #callbacks=get_callbacks(), \n",
    "                        epochs=epochs, batch_size=batch_size, verbose=0)\n",
    "    # evaluate the model\n",
    "    scores = model.evaluate(X[test], y[test], verbose=0)\n",
    "    print(\"%s: %.2f%%\" % (model.metrics_names[1], scores[1]*100))\n",
    "    cvscores.append(scores[1] * 100)\n",
    "print(\"%.2f%% (+/- %.2f%%)\" % (numpy.mean(cvscores), numpy.std(cvscores)))"
   ]
  },
  {
   "cell_type": "code",
   "execution_count": null,
   "metadata": {},
   "outputs": [],
   "source": [
    "64.90% (+/- 1.08%)"
   ]
  },
  {
   "cell_type": "code",
   "execution_count": 117,
   "metadata": {},
   "outputs": [
    {
     "data": {
      "image/png": "[encoded data removed]",
      "text/plain": [
       "<matplotlib.figure.Figure at 0x1fd4c54a978>"
      ]
     },
     "metadata": {},
     "output_type": "display_data"
    }
   ],
   "source": [
    "%matplotlib inline\n",
    "import matplotlib.pyplot as plt\n",
    "fig = plt.figure(figsize=(10,10))\n",
    "\n",
    "def plot_history(ax, history, metric):\n",
    "    rng = list(range(1, epochs + 1))\n",
    "    m, = ax.plot(rng, history[metric], 'b', label='Train ' + metric)\n",
    "    val_m, = ax.plot(rng, history['val_' + metric], 'r', label='Test ' + metric)\n",
    "    ax.legend(handles=[m, val_m])\n",
    "  \n",
    "  \n",
    "    ax.set_xlabel('Epoch', fontsize=24)\n",
    "    ax.set_ylabel(metric, fontsize=24)  \n",
    "\n",
    "ax1 = plt.subplot(211)\n",
    "ax2 = plt.subplot(212)\n",
    "\n",
    "plot_history(ax1, history.history, 'loss')\n",
    "plot_history(ax2, history.history, 'acc')"
   ]
  },
  {
   "cell_type": "code",
   "execution_count": null,
   "metadata": {},
   "outputs": [],
   "source": []
  }
 ],
 "metadata": {
  "kernelspec": {
   "display_name": "Python 3",
   "language": "python",
   "name": "python3"
  },
  "language_info": {
   "codemirror_mode": {
    "name": "ipython",
    "version": 3
   },
   "file_extension": ".py",
   "mimetype": "text/x-python",
   "name": "python",
   "nbconvert_exporter": "python",
   "pygments_lexer": "ipython3",
   "version": "3.5.2"
  }
 },
 "nbformat": 4,
 "nbformat_minor": 2
}
